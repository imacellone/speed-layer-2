{
 "cells": [
  {
   "cell_type": "code",
   "execution_count": 1,
   "id": "72a7aa9d",
   "metadata": {},
   "outputs": [],
   "source": [
    "import pymongo"
   ]
  },
  {
   "cell_type": "code",
   "execution_count": 2,
   "id": "ad8cc12f",
   "metadata": {},
   "outputs": [
    {
     "name": "stdout",
     "output_type": "stream",
     "text": [
      "Collecting imblearn\n",
      "  Downloading imblearn-0.0-py2.py3-none-any.whl (1.9 kB)\n",
      "Collecting imbalanced-learn\n",
      "  Downloading imbalanced_learn-0.8.0-py3-none-any.whl (206 kB)\n",
      "\u001b[K     |████████████████████████████████| 206 kB 6.1 MB/s eta 0:00:01\n",
      "\u001b[?25hRequirement already satisfied: scipy>=0.19.1 in /opt/conda/lib/python3.8/site-packages (from imbalanced-learn->imblearn) (1.6.2)\n",
      "Requirement already satisfied: numpy>=1.13.3 in /opt/conda/lib/python3.8/site-packages (from imbalanced-learn->imblearn) (1.20.1)\n",
      "Requirement already satisfied: joblib>=0.11 in /opt/conda/lib/python3.8/site-packages (from imbalanced-learn->imblearn) (1.0.1)\n",
      "Requirement already satisfied: scikit-learn>=0.24 in /opt/conda/lib/python3.8/site-packages (from imbalanced-learn->imblearn) (0.24.1)\n",
      "Requirement already satisfied: threadpoolctl>=2.0.0 in /opt/conda/lib/python3.8/site-packages (from scikit-learn>=0.24->imbalanced-learn->imblearn) (2.1.0)\n",
      "Installing collected packages: imbalanced-learn, imblearn\n",
      "Successfully installed imbalanced-learn-0.8.0 imblearn-0.0\n"
     ]
    }
   ],
   "source": [
    "!pip install imblearn"
   ]
  },
  {
   "cell_type": "code",
   "execution_count": 3,
   "id": "5fa3ba15",
   "metadata": {},
   "outputs": [],
   "source": [
    "import pandas as pd\n",
    "import seaborn as sns\n",
    "import matplotlib.pyplot as plt\n",
    "import numpy as np\n",
    "from sklearn.linear_model import LogisticRegression\n",
    "from sklearn.model_selection import train_test_split\n",
    "from sklearn.metrics import accuracy_score, confusion_matrix, classification_report\n",
    "from imblearn.under_sampling import NearMiss\n",
    "from imblearn.over_sampling import SMOTE\n",
    "from pymongo import MongoClient"
   ]
  },
  {
   "cell_type": "code",
   "execution_count": 4,
   "id": "670e3490",
   "metadata": {},
   "outputs": [],
   "source": [
    "sns.set()"
   ]
  },
  {
   "cell_type": "code",
   "execution_count": 5,
   "id": "146027ad",
   "metadata": {},
   "outputs": [],
   "source": [
    "#Adicionando conexão com mongo\n",
    "client = MongoClient(\"mongodb\", 27017)"
   ]
  },
  {
   "cell_type": "code",
   "execution_count": 6,
   "id": "dd324323",
   "metadata": {},
   "outputs": [],
   "source": [
    "#Carregando database\n",
    "db = client.raw"
   ]
  },
  {
   "cell_type": "code",
   "execution_count": 7,
   "id": "7f8071cb",
   "metadata": {},
   "outputs": [],
   "source": [
    "#Carregando Collection\n",
    "dados = db.adults"
   ]
  },
  {
   "cell_type": "code",
   "execution_count": 8,
   "id": "0a28dd29",
   "metadata": {},
   "outputs": [],
   "source": [
    "#Gerando cursor com toda a collection\n",
    "cursor = dados.find()"
   ]
  },
  {
   "cell_type": "code",
   "execution_count": 9,
   "id": "9510d8c6",
   "metadata": {},
   "outputs": [],
   "source": [
    "#Gerando um Dataframe do Panda\n",
    "df = pd.DataFrame(list(cursor))"
   ]
  },
  {
   "cell_type": "code",
   "execution_count": 10,
   "id": "f58e56ef",
   "metadata": {},
   "outputs": [
    {
     "data": {
      "text/html": [
       "<div>\n",
       "<style scoped>\n",
       "    .dataframe tbody tr th:only-of-type {\n",
       "        vertical-align: middle;\n",
       "    }\n",
       "\n",
       "    .dataframe tbody tr th {\n",
       "        vertical-align: top;\n",
       "    }\n",
       "\n",
       "    .dataframe thead th {\n",
       "        text-align: right;\n",
       "    }\n",
       "</style>\n",
       "<table border=\"1\" class=\"dataframe\">\n",
       "  <thead>\n",
       "    <tr style=\"text-align: right;\">\n",
       "      <th></th>\n",
       "      <th>_id</th>\n",
       "      <th>income</th>\n",
       "      <th>finalWeight</th>\n",
       "      <th>education</th>\n",
       "      <th>occupation</th>\n",
       "      <th>hoursPerWeek</th>\n",
       "      <th>race</th>\n",
       "      <th>sex</th>\n",
       "      <th>educationNum</th>\n",
       "      <th>capitalLoss</th>\n",
       "      <th>nativeCountry</th>\n",
       "      <th>workClass</th>\n",
       "      <th>capitalGain</th>\n",
       "      <th>relationship</th>\n",
       "      <th>age</th>\n",
       "      <th>maritalStatus</th>\n",
       "    </tr>\n",
       "  </thead>\n",
       "  <tbody>\n",
       "    <tr>\n",
       "      <th>0</th>\n",
       "      <td>611556cd12105d57ddfa6965</td>\n",
       "      <td>&lt;=50k</td>\n",
       "      <td>147372</td>\n",
       "      <td>hs-grad</td>\n",
       "      <td>adm-clerical</td>\n",
       "      <td>48</td>\n",
       "      <td>white</td>\n",
       "      <td>male</td>\n",
       "      <td>9</td>\n",
       "      <td>0.0</td>\n",
       "      <td>united-states</td>\n",
       "      <td>private</td>\n",
       "      <td>0.0</td>\n",
       "      <td>husband</td>\n",
       "      <td>41</td>\n",
       "      <td>married-civ-spouse</td>\n",
       "    </tr>\n",
       "    <tr>\n",
       "      <th>1</th>\n",
       "      <td>611556cf12105d57ddfa6966</td>\n",
       "      <td>&lt;=50k</td>\n",
       "      <td>188146</td>\n",
       "      <td>hs-grad</td>\n",
       "      <td>machine-op-inspct</td>\n",
       "      <td>40</td>\n",
       "      <td>white</td>\n",
       "      <td>male</td>\n",
       "      <td>9</td>\n",
       "      <td>0.0</td>\n",
       "      <td>united-states</td>\n",
       "      <td>private</td>\n",
       "      <td>5013.0</td>\n",
       "      <td>husband</td>\n",
       "      <td>30</td>\n",
       "      <td>married-civ-spouse</td>\n",
       "    </tr>\n",
       "    <tr>\n",
       "      <th>2</th>\n",
       "      <td>611556cf12105d57ddfa6967</td>\n",
       "      <td>&lt;=50k</td>\n",
       "      <td>293936</td>\n",
       "      <td>7th-8th</td>\n",
       "      <td>?</td>\n",
       "      <td>40</td>\n",
       "      <td>white</td>\n",
       "      <td>male</td>\n",
       "      <td>4</td>\n",
       "      <td>0.0</td>\n",
       "      <td>?</td>\n",
       "      <td>?</td>\n",
       "      <td>0.0</td>\n",
       "      <td>not-in-family</td>\n",
       "      <td>32</td>\n",
       "      <td>married-spouse-absent</td>\n",
       "    </tr>\n",
       "    <tr>\n",
       "      <th>3</th>\n",
       "      <td>611556cf12105d57ddfa6968</td>\n",
       "      <td>&gt;50k</td>\n",
       "      <td>191277</td>\n",
       "      <td>doctorate</td>\n",
       "      <td>prof-specialty</td>\n",
       "      <td>60</td>\n",
       "      <td>white</td>\n",
       "      <td>male</td>\n",
       "      <td>16</td>\n",
       "      <td>1902.0</td>\n",
       "      <td>united-states</td>\n",
       "      <td>self-emp-not-inc</td>\n",
       "      <td>0.0</td>\n",
       "      <td>husband</td>\n",
       "      <td>48</td>\n",
       "      <td>married-civ-spouse</td>\n",
       "    </tr>\n",
       "    <tr>\n",
       "      <th>4</th>\n",
       "      <td>611556cf12105d57ddfa6969</td>\n",
       "      <td>&lt;=50k</td>\n",
       "      <td>188300</td>\n",
       "      <td>some-college</td>\n",
       "      <td>tech-support</td>\n",
       "      <td>40</td>\n",
       "      <td>white</td>\n",
       "      <td>female</td>\n",
       "      <td>10</td>\n",
       "      <td>0.0</td>\n",
       "      <td>united-states</td>\n",
       "      <td>private</td>\n",
       "      <td>0.0</td>\n",
       "      <td>own-child</td>\n",
       "      <td>20</td>\n",
       "      <td>never-married</td>\n",
       "    </tr>\n",
       "  </tbody>\n",
       "</table>\n",
       "</div>"
      ],
      "text/plain": [
       "                        _id income  finalWeight     education  \\\n",
       "0  611556cd12105d57ddfa6965  <=50k       147372       hs-grad   \n",
       "1  611556cf12105d57ddfa6966  <=50k       188146       hs-grad   \n",
       "2  611556cf12105d57ddfa6967  <=50k       293936       7th-8th   \n",
       "3  611556cf12105d57ddfa6968   >50k       191277     doctorate   \n",
       "4  611556cf12105d57ddfa6969  <=50k       188300  some-college   \n",
       "\n",
       "          occupation  hoursPerWeek   race     sex  educationNum  capitalLoss  \\\n",
       "0       adm-clerical            48  white    male             9          0.0   \n",
       "1  machine-op-inspct            40  white    male             9          0.0   \n",
       "2                  ?            40  white    male             4          0.0   \n",
       "3     prof-specialty            60  white    male            16       1902.0   \n",
       "4       tech-support            40  white  female            10          0.0   \n",
       "\n",
       "   nativeCountry         workClass  capitalGain   relationship  age  \\\n",
       "0  united-states           private          0.0        husband   41   \n",
       "1  united-states           private       5013.0        husband   30   \n",
       "2              ?                 ?          0.0  not-in-family   32   \n",
       "3  united-states  self-emp-not-inc          0.0        husband   48   \n",
       "4  united-states           private          0.0      own-child   20   \n",
       "\n",
       "           maritalStatus  \n",
       "0     married-civ-spouse  \n",
       "1     married-civ-spouse  \n",
       "2  married-spouse-absent  \n",
       "3     married-civ-spouse  \n",
       "4          never-married  "
      ]
     },
     "execution_count": 10,
     "metadata": {},
     "output_type": "execute_result"
    }
   ],
   "source": [
    "df.head()"
   ]
  },
  {
   "cell_type": "code",
   "execution_count": 11,
   "id": "b53a7b00",
   "metadata": {},
   "outputs": [
    {
     "name": "stdout",
     "output_type": "stream",
     "text": [
      "<class 'pandas.core.frame.DataFrame'>\n",
      "RangeIndex: 32561 entries, 0 to 32560\n",
      "Data columns (total 16 columns):\n",
      " #   Column         Non-Null Count  Dtype  \n",
      "---  ------         --------------  -----  \n",
      " 0   _id            32561 non-null  object \n",
      " 1   income         32561 non-null  object \n",
      " 2   finalWeight    32561 non-null  int64  \n",
      " 3   education      32561 non-null  object \n",
      " 4   occupation     32561 non-null  object \n",
      " 5   hoursPerWeek   32561 non-null  int64  \n",
      " 6   race           32561 non-null  object \n",
      " 7   sex            32561 non-null  object \n",
      " 8   educationNum   32561 non-null  int64  \n",
      " 9   capitalLoss    32561 non-null  float64\n",
      " 10  nativeCountry  32561 non-null  object \n",
      " 11  workClass      32561 non-null  object \n",
      " 12  capitalGain    32561 non-null  float64\n",
      " 13  relationship   32561 non-null  object \n",
      " 14  age            32561 non-null  int64  \n",
      " 15  maritalStatus  32561 non-null  object \n",
      "dtypes: float64(2), int64(4), object(10)\n",
      "memory usage: 4.0+ MB\n"
     ]
    }
   ],
   "source": [
    "df.info()"
   ]
  },
  {
   "cell_type": "code",
   "execution_count": 12,
   "id": "aba42a7f",
   "metadata": {},
   "outputs": [],
   "source": [
    "#Apesar de mostrar que o dataset não há valores null, percebe-se que existem campos valor '?' nas variáveis workclass e occupation"
   ]
  },
  {
   "cell_type": "code",
   "execution_count": 13,
   "id": "bc419744",
   "metadata": {},
   "outputs": [],
   "source": [
    "#df['workclass'].unique()"
   ]
  },
  {
   "cell_type": "code",
   "execution_count": 14,
   "id": "d937c0d7",
   "metadata": {},
   "outputs": [
    {
     "data": {
      "text/plain": [
       "array(['adm-clerical', 'machine-op-inspct', '?', 'prof-specialty',\n",
       "       'tech-support', 'craft-repair', 'other-service',\n",
       "       'transport-moving', 'exec-managerial', 'protective-serv', 'sales',\n",
       "       'farming-fishing', 'handlers-cleaners', 'priv-house-serv',\n",
       "       'armed-forces'], dtype=object)"
      ]
     },
     "execution_count": 14,
     "metadata": {},
     "output_type": "execute_result"
    }
   ],
   "source": [
    "df['occupation'].unique()"
   ]
  },
  {
   "cell_type": "code",
   "execution_count": 15,
   "id": "6a53c53f",
   "metadata": {},
   "outputs": [],
   "source": [
    "#Vamos ver se existem outros valores faltantes em outras variáveis"
   ]
  },
  {
   "cell_type": "code",
   "execution_count": 16,
   "id": "f4f3e2f8",
   "metadata": {},
   "outputs": [
    {
     "data": {
      "text/plain": [
       "array([41, 30, 32, 48, 20, 43, 29, 27, 28, 49, 24, 19, 79, 18, 44, 35, 34,\n",
       "       17, 47, 45, 42, 40, 64, 33, 31, 37, 38, 61, 66, 70, 51, 58, 67, 26,\n",
       "       25, 52, 54, 60, 23, 63, 46, 36, 53, 50, 21, 39, 65, 71, 55, 76, 22,\n",
       "       59, 57, 56, 62, 90, 77, 69, 75, 73, 68, 74, 72, 81, 78, 80, 88, 82,\n",
       "       84, 83, 85, 86, 87])"
      ]
     },
     "execution_count": 16,
     "metadata": {},
     "output_type": "execute_result"
    }
   ],
   "source": [
    "df['age'].unique()"
   ]
  },
  {
   "cell_type": "code",
   "execution_count": 17,
   "id": "091b08e1",
   "metadata": {},
   "outputs": [
    {
     "data": {
      "text/plain": [
       "array(['hs-grad', '7th-8th', 'doctorate', 'some-college', 'bachelors',\n",
       "       '11th', 'masters', 'assoc-acdm', 'assoc-voc', '1st-4th', '10th',\n",
       "       '9th', '12th', 'prof-school', '5th-6th', 'preschool'], dtype=object)"
      ]
     },
     "execution_count": 17,
     "metadata": {},
     "output_type": "execute_result"
    }
   ],
   "source": [
    "df['education'].unique()"
   ]
  },
  {
   "cell_type": "code",
   "execution_count": 18,
   "id": "02068cf0",
   "metadata": {},
   "outputs": [],
   "source": [
    "#Inserir um documento em uma collection para teste (resultado)"
   ]
  },
  {
   "cell_type": "code",
   "execution_count": 19,
   "id": "b4b9a173",
   "metadata": {},
   "outputs": [],
   "source": [
    "#documento = {\n",
    "#             \"_id\": 12345,\n",
    "#             \"nome\": \"Mateus\",\n",
    "#             \"idade\": 41\n",
    "#}"
   ]
  },
  {
   "cell_type": "code",
   "execution_count": 20,
   "id": "65f31606",
   "metadata": {},
   "outputs": [],
   "source": [
    "#resultado.insert_one(documento)"
   ]
  },
  {
   "cell_type": "code",
   "execution_count": 21,
   "id": "cc558a82",
   "metadata": {},
   "outputs": [],
   "source": [
    "#Após inserção, verificar o documento inserido. Se quiser usar a inserção de um Dataframe, usar o comanod insert_many"
   ]
  },
  {
   "cell_type": "code",
   "execution_count": 22,
   "id": "e52ded18",
   "metadata": {},
   "outputs": [],
   "source": [
    "#resultado.find_one()"
   ]
  },
  {
   "cell_type": "code",
   "execution_count": 23,
   "id": "5bc8c425",
   "metadata": {},
   "outputs": [],
   "source": [
    "#documento = {\n",
    "#             \"nome\": \"João\",\n",
    "#             \"idade\": 10\n",
    "#}"
   ]
  },
  {
   "cell_type": "code",
   "execution_count": 24,
   "id": "c84330dd",
   "metadata": {},
   "outputs": [],
   "source": [
    "#resultado.insert_one(documento)"
   ]
  },
  {
   "cell_type": "code",
   "execution_count": null,
   "id": "2e628e43",
   "metadata": {},
   "outputs": [],
   "source": []
  }
 ],
 "metadata": {
  "kernelspec": {
   "display_name": "Python 3",
   "language": "python",
   "name": "python3"
  },
  "language_info": {
   "codemirror_mode": {
    "name": "ipython",
    "version": 3
   },
   "file_extension": ".py",
   "mimetype": "text/x-python",
   "name": "python",
   "nbconvert_exporter": "python",
   "pygments_lexer": "ipython3",
   "version": "3.8.8"
  }
 },
 "nbformat": 4,
 "nbformat_minor": 5
}
