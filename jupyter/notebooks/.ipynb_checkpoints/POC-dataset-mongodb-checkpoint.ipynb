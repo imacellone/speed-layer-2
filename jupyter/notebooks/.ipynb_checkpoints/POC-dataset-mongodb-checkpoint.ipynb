{
 "cells": [
  {
   "cell_type": "code",
   "execution_count": 1,
   "id": "72a7aa9d",
   "metadata": {},
   "outputs": [],
   "source": [
    "import pymongo"
   ]
  },
  {
   "cell_type": "code",
   "execution_count": 2,
   "id": "ad8cc12f",
   "metadata": {},
   "outputs": [
    {
     "name": "stdout",
     "output_type": "stream",
     "text": [
      "Requirement already satisfied: imblearn in /opt/conda/lib/python3.8/site-packages (0.0)\n",
      "Requirement already satisfied: imbalanced-learn in /opt/conda/lib/python3.8/site-packages (from imblearn) (0.8.0)\n",
      "Requirement already satisfied: scikit-learn>=0.24 in /opt/conda/lib/python3.8/site-packages (from imbalanced-learn->imblearn) (0.24.1)\n",
      "Requirement already satisfied: numpy>=1.13.3 in /opt/conda/lib/python3.8/site-packages (from imbalanced-learn->imblearn) (1.20.1)\n",
      "Requirement already satisfied: scipy>=0.19.1 in /opt/conda/lib/python3.8/site-packages (from imbalanced-learn->imblearn) (1.6.2)\n",
      "Requirement already satisfied: joblib>=0.11 in /opt/conda/lib/python3.8/site-packages (from imbalanced-learn->imblearn) (1.0.1)\n",
      "Requirement already satisfied: threadpoolctl>=2.0.0 in /opt/conda/lib/python3.8/site-packages (from scikit-learn>=0.24->imbalanced-learn->imblearn) (2.1.0)\n"
     ]
    }
   ],
   "source": [
    "!pip install imblearn"
   ]
  },
  {
   "cell_type": "code",
   "execution_count": 3,
   "id": "5fa3ba15",
   "metadata": {},
   "outputs": [],
   "source": [
    "import pandas as pd\n",
    "import seaborn as sns\n",
    "import matplotlib.pyplot as plt\n",
    "import numpy as np\n",
    "from sklearn.linear_model import LogisticRegression\n",
    "from sklearn.model_selection import train_test_split\n",
    "from sklearn.metrics import accuracy_score, confusion_matrix, classification_report\n",
    "from imblearn.under_sampling import NearMiss\n",
    "from imblearn.over_sampling import SMOTE\n",
    "from pymongo import MongoClient"
   ]
  },
  {
   "cell_type": "code",
   "execution_count": 4,
   "id": "670e3490",
   "metadata": {},
   "outputs": [],
   "source": [
    "sns.set()"
   ]
  },
  {
   "cell_type": "code",
   "execution_count": 5,
   "id": "146027ad",
   "metadata": {},
   "outputs": [],
   "source": [
    "#Adicionando conexão com mongo\n",
    "client = MongoClient(\"mongodb\", 27017)"
   ]
  },
  {
   "cell_type": "code",
   "execution_count": 6,
   "id": "dd324323",
   "metadata": {},
   "outputs": [],
   "source": [
    "#Carregando database\n",
    "db = client.raw"
   ]
  },
  {
   "cell_type": "code",
   "execution_count": 7,
   "id": "7f8071cb",
   "metadata": {},
   "outputs": [],
   "source": [
    "#Carregando Collection\n",
    "dados = db.adults"
   ]
  },
  {
   "cell_type": "code",
   "execution_count": 8,
   "id": "0a28dd29",
   "metadata": {},
   "outputs": [],
   "source": [
    "#Gerando cursor com toda a collection\n",
    "cursor = dados.find()"
   ]
  },
  {
   "cell_type": "code",
   "execution_count": 9,
   "id": "9510d8c6",
   "metadata": {},
   "outputs": [],
   "source": [
    "#Gerando um Dataframe do Panda\n",
    "df = pd.DataFrame(list(cursor))"
   ]
  },
  {
   "cell_type": "code",
   "execution_count": 10,
   "id": "f58e56ef",
   "metadata": {},
   "outputs": [
    {
     "data": {
      "text/html": [
       "<div>\n",
       "<style scoped>\n",
       "    .dataframe tbody tr th:only-of-type {\n",
       "        vertical-align: middle;\n",
       "    }\n",
       "\n",
       "    .dataframe tbody tr th {\n",
       "        vertical-align: top;\n",
       "    }\n",
       "\n",
       "    .dataframe thead th {\n",
       "        text-align: right;\n",
       "    }\n",
       "</style>\n",
       "<table border=\"1\" class=\"dataframe\">\n",
       "  <thead>\n",
       "    <tr style=\"text-align: right;\">\n",
       "      <th></th>\n",
       "      <th>_id</th>\n",
       "      <th>income</th>\n",
       "      <th>finalWeight</th>\n",
       "      <th>education</th>\n",
       "      <th>occupation</th>\n",
       "      <th>hoursPerWeek</th>\n",
       "      <th>race</th>\n",
       "      <th>sex</th>\n",
       "      <th>educationNum</th>\n",
       "      <th>capitalLoss</th>\n",
       "      <th>nativeCountry</th>\n",
       "      <th>workClass</th>\n",
       "      <th>capitalGain</th>\n",
       "      <th>relationship</th>\n",
       "      <th>age</th>\n",
       "      <th>maritalStatus</th>\n",
       "    </tr>\n",
       "  </thead>\n",
       "  <tbody>\n",
       "    <tr>\n",
       "      <th>0</th>\n",
       "      <td>61154e12e326c7165d26d26c</td>\n",
       "      <td>&lt;=50k</td>\n",
       "      <td>77516</td>\n",
       "      <td>bachelors</td>\n",
       "      <td>adm-clerical</td>\n",
       "      <td>40</td>\n",
       "      <td>white</td>\n",
       "      <td>male</td>\n",
       "      <td>13</td>\n",
       "      <td>0.0</td>\n",
       "      <td>united-states</td>\n",
       "      <td>state-gov</td>\n",
       "      <td>2174.0</td>\n",
       "      <td>not-in-family</td>\n",
       "      <td>39</td>\n",
       "      <td>never-married</td>\n",
       "    </tr>\n",
       "    <tr>\n",
       "      <th>1</th>\n",
       "      <td>61154e13e326c7165d26d26d</td>\n",
       "      <td>&lt;=50k</td>\n",
       "      <td>83311</td>\n",
       "      <td>bachelors</td>\n",
       "      <td>exec-managerial</td>\n",
       "      <td>13</td>\n",
       "      <td>white</td>\n",
       "      <td>male</td>\n",
       "      <td>13</td>\n",
       "      <td>0.0</td>\n",
       "      <td>united-states</td>\n",
       "      <td>self-emp-not-inc</td>\n",
       "      <td>0.0</td>\n",
       "      <td>husband</td>\n",
       "      <td>50</td>\n",
       "      <td>married-civ-spouse</td>\n",
       "    </tr>\n",
       "    <tr>\n",
       "      <th>2</th>\n",
       "      <td>61154e13e326c7165d26d26e</td>\n",
       "      <td>&lt;=50k</td>\n",
       "      <td>215646</td>\n",
       "      <td>hs-grad</td>\n",
       "      <td>handlers-cleaners</td>\n",
       "      <td>40</td>\n",
       "      <td>white</td>\n",
       "      <td>male</td>\n",
       "      <td>9</td>\n",
       "      <td>0.0</td>\n",
       "      <td>united-states</td>\n",
       "      <td>private</td>\n",
       "      <td>0.0</td>\n",
       "      <td>not-in-family</td>\n",
       "      <td>38</td>\n",
       "      <td>divorced</td>\n",
       "    </tr>\n",
       "    <tr>\n",
       "      <th>3</th>\n",
       "      <td>61154e13e326c7165d26d26f</td>\n",
       "      <td>&lt;=50k</td>\n",
       "      <td>234721</td>\n",
       "      <td>11th</td>\n",
       "      <td>handlers-cleaners</td>\n",
       "      <td>40</td>\n",
       "      <td>black</td>\n",
       "      <td>male</td>\n",
       "      <td>7</td>\n",
       "      <td>0.0</td>\n",
       "      <td>united-states</td>\n",
       "      <td>private</td>\n",
       "      <td>0.0</td>\n",
       "      <td>husband</td>\n",
       "      <td>53</td>\n",
       "      <td>married-civ-spouse</td>\n",
       "    </tr>\n",
       "    <tr>\n",
       "      <th>4</th>\n",
       "      <td>61154e13e326c7165d26d270</td>\n",
       "      <td>&lt;=50k</td>\n",
       "      <td>338409</td>\n",
       "      <td>bachelors</td>\n",
       "      <td>prof-specialty</td>\n",
       "      <td>40</td>\n",
       "      <td>black</td>\n",
       "      <td>female</td>\n",
       "      <td>13</td>\n",
       "      <td>0.0</td>\n",
       "      <td>cuba</td>\n",
       "      <td>private</td>\n",
       "      <td>0.0</td>\n",
       "      <td>wife</td>\n",
       "      <td>28</td>\n",
       "      <td>married-civ-spouse</td>\n",
       "    </tr>\n",
       "  </tbody>\n",
       "</table>\n",
       "</div>"
      ],
      "text/plain": [
       "                        _id income  finalWeight  education         occupation  \\\n",
       "0  61154e12e326c7165d26d26c  <=50k        77516  bachelors       adm-clerical   \n",
       "1  61154e13e326c7165d26d26d  <=50k        83311  bachelors    exec-managerial   \n",
       "2  61154e13e326c7165d26d26e  <=50k       215646    hs-grad  handlers-cleaners   \n",
       "3  61154e13e326c7165d26d26f  <=50k       234721       11th  handlers-cleaners   \n",
       "4  61154e13e326c7165d26d270  <=50k       338409  bachelors     prof-specialty   \n",
       "\n",
       "   hoursPerWeek   race     sex  educationNum  capitalLoss  nativeCountry  \\\n",
       "0            40  white    male            13          0.0  united-states   \n",
       "1            13  white    male            13          0.0  united-states   \n",
       "2            40  white    male             9          0.0  united-states   \n",
       "3            40  black    male             7          0.0  united-states   \n",
       "4            40  black  female            13          0.0           cuba   \n",
       "\n",
       "          workClass  capitalGain   relationship  age       maritalStatus  \n",
       "0         state-gov       2174.0  not-in-family   39       never-married  \n",
       "1  self-emp-not-inc          0.0        husband   50  married-civ-spouse  \n",
       "2           private          0.0  not-in-family   38            divorced  \n",
       "3           private          0.0        husband   53  married-civ-spouse  \n",
       "4           private          0.0           wife   28  married-civ-spouse  "
      ]
     },
     "execution_count": 10,
     "metadata": {},
     "output_type": "execute_result"
    }
   ],
   "source": [
    "df.head()"
   ]
  },
  {
   "cell_type": "code",
   "execution_count": 11,
   "id": "b53a7b00",
   "metadata": {},
   "outputs": [
    {
     "name": "stdout",
     "output_type": "stream",
     "text": [
      "<class 'pandas.core.frame.DataFrame'>\n",
      "RangeIndex: 32561 entries, 0 to 32560\n",
      "Data columns (total 16 columns):\n",
      " #   Column         Non-Null Count  Dtype  \n",
      "---  ------         --------------  -----  \n",
      " 0   _id            32561 non-null  object \n",
      " 1   income         32561 non-null  object \n",
      " 2   finalWeight    32561 non-null  int64  \n",
      " 3   education      32561 non-null  object \n",
      " 4   occupation     32561 non-null  object \n",
      " 5   hoursPerWeek   32561 non-null  int64  \n",
      " 6   race           32561 non-null  object \n",
      " 7   sex            32561 non-null  object \n",
      " 8   educationNum   32561 non-null  int64  \n",
      " 9   capitalLoss    32561 non-null  float64\n",
      " 10  nativeCountry  32561 non-null  object \n",
      " 11  workClass      32561 non-null  object \n",
      " 12  capitalGain    32561 non-null  float64\n",
      " 13  relationship   32561 non-null  object \n",
      " 14  age            32561 non-null  int64  \n",
      " 15  maritalStatus  32561 non-null  object \n",
      "dtypes: float64(2), int64(4), object(10)\n",
      "memory usage: 4.0+ MB\n"
     ]
    }
   ],
   "source": [
    "df.info()"
   ]
  },
  {
   "cell_type": "code",
   "execution_count": 12,
   "id": "aba42a7f",
   "metadata": {},
   "outputs": [],
   "source": [
    "#Apesar de mostrar que o dataset não há valores null, percebe-se que existem campos valor '?' nas variáveis workclass e occupation"
   ]
  },
  {
   "cell_type": "code",
   "execution_count": 13,
   "id": "bc419744",
   "metadata": {},
   "outputs": [],
   "source": [
    "#df['workclass'].unique()"
   ]
  },
  {
   "cell_type": "code",
   "execution_count": 14,
   "id": "d937c0d7",
   "metadata": {},
   "outputs": [
    {
     "data": {
      "text/plain": [
       "array(['adm-clerical', 'exec-managerial', 'handlers-cleaners',\n",
       "       'prof-specialty', 'other-service', 'farming-fishing', '?',\n",
       "       'craft-repair', 'protective-serv', 'machine-op-inspct',\n",
       "       'tech-support', 'sales', 'transport-moving', 'armed-forces',\n",
       "       'priv-house-serv'], dtype=object)"
      ]
     },
     "execution_count": 14,
     "metadata": {},
     "output_type": "execute_result"
    }
   ],
   "source": [
    "df['occupation'].unique()"
   ]
  },
  {
   "cell_type": "code",
   "execution_count": 15,
   "id": "6a53c53f",
   "metadata": {},
   "outputs": [],
   "source": [
    "#Vamos ver se existem outros valores faltantes em outras variáveis"
   ]
  },
  {
   "cell_type": "code",
   "execution_count": 16,
   "id": "f4f3e2f8",
   "metadata": {},
   "outputs": [
    {
     "data": {
      "text/plain": [
       "array([39, 50, 38, 53, 28, 37, 49, 42, 30, 40, 35, 54, 23, 45, 48, 19, 31,\n",
       "       24, 57, 44, 41, 18, 43, 46, 36, 59, 17, 22, 34, 26, 29, 33, 64, 25,\n",
       "       65, 58, 32, 61, 52, 56, 20, 60, 27, 47, 55, 51, 63, 76, 67, 68, 75,\n",
       "       62, 73, 69, 21, 74, 72, 70, 71, 79, 77, 66, 78, 83, 80, 90, 81, 88,\n",
       "       82, 84, 85, 86, 87])"
      ]
     },
     "execution_count": 16,
     "metadata": {},
     "output_type": "execute_result"
    }
   ],
   "source": [
    "df['age'].unique()"
   ]
  },
  {
   "cell_type": "code",
   "execution_count": 17,
   "id": "091b08e1",
   "metadata": {},
   "outputs": [
    {
     "data": {
      "text/plain": [
       "array(['bachelors', 'hs-grad', '11th', 'masters', '9th', 'doctorate',\n",
       "       'some-college', 'assoc-acdm', 'assoc-voc', '5th-6th', '10th',\n",
       "       '1st-4th', '7th-8th', 'prof-school', '12th', 'preschool'],\n",
       "      dtype=object)"
      ]
     },
     "execution_count": 17,
     "metadata": {},
     "output_type": "execute_result"
    }
   ],
   "source": [
    "df['education'].unique()"
   ]
  },
  {
   "cell_type": "code",
   "execution_count": 18,
   "id": "02068cf0",
   "metadata": {},
   "outputs": [],
   "source": [
    "#Inserir um documento em uma collection para teste (resultado)"
   ]
  },
  {
   "cell_type": "code",
   "execution_count": 19,
   "id": "b4b9a173",
   "metadata": {},
   "outputs": [],
   "source": [
    "#documento = {\n",
    "#             \"_id\": 12345,\n",
    "#             \"nome\": \"Mateus\",\n",
    "#             \"idade\": 41\n",
    "#}"
   ]
  },
  {
   "cell_type": "code",
   "execution_count": 20,
   "id": "65f31606",
   "metadata": {},
   "outputs": [],
   "source": [
    "#resultado.insert_one(documento)"
   ]
  },
  {
   "cell_type": "code",
   "execution_count": 21,
   "id": "cc558a82",
   "metadata": {},
   "outputs": [],
   "source": [
    "#Após inserção, verificar o documento inserido. Se quiser usar a inserção de um Dataframe, usar o comanod insert_many"
   ]
  },
  {
   "cell_type": "code",
   "execution_count": 22,
   "id": "e52ded18",
   "metadata": {},
   "outputs": [],
   "source": [
    "#resultado.find_one()"
   ]
  },
  {
   "cell_type": "code",
   "execution_count": 23,
   "id": "5bc8c425",
   "metadata": {},
   "outputs": [],
   "source": [
    "#documento = {\n",
    "#             \"nome\": \"João\",\n",
    "#             \"idade\": 10\n",
    "#}"
   ]
  },
  {
   "cell_type": "code",
   "execution_count": 24,
   "id": "c84330dd",
   "metadata": {},
   "outputs": [],
   "source": [
    "#resultado.insert_one(documento)"
   ]
  },
  {
   "cell_type": "code",
   "execution_count": null,
   "id": "2e628e43",
   "metadata": {},
   "outputs": [],
   "source": []
  }
 ],
 "metadata": {
  "kernelspec": {
   "display_name": "Python 3",
   "language": "python",
   "name": "python3"
  },
  "language_info": {
   "codemirror_mode": {
    "name": "ipython",
    "version": 3
   },
   "file_extension": ".py",
   "mimetype": "text/x-python",
   "name": "python",
   "nbconvert_exporter": "python",
   "pygments_lexer": "ipython3",
   "version": "3.8.8"
  }
 },
 "nbformat": 4,
 "nbformat_minor": 5
}
