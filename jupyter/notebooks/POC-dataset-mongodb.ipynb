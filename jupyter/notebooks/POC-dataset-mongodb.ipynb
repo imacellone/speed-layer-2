{
 "cells": [
  {
   "cell_type": "code",
   "execution_count": 1,
   "id": "72a7aa9d",
   "metadata": {},
   "outputs": [],
   "source": [
    "import pymongo"
   ]
  },
  {
   "cell_type": "code",
   "execution_count": 2,
   "id": "ad8cc12f",
   "metadata": {},
   "outputs": [
    {
     "name": "stdout",
     "output_type": "stream",
     "text": [
      "Requirement already satisfied: imblearn in /opt/conda/lib/python3.8/site-packages (0.0)\n",
      "Requirement already satisfied: imbalanced-learn in /opt/conda/lib/python3.8/site-packages (from imblearn) (0.8.0)\n",
      "Requirement already satisfied: joblib>=0.11 in /opt/conda/lib/python3.8/site-packages (from imbalanced-learn->imblearn) (1.0.1)\n",
      "Requirement already satisfied: numpy>=1.13.3 in /opt/conda/lib/python3.8/site-packages (from imbalanced-learn->imblearn) (1.20.1)\n",
      "Requirement already satisfied: scipy>=0.19.1 in /opt/conda/lib/python3.8/site-packages (from imbalanced-learn->imblearn) (1.6.2)\n",
      "Requirement already satisfied: scikit-learn>=0.24 in /opt/conda/lib/python3.8/site-packages (from imbalanced-learn->imblearn) (0.24.1)\n",
      "Requirement already satisfied: threadpoolctl>=2.0.0 in /opt/conda/lib/python3.8/site-packages (from scikit-learn>=0.24->imbalanced-learn->imblearn) (2.1.0)\n"
     ]
    }
   ],
   "source": [
    "!pip install imblearn"
   ]
  },
  {
   "cell_type": "code",
   "execution_count": 3,
   "id": "5fa3ba15",
   "metadata": {},
   "outputs": [],
   "source": [
    "import pandas as pd\n",
    "import seaborn as sns\n",
    "import matplotlib.pyplot as plt\n",
    "import numpy as np\n",
    "from sklearn.linear_model import LogisticRegression\n",
    "from sklearn.model_selection import train_test_split\n",
    "from sklearn.metrics import accuracy_score, confusion_matrix, classification_report\n",
    "from imblearn.under_sampling import NearMiss\n",
    "from imblearn.over_sampling import SMOTE\n",
    "from pymongo import MongoClient"
   ]
  },
  {
   "cell_type": "code",
   "execution_count": 4,
   "id": "670e3490",
   "metadata": {},
   "outputs": [],
   "source": [
    "sns.set()"
   ]
  },
  {
   "cell_type": "code",
   "execution_count": 5,
   "id": "146027ad",
   "metadata": {},
   "outputs": [],
   "source": [
    "#Adicionando conexão com mongo\n",
    "client = MongoClient(\"mongodb\", 27017)"
   ]
  },
  {
   "cell_type": "code",
   "execution_count": 6,
   "id": "dd324323",
   "metadata": {},
   "outputs": [],
   "source": [
    "#Carregando database\n",
    "db = client.teste"
   ]
  },
  {
   "cell_type": "code",
   "execution_count": 7,
   "id": "7f8071cb",
   "metadata": {},
   "outputs": [],
   "source": [
    "#Carregando Collection\n",
    "dados = db.dados\n",
    "resultado = db.resultado"
   ]
  },
  {
   "cell_type": "code",
   "execution_count": 8,
   "id": "0a28dd29",
   "metadata": {},
   "outputs": [],
   "source": [
    "#Gerando cursor com toda a collection\n",
    "cursor = dados.find()"
   ]
  },
  {
   "cell_type": "code",
   "execution_count": 9,
   "id": "9510d8c6",
   "metadata": {},
   "outputs": [],
   "source": [
    "#Gerando um Dataframe do Panda\n",
    "df = pd.DataFrame(list(cursor))"
   ]
  },
  {
   "cell_type": "code",
   "execution_count": 10,
   "id": "f58e56ef",
   "metadata": {},
   "outputs": [
    {
     "data": {
      "text/html": [
       "<div>\n",
       "<style scoped>\n",
       "    .dataframe tbody tr th:only-of-type {\n",
       "        vertical-align: middle;\n",
       "    }\n",
       "\n",
       "    .dataframe tbody tr th {\n",
       "        vertical-align: top;\n",
       "    }\n",
       "\n",
       "    .dataframe thead th {\n",
       "        text-align: right;\n",
       "    }\n",
       "</style>\n",
       "<table border=\"1\" class=\"dataframe\">\n",
       "  <thead>\n",
       "    <tr style=\"text-align: right;\">\n",
       "      <th></th>\n",
       "      <th>_id</th>\n",
       "      <th>age</th>\n",
       "      <th>workclass</th>\n",
       "      <th>fnlwgt</th>\n",
       "      <th>education</th>\n",
       "      <th>education-num</th>\n",
       "      <th>marital-status</th>\n",
       "      <th>occupation</th>\n",
       "      <th>relationship</th>\n",
       "      <th>race</th>\n",
       "      <th>sex</th>\n",
       "      <th>capital-gain</th>\n",
       "      <th>capital-loss</th>\n",
       "      <th>hours-per-week</th>\n",
       "      <th>native-countr</th>\n",
       "      <th>income</th>\n",
       "    </tr>\n",
       "  </thead>\n",
       "  <tbody>\n",
       "    <tr>\n",
       "      <th>0</th>\n",
       "      <td>61109bd58a5e062e4a81aa7b</td>\n",
       "      <td>39</td>\n",
       "      <td>State-gov</td>\n",
       "      <td>77516</td>\n",
       "      <td>Bachelors</td>\n",
       "      <td>13</td>\n",
       "      <td>Never-married</td>\n",
       "      <td>Adm-clerical</td>\n",
       "      <td>Not-in-family</td>\n",
       "      <td>White</td>\n",
       "      <td>Male</td>\n",
       "      <td>2174</td>\n",
       "      <td>0</td>\n",
       "      <td>40</td>\n",
       "      <td>United-States</td>\n",
       "      <td>&lt;=50K</td>\n",
       "    </tr>\n",
       "    <tr>\n",
       "      <th>1</th>\n",
       "      <td>61109bd58a5e062e4a81aa7c</td>\n",
       "      <td>50</td>\n",
       "      <td>Self-emp-not-inc</td>\n",
       "      <td>83311</td>\n",
       "      <td>Bachelors</td>\n",
       "      <td>13</td>\n",
       "      <td>Married-civ-spouse</td>\n",
       "      <td>Exec-managerial</td>\n",
       "      <td>Husband</td>\n",
       "      <td>White</td>\n",
       "      <td>Male</td>\n",
       "      <td>0</td>\n",
       "      <td>0</td>\n",
       "      <td>13</td>\n",
       "      <td>United-States</td>\n",
       "      <td>&lt;=50K</td>\n",
       "    </tr>\n",
       "    <tr>\n",
       "      <th>2</th>\n",
       "      <td>61109bd58a5e062e4a81aa7d</td>\n",
       "      <td>38</td>\n",
       "      <td>Private</td>\n",
       "      <td>215646</td>\n",
       "      <td>HS-grad</td>\n",
       "      <td>9</td>\n",
       "      <td>Divorced</td>\n",
       "      <td>Handlers-cleaners</td>\n",
       "      <td>Not-in-family</td>\n",
       "      <td>White</td>\n",
       "      <td>Male</td>\n",
       "      <td>0</td>\n",
       "      <td>0</td>\n",
       "      <td>40</td>\n",
       "      <td>United-States</td>\n",
       "      <td>&lt;=50K</td>\n",
       "    </tr>\n",
       "    <tr>\n",
       "      <th>3</th>\n",
       "      <td>61109bd58a5e062e4a81aa7e</td>\n",
       "      <td>53</td>\n",
       "      <td>Private</td>\n",
       "      <td>234721</td>\n",
       "      <td>11th</td>\n",
       "      <td>7</td>\n",
       "      <td>Married-civ-spouse</td>\n",
       "      <td>Handlers-cleaners</td>\n",
       "      <td>Husband</td>\n",
       "      <td>Black</td>\n",
       "      <td>Male</td>\n",
       "      <td>0</td>\n",
       "      <td>0</td>\n",
       "      <td>40</td>\n",
       "      <td>United-States</td>\n",
       "      <td>&lt;=50K</td>\n",
       "    </tr>\n",
       "    <tr>\n",
       "      <th>4</th>\n",
       "      <td>61109bd58a5e062e4a81aa7f</td>\n",
       "      <td>28</td>\n",
       "      <td>Private</td>\n",
       "      <td>338409</td>\n",
       "      <td>Bachelors</td>\n",
       "      <td>13</td>\n",
       "      <td>Married-civ-spouse</td>\n",
       "      <td>Prof-specialty</td>\n",
       "      <td>Wife</td>\n",
       "      <td>Black</td>\n",
       "      <td>Female</td>\n",
       "      <td>0</td>\n",
       "      <td>0</td>\n",
       "      <td>40</td>\n",
       "      <td>Cuba</td>\n",
       "      <td>&lt;=50K</td>\n",
       "    </tr>\n",
       "  </tbody>\n",
       "</table>\n",
       "</div>"
      ],
      "text/plain": [
       "                        _id  age         workclass  fnlwgt  education  \\\n",
       "0  61109bd58a5e062e4a81aa7b   39         State-gov   77516  Bachelors   \n",
       "1  61109bd58a5e062e4a81aa7c   50  Self-emp-not-inc   83311  Bachelors   \n",
       "2  61109bd58a5e062e4a81aa7d   38           Private  215646    HS-grad   \n",
       "3  61109bd58a5e062e4a81aa7e   53           Private  234721       11th   \n",
       "4  61109bd58a5e062e4a81aa7f   28           Private  338409  Bachelors   \n",
       "\n",
       "   education-num      marital-status         occupation   relationship   race  \\\n",
       "0             13       Never-married       Adm-clerical  Not-in-family  White   \n",
       "1             13  Married-civ-spouse    Exec-managerial        Husband  White   \n",
       "2              9            Divorced  Handlers-cleaners  Not-in-family  White   \n",
       "3              7  Married-civ-spouse  Handlers-cleaners        Husband  Black   \n",
       "4             13  Married-civ-spouse     Prof-specialty           Wife  Black   \n",
       "\n",
       "      sex  capital-gain  capital-loss  hours-per-week  native-countr income  \n",
       "0    Male          2174             0              40  United-States  <=50K  \n",
       "1    Male             0             0              13  United-States  <=50K  \n",
       "2    Male             0             0              40  United-States  <=50K  \n",
       "3    Male             0             0              40  United-States  <=50K  \n",
       "4  Female             0             0              40           Cuba  <=50K  "
      ]
     },
     "execution_count": 10,
     "metadata": {},
     "output_type": "execute_result"
    }
   ],
   "source": [
    "df.head()"
   ]
  },
  {
   "cell_type": "code",
   "execution_count": 11,
   "id": "b53a7b00",
   "metadata": {},
   "outputs": [
    {
     "name": "stdout",
     "output_type": "stream",
     "text": [
      "<class 'pandas.core.frame.DataFrame'>\n",
      "RangeIndex: 9 entries, 0 to 8\n",
      "Data columns (total 16 columns):\n",
      " #   Column          Non-Null Count  Dtype \n",
      "---  ------          --------------  ----- \n",
      " 0   _id             9 non-null      object\n",
      " 1   age             9 non-null      int64 \n",
      " 2   workclass       9 non-null      object\n",
      " 3   fnlwgt          9 non-null      int64 \n",
      " 4   education       9 non-null      object\n",
      " 5   education-num   9 non-null      int64 \n",
      " 6   marital-status  9 non-null      object\n",
      " 7   occupation      9 non-null      object\n",
      " 8   relationship    9 non-null      object\n",
      " 9   race            9 non-null      object\n",
      " 10  sex             9 non-null      object\n",
      " 11  capital-gain    9 non-null      int64 \n",
      " 12  capital-loss    9 non-null      int64 \n",
      " 13  hours-per-week  9 non-null      int64 \n",
      " 14  native-countr   9 non-null      object\n",
      " 15  income          9 non-null      object\n",
      "dtypes: int64(6), object(10)\n",
      "memory usage: 1.2+ KB\n"
     ]
    }
   ],
   "source": [
    "df.info()"
   ]
  },
  {
   "cell_type": "code",
   "execution_count": 12,
   "id": "aba42a7f",
   "metadata": {},
   "outputs": [],
   "source": [
    "#Apesar de mostrar que o dataset não há valores null, percebe-se que existem campos valor '?' nas variáveis workclass e occupation"
   ]
  },
  {
   "cell_type": "code",
   "execution_count": 13,
   "id": "bc419744",
   "metadata": {},
   "outputs": [
    {
     "data": {
      "text/plain": [
       "array(['State-gov', 'Self-emp-not-inc', 'Private'], dtype=object)"
      ]
     },
     "execution_count": 13,
     "metadata": {},
     "output_type": "execute_result"
    }
   ],
   "source": [
    "df['workclass'].unique()"
   ]
  },
  {
   "cell_type": "code",
   "execution_count": 14,
   "id": "d937c0d7",
   "metadata": {},
   "outputs": [
    {
     "data": {
      "text/plain": [
       "array(['Adm-clerical', 'Exec-managerial', 'Handlers-cleaners',\n",
       "       'Prof-specialty', 'Other-service'], dtype=object)"
      ]
     },
     "execution_count": 14,
     "metadata": {},
     "output_type": "execute_result"
    }
   ],
   "source": [
    "df['occupation'].unique()"
   ]
  },
  {
   "cell_type": "code",
   "execution_count": 15,
   "id": "6a53c53f",
   "metadata": {},
   "outputs": [],
   "source": [
    "#Vamos ver se existem outros valores faltantes em outras variáveis"
   ]
  },
  {
   "cell_type": "code",
   "execution_count": 16,
   "id": "f4f3e2f8",
   "metadata": {},
   "outputs": [
    {
     "data": {
      "text/plain": [
       "array([39, 50, 38, 53, 28, 49, 52, 31, 37])"
      ]
     },
     "execution_count": 16,
     "metadata": {},
     "output_type": "execute_result"
    }
   ],
   "source": [
    "df['age'].unique()"
   ]
  },
  {
   "cell_type": "code",
   "execution_count": 17,
   "id": "091b08e1",
   "metadata": {},
   "outputs": [
    {
     "data": {
      "text/plain": [
       "array(['Bachelors', 'HS-grad', '11th', '9th', 'Masters'], dtype=object)"
      ]
     },
     "execution_count": 17,
     "metadata": {},
     "output_type": "execute_result"
    }
   ],
   "source": [
    "df['education'].unique()"
   ]
  },
  {
   "cell_type": "code",
   "execution_count": 18,
   "id": "02068cf0",
   "metadata": {},
   "outputs": [],
   "source": [
    "#Inserir um documento em uma collection para teste (resultado)"
   ]
  },
  {
   "cell_type": "code",
   "execution_count": 19,
   "id": "b4b9a173",
   "metadata": {},
   "outputs": [],
   "source": [
    "documento = {\n",
    "             \"_id\": 12345,\n",
    "             \"nome\": \"Mateus\",\n",
    "             \"idade\": 41\n",
    "}"
   ]
  },
  {
   "cell_type": "code",
   "execution_count": 20,
   "id": "65f31606",
   "metadata": {},
   "outputs": [
    {
     "data": {
      "text/plain": [
       "<pymongo.results.InsertOneResult at 0x7f1dcab7f940>"
      ]
     },
     "execution_count": 20,
     "metadata": {},
     "output_type": "execute_result"
    }
   ],
   "source": [
    "resultado.insert_one(documento)"
   ]
  },
  {
   "cell_type": "code",
   "execution_count": 21,
   "id": "cc558a82",
   "metadata": {},
   "outputs": [],
   "source": [
    "#Após inserção, verificar o documento inserido. Se quiser usar a inserção de um Dataframe, usar o comanod insert_many"
   ]
  },
  {
   "cell_type": "code",
   "execution_count": 23,
   "id": "e52ded18",
   "metadata": {},
   "outputs": [
    {
     "data": {
      "text/plain": [
       "{'_id': 12345, 'nome': 'Mateus', 'idade': 41}"
      ]
     },
     "execution_count": 23,
     "metadata": {},
     "output_type": "execute_result"
    }
   ],
   "source": [
    "resultado.find_one()"
   ]
  },
  {
   "cell_type": "code",
   "execution_count": 24,
   "id": "5bc8c425",
   "metadata": {},
   "outputs": [],
   "source": [
    "documento = {\n",
    "             \"nome\": \"João\",\n",
    "             \"idade\": 10\n",
    "}"
   ]
  },
  {
   "cell_type": "code",
   "execution_count": 25,
   "id": "c84330dd",
   "metadata": {},
   "outputs": [
    {
     "data": {
      "text/plain": [
       "<pymongo.results.InsertOneResult at 0x7f1dc92c2980>"
      ]
     },
     "execution_count": 25,
     "metadata": {},
     "output_type": "execute_result"
    }
   ],
   "source": [
    "resultado.insert_one(documento)"
   ]
  },
  {
   "cell_type": "code",
   "execution_count": null,
   "id": "2e628e43",
   "metadata": {},
   "outputs": [],
   "source": []
  }
 ],
 "metadata": {
  "kernelspec": {
   "display_name": "Python 3",
   "language": "python",
   "name": "python3"
  },
  "language_info": {
   "codemirror_mode": {
    "name": "ipython",
    "version": 3
   },
   "file_extension": ".py",
   "mimetype": "text/x-python",
   "name": "python",
   "nbconvert_exporter": "python",
   "pygments_lexer": "ipython3",
   "version": "3.8.8"
  }
 },
 "nbformat": 4,
 "nbformat_minor": 5
}
