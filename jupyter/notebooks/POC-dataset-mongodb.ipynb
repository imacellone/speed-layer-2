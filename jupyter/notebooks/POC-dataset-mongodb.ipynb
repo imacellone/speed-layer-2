{
 "cells": [
  {
   "cell_type": "markdown",
   "id": "10fc1e53",
   "metadata": {},
   "source": [
    "# Objetivo\n",
    "Ser capaz de identificar clientes de alta renda (>50K) a partir de dados demográficos, socio economico e cadastro utilizando modelo de classificação (Regressão Logistica).\n",
    "\n",
    "O dataset utilizado contém informações fictícias apenas para efeitos acadêmicos. \n",
    "Fonte: https://www.kaggle.com/uciml/adult-census-income\n",
    "\n",
    "O tipo de modelo escolhido foi de Regressão Logística uma vez que a variável que deseja prever é binária (>50K ou <=50K).\n",
    "\n",
    "Através do modelo, é possível segmentar clientes do banco utilizando dados que podem ser disponibilizados pelas APIs do Open Banking. Esse modelo é um estágio inicial dos diversos serviços que pode-se realizar, podendo adotar uma estratégia de ataque aos novos clientes e também uma estratégia de defesa, em que pode-se selecionar o nicho de clientes que queremos manter na carteira. No próximo estágio, pode-se utilizar outras variáveis, como valor de investimento, crédito e moveimentação bancária no modelo.\n",
    "\n",
    "O intuito ao utilizar o modelo é oferecer melhores serviços e produtos baseado na renda do cliente."
   ]
  },
  {
   "cell_type": "markdown",
   "id": "dba0c0ea",
   "metadata": {},
   "source": [
    "# Importação das bibliotecas "
   ]
  },
  {
   "cell_type": "code",
   "execution_count": 1,
   "id": "ad8cc12f",
   "metadata": {},
   "outputs": [
    {
     "name": "stdout",
     "output_type": "stream",
     "text": [
      "Requirement already satisfied: imblearn in /opt/conda/lib/python3.8/site-packages (0.0)\n",
      "Requirement already satisfied: imbalanced-learn in /opt/conda/lib/python3.8/site-packages (from imblearn) (0.8.0)\n",
      "Requirement already satisfied: joblib>=0.11 in /opt/conda/lib/python3.8/site-packages (from imbalanced-learn->imblearn) (1.0.1)\n",
      "Requirement already satisfied: numpy>=1.13.3 in /opt/conda/lib/python3.8/site-packages (from imbalanced-learn->imblearn) (1.20.1)\n",
      "Requirement already satisfied: scikit-learn>=0.24 in /opt/conda/lib/python3.8/site-packages (from imbalanced-learn->imblearn) (0.24.1)\n",
      "Requirement already satisfied: scipy>=0.19.1 in /opt/conda/lib/python3.8/site-packages (from imbalanced-learn->imblearn) (1.6.2)\n",
      "Requirement already satisfied: threadpoolctl>=2.0.0 in /opt/conda/lib/python3.8/site-packages (from scikit-learn>=0.24->imbalanced-learn->imblearn) (2.1.0)\n"
     ]
    }
   ],
   "source": [
    "!pip install imblearn"
   ]
  },
  {
   "cell_type": "code",
   "execution_count": 2,
   "id": "5fa3ba15",
   "metadata": {},
   "outputs": [],
   "source": [
    "import pandas as pd\n",
    "import seaborn as sns\n",
    "import matplotlib.pyplot as plt\n",
    "import numpy as np\n",
    "from sklearn.linear_model import LogisticRegression\n",
    "from sklearn.model_selection import train_test_split\n",
    "from sklearn.metrics import accuracy_score, confusion_matrix, classification_report\n",
    "from imblearn.under_sampling import NearMiss\n",
    "from imblearn.over_sampling import SMOTE\n",
    "from sklearn.model_selection import KFold\n",
    "from sklearn.model_selection import cross_val_score\n",
    "from pymongo import MongoClient\n",
    "from sklearn.metrics import roc_auc_score\n",
    "import statistics\n",
    "from sklearn.feature_selection import RFE\n",
    "\n",
    "\n",
    "sns.set()"
   ]
  },
  {
   "cell_type": "markdown",
   "id": "1f75a06d",
   "metadata": {},
   "source": [
    "# Importação dos dados\n",
    "Utilização dos dados armazenado no MongoDB."
   ]
  },
  {
   "cell_type": "code",
   "execution_count": 3,
   "id": "146027ad",
   "metadata": {},
   "outputs": [],
   "source": [
    "#Adicionando conexão com mongo\n",
    "client = MongoClient(\"mongodb\", 27017)"
   ]
  },
  {
   "cell_type": "code",
   "execution_count": 4,
   "id": "dd324323",
   "metadata": {},
   "outputs": [],
   "source": [
    "#Carregando database\n",
    "db = client.raw"
   ]
  },
  {
   "cell_type": "code",
   "execution_count": 5,
   "id": "7f8071cb",
   "metadata": {},
   "outputs": [],
   "source": [
    "#Carregando Collection\n",
    "dados = db.adults"
   ]
  },
  {
   "cell_type": "code",
   "execution_count": 6,
   "id": "0a28dd29",
   "metadata": {},
   "outputs": [],
   "source": [
    "#Gerando cursor com toda a collection\n",
    "cursor = dados.find()"
   ]
  },
  {
   "cell_type": "code",
   "execution_count": 7,
   "id": "9510d8c6",
   "metadata": {},
   "outputs": [],
   "source": [
    "#Gerando um Dataframe do Panda\n",
    "data = pd.DataFrame(list(cursor))"
   ]
  },
  {
   "cell_type": "code",
   "execution_count": 8,
   "id": "f58e56ef",
   "metadata": {},
   "outputs": [
    {
     "data": {
      "text/html": [
       "<div>\n",
       "<style scoped>\n",
       "    .dataframe tbody tr th:only-of-type {\n",
       "        vertical-align: middle;\n",
       "    }\n",
       "\n",
       "    .dataframe tbody tr th {\n",
       "        vertical-align: top;\n",
       "    }\n",
       "\n",
       "    .dataframe thead th {\n",
       "        text-align: right;\n",
       "    }\n",
       "</style>\n",
       "<table border=\"1\" class=\"dataframe\">\n",
       "  <thead>\n",
       "    <tr style=\"text-align: right;\">\n",
       "      <th></th>\n",
       "      <th>_id</th>\n",
       "      <th>income</th>\n",
       "      <th>finalWeight</th>\n",
       "      <th>education</th>\n",
       "      <th>occupation</th>\n",
       "      <th>hoursPerWeek</th>\n",
       "      <th>race</th>\n",
       "      <th>sex</th>\n",
       "      <th>educationNum</th>\n",
       "      <th>capitalLoss</th>\n",
       "      <th>nativeCountry</th>\n",
       "      <th>workClass</th>\n",
       "      <th>capitalGain</th>\n",
       "      <th>relationship</th>\n",
       "      <th>age</th>\n",
       "      <th>maritalStatus</th>\n",
       "    </tr>\n",
       "  </thead>\n",
       "  <tbody>\n",
       "    <tr>\n",
       "      <th>0</th>\n",
       "      <td>61244322a4238d1ad6f16bfd</td>\n",
       "      <td>&lt;=50k</td>\n",
       "      <td>77516</td>\n",
       "      <td>bachelors</td>\n",
       "      <td>adm-clerical</td>\n",
       "      <td>40</td>\n",
       "      <td>white</td>\n",
       "      <td>male</td>\n",
       "      <td>13</td>\n",
       "      <td>0.0</td>\n",
       "      <td>united-states</td>\n",
       "      <td>state-gov</td>\n",
       "      <td>2174.0</td>\n",
       "      <td>not-in-family</td>\n",
       "      <td>39</td>\n",
       "      <td>never-married</td>\n",
       "    </tr>\n",
       "    <tr>\n",
       "      <th>1</th>\n",
       "      <td>61244323a4238d1ad6f16bfe</td>\n",
       "      <td>&lt;=50k</td>\n",
       "      <td>284582</td>\n",
       "      <td>masters</td>\n",
       "      <td>exec-managerial</td>\n",
       "      <td>40</td>\n",
       "      <td>white</td>\n",
       "      <td>female</td>\n",
       "      <td>14</td>\n",
       "      <td>0.0</td>\n",
       "      <td>united-states</td>\n",
       "      <td>private</td>\n",
       "      <td>0.0</td>\n",
       "      <td>wife</td>\n",
       "      <td>37</td>\n",
       "      <td>married-civ-spouse</td>\n",
       "    </tr>\n",
       "    <tr>\n",
       "      <th>2</th>\n",
       "      <td>61244323a4238d1ad6f16bff</td>\n",
       "      <td>&lt;=50k</td>\n",
       "      <td>109015</td>\n",
       "      <td>hs-grad</td>\n",
       "      <td>tech-support</td>\n",
       "      <td>40</td>\n",
       "      <td>white</td>\n",
       "      <td>female</td>\n",
       "      <td>9</td>\n",
       "      <td>0.0</td>\n",
       "      <td>united-states</td>\n",
       "      <td>private</td>\n",
       "      <td>0.0</td>\n",
       "      <td>unmarried</td>\n",
       "      <td>59</td>\n",
       "      <td>divorced</td>\n",
       "    </tr>\n",
       "    <tr>\n",
       "      <th>3</th>\n",
       "      <td>61244323a4238d1ad6f16c00</td>\n",
       "      <td>&lt;=50k</td>\n",
       "      <td>367260</td>\n",
       "      <td>hs-grad</td>\n",
       "      <td>exec-managerial</td>\n",
       "      <td>80</td>\n",
       "      <td>white</td>\n",
       "      <td>male</td>\n",
       "      <td>9</td>\n",
       "      <td>0.0</td>\n",
       "      <td>united-states</td>\n",
       "      <td>private</td>\n",
       "      <td>0.0</td>\n",
       "      <td>not-in-family</td>\n",
       "      <td>39</td>\n",
       "      <td>divorced</td>\n",
       "    </tr>\n",
       "    <tr>\n",
       "      <th>4</th>\n",
       "      <td>61244323a4238d1ad6f16c01</td>\n",
       "      <td>&lt;=50k</td>\n",
       "      <td>311512</td>\n",
       "      <td>some-college</td>\n",
       "      <td>other-service</td>\n",
       "      <td>15</td>\n",
       "      <td>black</td>\n",
       "      <td>male</td>\n",
       "      <td>10</td>\n",
       "      <td>0.0</td>\n",
       "      <td>united-states</td>\n",
       "      <td>state-gov</td>\n",
       "      <td>0.0</td>\n",
       "      <td>husband</td>\n",
       "      <td>22</td>\n",
       "      <td>married-civ-spouse</td>\n",
       "    </tr>\n",
       "  </tbody>\n",
       "</table>\n",
       "</div>"
      ],
      "text/plain": [
       "                        _id income  finalWeight     education  \\\n",
       "0  61244322a4238d1ad6f16bfd  <=50k        77516     bachelors   \n",
       "1  61244323a4238d1ad6f16bfe  <=50k       284582       masters   \n",
       "2  61244323a4238d1ad6f16bff  <=50k       109015       hs-grad   \n",
       "3  61244323a4238d1ad6f16c00  <=50k       367260       hs-grad   \n",
       "4  61244323a4238d1ad6f16c01  <=50k       311512  some-college   \n",
       "\n",
       "        occupation  hoursPerWeek   race     sex  educationNum  capitalLoss  \\\n",
       "0     adm-clerical            40  white    male            13          0.0   \n",
       "1  exec-managerial            40  white  female            14          0.0   \n",
       "2     tech-support            40  white  female             9          0.0   \n",
       "3  exec-managerial            80  white    male             9          0.0   \n",
       "4    other-service            15  black    male            10          0.0   \n",
       "\n",
       "   nativeCountry  workClass  capitalGain   relationship  age  \\\n",
       "0  united-states  state-gov       2174.0  not-in-family   39   \n",
       "1  united-states    private          0.0           wife   37   \n",
       "2  united-states    private          0.0      unmarried   59   \n",
       "3  united-states    private          0.0  not-in-family   39   \n",
       "4  united-states  state-gov          0.0        husband   22   \n",
       "\n",
       "        maritalStatus  \n",
       "0       never-married  \n",
       "1  married-civ-spouse  \n",
       "2            divorced  \n",
       "3            divorced  \n",
       "4  married-civ-spouse  "
      ]
     },
     "execution_count": 8,
     "metadata": {},
     "output_type": "execute_result"
    }
   ],
   "source": [
    "#importação no datafram data\n",
    "data.head()"
   ]
  },
  {
   "cell_type": "code",
   "execution_count": 9,
   "id": "b53a7b00",
   "metadata": {},
   "outputs": [
    {
     "name": "stdout",
     "output_type": "stream",
     "text": [
      "<class 'pandas.core.frame.DataFrame'>\n",
      "RangeIndex: 32561 entries, 0 to 32560\n",
      "Data columns (total 16 columns):\n",
      " #   Column         Non-Null Count  Dtype  \n",
      "---  ------         --------------  -----  \n",
      " 0   _id            32561 non-null  object \n",
      " 1   income         32561 non-null  object \n",
      " 2   finalWeight    32561 non-null  int64  \n",
      " 3   education      32561 non-null  object \n",
      " 4   occupation     32561 non-null  object \n",
      " 5   hoursPerWeek   32561 non-null  int64  \n",
      " 6   race           32561 non-null  object \n",
      " 7   sex            32561 non-null  object \n",
      " 8   educationNum   32561 non-null  int64  \n",
      " 9   capitalLoss    32561 non-null  float64\n",
      " 10  nativeCountry  32561 non-null  object \n",
      " 11  workClass      32561 non-null  object \n",
      " 12  capitalGain    32561 non-null  float64\n",
      " 13  relationship   32561 non-null  object \n",
      " 14  age            32561 non-null  int64  \n",
      " 15  maritalStatus  32561 non-null  object \n",
      "dtypes: float64(2), int64(4), object(10)\n",
      "memory usage: 4.0+ MB\n"
     ]
    }
   ],
   "source": [
    "# Informações dos campos e tipos de cada coluna.\n",
    "data.info()"
   ]
  },
  {
   "cell_type": "markdown",
   "id": "9a087c08",
   "metadata": {},
   "source": [
    "# Verificação das variáveis"
   ]
  },
  {
   "cell_type": "markdown",
   "id": "01a3e928",
   "metadata": {},
   "source": [
    "Apesar de mostrar que o dataset não há valores null, percebe-se que existem campos com valor '?' nas variáveis nativeCountry, workclass e occupation.\n",
    "Abaixo é possível verificar:"
   ]
  },
  {
   "cell_type": "code",
   "execution_count": 10,
   "id": "d937c0d7",
   "metadata": {},
   "outputs": [
    {
     "data": {
      "text/plain": [
       "array(['adm-clerical', 'exec-managerial', 'tech-support', 'other-service',\n",
       "       'sales', 'machine-op-inspct', 'craft-repair', 'protective-serv',\n",
       "       'handlers-cleaners', 'prof-specialty', '?', 'transport-moving',\n",
       "       'farming-fishing', 'priv-house-serv', 'armed-forces'], dtype=object)"
      ]
     },
     "execution_count": 10,
     "metadata": {},
     "output_type": "execute_result"
    }
   ],
   "source": [
    "data['occupation'].unique()"
   ]
  },
  {
   "cell_type": "code",
   "execution_count": 11,
   "id": "7dcde833",
   "metadata": {},
   "outputs": [
    {
     "data": {
      "text/plain": [
       "array(['state-gov', 'private', 'local-gov', 'self-emp-not-inc', '?',\n",
       "       'federal-gov', 'self-emp-inc', 'without-pay', 'never-worked'],\n",
       "      dtype=object)"
      ]
     },
     "execution_count": 11,
     "metadata": {},
     "output_type": "execute_result"
    }
   ],
   "source": [
    "data['workClass'].unique()"
   ]
  },
  {
   "cell_type": "code",
   "execution_count": 12,
   "id": "36e49835",
   "metadata": {},
   "outputs": [
    {
     "data": {
      "text/plain": [
       "array(['united-states', '?', 'cuba', 'canada', 'germany', 'iran',\n",
       "       'mexico', 'poland', 'cambodia', 'thailand', 'jamaica', 'south',\n",
       "       'dominican-republic', 'france', 'india', 'honduras', 'puerto-rico',\n",
       "       'columbia', 'el-salvador', 'taiwan', 'philippines', 'england',\n",
       "       'portugal', 'japan', 'italy', 'china', 'guatemala', 'nicaragua',\n",
       "       'vietnam', 'laos', 'trinadad&tobago', 'ecuador', 'yugoslavia',\n",
       "       'haiti', 'hong', 'greece', 'scotland',\n",
       "       'outlying-us(guam-usvi-etc)', 'peru', 'ireland', 'hungary',\n",
       "       'holand-netherlands'], dtype=object)"
      ]
     },
     "execution_count": 12,
     "metadata": {},
     "output_type": "execute_result"
    }
   ],
   "source": [
    "data['nativeCountry'].unique()"
   ]
  },
  {
   "cell_type": "markdown",
   "id": "53fb2aca",
   "metadata": {},
   "source": [
    "Abaixo, segue a análise das demais variáveis:"
   ]
  },
  {
   "cell_type": "code",
   "execution_count": 13,
   "id": "f4f3e2f8",
   "metadata": {},
   "outputs": [
    {
     "data": {
      "text/plain": [
       "array([39, 37, 59, 22, 31, 24, 41, 25, 28, 18, 52, 46, 44, 49, 30, 29, 47,\n",
       "       17, 56, 53, 38, 27, 19, 23, 42, 68, 36, 35, 26, 60, 50, 54, 40, 58,\n",
       "       32, 45, 34, 43, 55, 33, 67, 70, 71, 21, 48, 90, 75, 76, 20, 61, 57,\n",
       "       66, 51, 64, 72, 65, 63, 77, 62, 74, 69, 79, 80, 81, 73, 88, 78, 82,\n",
       "       83, 84, 85, 86, 87])"
      ]
     },
     "execution_count": 13,
     "metadata": {},
     "output_type": "execute_result"
    }
   ],
   "source": [
    "data['age'].unique()"
   ]
  },
  {
   "cell_type": "code",
   "execution_count": 14,
   "id": "091b08e1",
   "metadata": {},
   "outputs": [
    {
     "data": {
      "text/plain": [
       "array(['bachelors', 'masters', 'hs-grad', 'some-college', '9th',\n",
       "       'assoc-voc', '11th', '10th', 'assoc-acdm', '1st-4th', '7th-8th',\n",
       "       '5th-6th', 'doctorate', 'prof-school', '12th', 'preschool'],\n",
       "      dtype=object)"
      ]
     },
     "execution_count": 14,
     "metadata": {},
     "output_type": "execute_result"
    }
   ],
   "source": [
    "data['education'].unique()"
   ]
  },
  {
   "cell_type": "code",
   "execution_count": 15,
   "id": "d60f61b0",
   "metadata": {},
   "outputs": [
    {
     "data": {
      "text/plain": [
       "array(['never-married', 'married-civ-spouse', 'divorced', 'separated',\n",
       "       'widowed', 'married-spouse-absent', 'married-af-spouse'],\n",
       "      dtype=object)"
      ]
     },
     "execution_count": 15,
     "metadata": {},
     "output_type": "execute_result"
    }
   ],
   "source": [
    "data['maritalStatus'].unique()"
   ]
  },
  {
   "cell_type": "code",
   "execution_count": 16,
   "id": "e01a29d4",
   "metadata": {},
   "outputs": [
    {
     "data": {
      "text/plain": [
       "array(['not-in-family', 'wife', 'unmarried', 'husband', 'own-child',\n",
       "       'other-relative'], dtype=object)"
      ]
     },
     "execution_count": 16,
     "metadata": {},
     "output_type": "execute_result"
    }
   ],
   "source": [
    "data['relationship'].unique()"
   ]
  },
  {
   "cell_type": "code",
   "execution_count": 17,
   "id": "ca572920",
   "metadata": {},
   "outputs": [
    {
     "data": {
      "text/plain": [
       "array(['white', 'black', 'other', 'asian-pac-islander',\n",
       "       'amer-indian-eskimo'], dtype=object)"
      ]
     },
     "execution_count": 17,
     "metadata": {},
     "output_type": "execute_result"
    }
   ],
   "source": [
    "data['race'].unique()"
   ]
  },
  {
   "cell_type": "code",
   "execution_count": 18,
   "id": "75076d9e",
   "metadata": {},
   "outputs": [
    {
     "data": {
      "text/plain": [
       "array(['male', 'female'], dtype=object)"
      ]
     },
     "execution_count": 18,
     "metadata": {},
     "output_type": "execute_result"
    }
   ],
   "source": [
    "data['sex'].unique()"
   ]
  },
  {
   "cell_type": "code",
   "execution_count": 19,
   "id": "3592984d",
   "metadata": {},
   "outputs": [
    {
     "data": {
      "text/plain": [
       "array(['<=50k', '>50k'], dtype=object)"
      ]
     },
     "execution_count": 19,
     "metadata": {},
     "output_type": "execute_result"
    }
   ],
   "source": [
    "data['income'].unique() "
   ]
  },
  {
   "cell_type": "code",
   "execution_count": 20,
   "id": "45b95853",
   "metadata": {},
   "outputs": [
    {
     "data": {
      "text/plain": [
       "array([ 77516, 284582, 109015, ...,  34066,  84661, 257302])"
      ]
     },
     "execution_count": 20,
     "metadata": {},
     "output_type": "execute_result"
    }
   ],
   "source": [
    "data['finalWeight'].unique() "
   ]
  },
  {
   "cell_type": "code",
   "execution_count": 21,
   "id": "7f580dbb",
   "metadata": {},
   "outputs": [
    {
     "data": {
      "text/plain": [
       "array([40, 80, 15, 38, 43, 50, 22, 35, 48, 32, 41, 60, 30, 20, 45, 36, 12,\n",
       "       34, 75, 16, 25, 70, 24, 72,  5, 55, 13,  6,  2, 42,  8, 52, 58, 28,\n",
       "       56, 19, 18, 65,  1, 46,  7, 44, 10, 33, 47, 53, 39, 59,  9, 37, 11,\n",
       "       66, 49, 54,  3, 99, 98, 62, 57, 21, 26, 14,  4, 78, 90, 84, 17, 64,\n",
       "       27, 85, 68, 31, 51, 77, 63, 23, 73, 87, 88, 89, 97, 94, 29, 96, 67,\n",
       "       82, 86, 91, 81, 76, 92, 61, 74, 95])"
      ]
     },
     "execution_count": 21,
     "metadata": {},
     "output_type": "execute_result"
    }
   ],
   "source": [
    "data['hoursPerWeek'].unique() "
   ]
  },
  {
   "cell_type": "code",
   "execution_count": 22,
   "id": "851d31ba",
   "metadata": {},
   "outputs": [
    {
     "data": {
      "text/plain": [
       "array([13, 14,  9, 10,  5, 11,  7,  6, 12,  2,  4,  3, 16, 15,  8,  1])"
      ]
     },
     "execution_count": 22,
     "metadata": {},
     "output_type": "execute_result"
    }
   ],
   "source": [
    "data['educationNum'].unique() "
   ]
  },
  {
   "cell_type": "code",
   "execution_count": 23,
   "id": "046a7be0",
   "metadata": {},
   "outputs": [
    {
     "data": {
      "text/plain": [
       "array([   0., 1573., 1887., 1876., 1564., 1816., 1980., 1408., 1902.,\n",
       "       2206., 1977., 1719., 1762., 1672., 1669., 2352.,  653., 2415.,\n",
       "       1628., 1741., 1848., 2339., 1579., 2179., 1340., 2174., 1590.,\n",
       "       1485., 1504., 1651., 2051., 2377., 1740., 1602.,  419., 2547.,\n",
       "       2042., 1380., 1138., 2392., 1721., 2001., 2002., 2258., 1726.,\n",
       "       2205., 2444., 2238.,  625.,  213., 1539.,  880., 1668., 1092.,\n",
       "       1594., 3004., 2231., 1844.,  810., 2824., 2559., 2057., 1974.,\n",
       "        974., 2149., 1825., 1735., 2129., 1258., 2603., 2282.,  323.,\n",
       "       4356., 2246., 1617., 1648., 2489., 3770., 1755., 3683., 2267.,\n",
       "       2080., 2457.,  155., 2201., 3900., 1944., 2467., 2163., 2754.,\n",
       "       2472., 1411.])"
      ]
     },
     "execution_count": 23,
     "metadata": {},
     "output_type": "execute_result"
    }
   ],
   "source": [
    "data['capitalLoss'].unique() "
   ]
  },
  {
   "cell_type": "code",
   "execution_count": 24,
   "id": "af34cc8a",
   "metadata": {},
   "outputs": [
    {
     "data": {
      "text/plain": [
       "array([ 2174.,     0., 14344., 34095.,  7298.,  4064.,  4386.,  7688.,\n",
       "        5178.,  5013., 15024.,  6849.,  2176.,   594., 25236.,  2463.,\n",
       "        4101.,  3464.,  3103., 20051.,  3411.,  9386.,  1055.,  1409.,\n",
       "        8614., 99999.,  2105.,  3325.,  4650.,  6767.,  3781.,  3137.,\n",
       "        3674.,  1506.,  1111.,  4787., 10605.,  3471.,  2407.,  2050.,\n",
       "        1471.,  2329., 25124.,  2597.,  2202., 14084.,  2961.,  4865.,\n",
       "       27828.,  5556., 10520.,  6514.,  2228.,  3818.,  3942.,  2829.,\n",
       "        2977.,  2062.,  2964., 13550.,  2635.,  2580., 15020.,  2885.,\n",
       "         914.,  4934.,   401.,  2354.,  1424., 22040.,  3273.,  5455.,\n",
       "        4416.,  3908., 10566.,   991.,  4931.,  1086.,  7430.,  6497.,\n",
       "        7896.,   114.,  2346.,  3418.,  3432.,  2907.,  1151.,  2414.,\n",
       "        2290., 15831., 41310.,  4508.,  2538.,  3456.,  6418.,  1848.,\n",
       "        3887.,  5721.,  9562.,  1455.,  2036.,  1831., 11678.,  2936.,\n",
       "        2993.,  7443.,  6360.,  1797.,  1173.,  4687.,  2009.,  6723.,\n",
       "        6097.,  2653.,  1639., 18481.,  7978.,  2387.,  5060.])"
      ]
     },
     "execution_count": 24,
     "metadata": {},
     "output_type": "execute_result"
    }
   ],
   "source": [
    "data['capitalGain'].unique() "
   ]
  },
  {
   "cell_type": "markdown",
   "id": "3161206f",
   "metadata": {},
   "source": [
    "# Tratamento das variáveis com valores null e/ou inconsistêntes (Data Wrangling)\n"
   ]
  },
  {
   "cell_type": "markdown",
   "id": "96d5b914",
   "metadata": {},
   "source": [
    "Substituição dos valores '?' de todo dataframe para NaN."
   ]
  },
  {
   "cell_type": "code",
   "execution_count": 25,
   "id": "d93f0331",
   "metadata": {},
   "outputs": [
    {
     "data": {
      "text/html": [
       "<div>\n",
       "<style scoped>\n",
       "    .dataframe tbody tr th:only-of-type {\n",
       "        vertical-align: middle;\n",
       "    }\n",
       "\n",
       "    .dataframe tbody tr th {\n",
       "        vertical-align: top;\n",
       "    }\n",
       "\n",
       "    .dataframe thead th {\n",
       "        text-align: right;\n",
       "    }\n",
       "</style>\n",
       "<table border=\"1\" class=\"dataframe\">\n",
       "  <thead>\n",
       "    <tr style=\"text-align: right;\">\n",
       "      <th></th>\n",
       "      <th>_id</th>\n",
       "      <th>income</th>\n",
       "      <th>finalWeight</th>\n",
       "      <th>education</th>\n",
       "      <th>occupation</th>\n",
       "      <th>hoursPerWeek</th>\n",
       "      <th>race</th>\n",
       "      <th>sex</th>\n",
       "      <th>educationNum</th>\n",
       "      <th>capitalLoss</th>\n",
       "      <th>nativeCountry</th>\n",
       "      <th>workClass</th>\n",
       "      <th>capitalGain</th>\n",
       "      <th>relationship</th>\n",
       "      <th>age</th>\n",
       "      <th>maritalStatus</th>\n",
       "    </tr>\n",
       "  </thead>\n",
       "  <tbody>\n",
       "    <tr>\n",
       "      <th>0</th>\n",
       "      <td>61244322a4238d1ad6f16bfd</td>\n",
       "      <td>&lt;=50k</td>\n",
       "      <td>77516</td>\n",
       "      <td>bachelors</td>\n",
       "      <td>adm-clerical</td>\n",
       "      <td>40</td>\n",
       "      <td>white</td>\n",
       "      <td>male</td>\n",
       "      <td>13</td>\n",
       "      <td>0.0</td>\n",
       "      <td>united-states</td>\n",
       "      <td>state-gov</td>\n",
       "      <td>2174.0</td>\n",
       "      <td>not-in-family</td>\n",
       "      <td>39</td>\n",
       "      <td>never-married</td>\n",
       "    </tr>\n",
       "    <tr>\n",
       "      <th>1</th>\n",
       "      <td>61244323a4238d1ad6f16bfe</td>\n",
       "      <td>&lt;=50k</td>\n",
       "      <td>284582</td>\n",
       "      <td>masters</td>\n",
       "      <td>exec-managerial</td>\n",
       "      <td>40</td>\n",
       "      <td>white</td>\n",
       "      <td>female</td>\n",
       "      <td>14</td>\n",
       "      <td>0.0</td>\n",
       "      <td>united-states</td>\n",
       "      <td>private</td>\n",
       "      <td>0.0</td>\n",
       "      <td>wife</td>\n",
       "      <td>37</td>\n",
       "      <td>married-civ-spouse</td>\n",
       "    </tr>\n",
       "    <tr>\n",
       "      <th>2</th>\n",
       "      <td>61244323a4238d1ad6f16bff</td>\n",
       "      <td>&lt;=50k</td>\n",
       "      <td>109015</td>\n",
       "      <td>hs-grad</td>\n",
       "      <td>tech-support</td>\n",
       "      <td>40</td>\n",
       "      <td>white</td>\n",
       "      <td>female</td>\n",
       "      <td>9</td>\n",
       "      <td>0.0</td>\n",
       "      <td>united-states</td>\n",
       "      <td>private</td>\n",
       "      <td>0.0</td>\n",
       "      <td>unmarried</td>\n",
       "      <td>59</td>\n",
       "      <td>divorced</td>\n",
       "    </tr>\n",
       "    <tr>\n",
       "      <th>3</th>\n",
       "      <td>61244323a4238d1ad6f16c00</td>\n",
       "      <td>&lt;=50k</td>\n",
       "      <td>367260</td>\n",
       "      <td>hs-grad</td>\n",
       "      <td>exec-managerial</td>\n",
       "      <td>80</td>\n",
       "      <td>white</td>\n",
       "      <td>male</td>\n",
       "      <td>9</td>\n",
       "      <td>0.0</td>\n",
       "      <td>united-states</td>\n",
       "      <td>private</td>\n",
       "      <td>0.0</td>\n",
       "      <td>not-in-family</td>\n",
       "      <td>39</td>\n",
       "      <td>divorced</td>\n",
       "    </tr>\n",
       "    <tr>\n",
       "      <th>4</th>\n",
       "      <td>61244323a4238d1ad6f16c01</td>\n",
       "      <td>&lt;=50k</td>\n",
       "      <td>311512</td>\n",
       "      <td>some-college</td>\n",
       "      <td>other-service</td>\n",
       "      <td>15</td>\n",
       "      <td>black</td>\n",
       "      <td>male</td>\n",
       "      <td>10</td>\n",
       "      <td>0.0</td>\n",
       "      <td>united-states</td>\n",
       "      <td>state-gov</td>\n",
       "      <td>0.0</td>\n",
       "      <td>husband</td>\n",
       "      <td>22</td>\n",
       "      <td>married-civ-spouse</td>\n",
       "    </tr>\n",
       "  </tbody>\n",
       "</table>\n",
       "</div>"
      ],
      "text/plain": [
       "                        _id income  finalWeight     education  \\\n",
       "0  61244322a4238d1ad6f16bfd  <=50k        77516     bachelors   \n",
       "1  61244323a4238d1ad6f16bfe  <=50k       284582       masters   \n",
       "2  61244323a4238d1ad6f16bff  <=50k       109015       hs-grad   \n",
       "3  61244323a4238d1ad6f16c00  <=50k       367260       hs-grad   \n",
       "4  61244323a4238d1ad6f16c01  <=50k       311512  some-college   \n",
       "\n",
       "        occupation  hoursPerWeek   race     sex  educationNum  capitalLoss  \\\n",
       "0     adm-clerical            40  white    male            13          0.0   \n",
       "1  exec-managerial            40  white  female            14          0.0   \n",
       "2     tech-support            40  white  female             9          0.0   \n",
       "3  exec-managerial            80  white    male             9          0.0   \n",
       "4    other-service            15  black    male            10          0.0   \n",
       "\n",
       "   nativeCountry  workClass  capitalGain   relationship  age  \\\n",
       "0  united-states  state-gov       2174.0  not-in-family   39   \n",
       "1  united-states    private          0.0           wife   37   \n",
       "2  united-states    private          0.0      unmarried   59   \n",
       "3  united-states    private          0.0  not-in-family   39   \n",
       "4  united-states  state-gov          0.0        husband   22   \n",
       "\n",
       "        maritalStatus  \n",
       "0       never-married  \n",
       "1  married-civ-spouse  \n",
       "2            divorced  \n",
       "3            divorced  \n",
       "4  married-civ-spouse  "
      ]
     },
     "execution_count": 25,
     "metadata": {},
     "output_type": "execute_result"
    }
   ],
   "source": [
    "data = data.replace('?', np.nan)\n",
    "data.head()"
   ]
  },
  {
   "cell_type": "markdown",
   "id": "cf3d9c30",
   "metadata": {},
   "source": [
    "Abaixo, nota-se as variáveis com NaN. As variáveis que possuem NaN são occupation, nativeCountry e workClass, confirmando as análises acima (In[15], In[16] e In[17])"
   ]
  },
  {
   "cell_type": "code",
   "execution_count": 26,
   "id": "37e3f320",
   "metadata": {},
   "outputs": [
    {
     "data": {
      "text/plain": [
       "_id                 0\n",
       "income              0\n",
       "finalWeight         0\n",
       "education           0\n",
       "occupation       1843\n",
       "hoursPerWeek        0\n",
       "race                0\n",
       "sex                 0\n",
       "educationNum        0\n",
       "capitalLoss         0\n",
       "nativeCountry     583\n",
       "workClass        1836\n",
       "capitalGain         0\n",
       "relationship        0\n",
       "age                 0\n",
       "maritalStatus       0\n",
       "dtype: int64"
      ]
     },
     "execution_count": 26,
     "metadata": {},
     "output_type": "execute_result"
    }
   ],
   "source": [
    "data.isna().sum()"
   ]
  },
  {
   "cell_type": "markdown",
   "id": "97f9ab25",
   "metadata": {},
   "source": [
    "Para as variáveis Workclass e Occupation pode-se verificar as dependências entre as mesmas."
   ]
  },
  {
   "cell_type": "code",
   "execution_count": 27,
   "id": "c8c323da",
   "metadata": {},
   "outputs": [
    {
     "data": {
      "text/plain": [
       "array([nan], dtype=object)"
      ]
     },
     "execution_count": 27,
     "metadata": {},
     "output_type": "execute_result"
    }
   ],
   "source": [
    "data[data['workClass'].isna()]['occupation'].unique()"
   ]
  },
  {
   "cell_type": "code",
   "execution_count": 28,
   "id": "09652efa",
   "metadata": {},
   "outputs": [
    {
     "data": {
      "text/plain": [
       "<=50k    1652\n",
       ">50k      191\n",
       "Name: income, dtype: int64"
      ]
     },
     "execution_count": 28,
     "metadata": {},
     "output_type": "execute_result"
    }
   ],
   "source": [
    "data[data['occupation'].isna()]['income'].value_counts()"
   ]
  },
  {
   "cell_type": "markdown",
   "id": "fbdf0c17",
   "metadata": {},
   "source": [
    "Nota-se que os NaN em workclass depende de occupation (como esperado) - tipo MAR (Missing at Random). \n",
    "Sendo assim, pode-se afirmar que os valores NaN são de pessoas desempregadas. Assim, os valores podem ser substituido para \"Unemployee\""
   ]
  },
  {
   "cell_type": "code",
   "execution_count": 29,
   "id": "441528f5",
   "metadata": {},
   "outputs": [
    {
     "data": {
      "text/html": [
       "<div>\n",
       "<style scoped>\n",
       "    .dataframe tbody tr th:only-of-type {\n",
       "        vertical-align: middle;\n",
       "    }\n",
       "\n",
       "    .dataframe tbody tr th {\n",
       "        vertical-align: top;\n",
       "    }\n",
       "\n",
       "    .dataframe thead th {\n",
       "        text-align: right;\n",
       "    }\n",
       "</style>\n",
       "<table border=\"1\" class=\"dataframe\">\n",
       "  <thead>\n",
       "    <tr style=\"text-align: right;\">\n",
       "      <th></th>\n",
       "      <th>_id</th>\n",
       "      <th>income</th>\n",
       "      <th>finalWeight</th>\n",
       "      <th>education</th>\n",
       "      <th>occupation</th>\n",
       "      <th>hoursPerWeek</th>\n",
       "      <th>race</th>\n",
       "      <th>sex</th>\n",
       "      <th>educationNum</th>\n",
       "      <th>capitalLoss</th>\n",
       "      <th>nativeCountry</th>\n",
       "      <th>workClass</th>\n",
       "      <th>capitalGain</th>\n",
       "      <th>relationship</th>\n",
       "      <th>age</th>\n",
       "      <th>maritalStatus</th>\n",
       "    </tr>\n",
       "  </thead>\n",
       "  <tbody>\n",
       "    <tr>\n",
       "      <th>0</th>\n",
       "      <td>61244322a4238d1ad6f16bfd</td>\n",
       "      <td>&lt;=50k</td>\n",
       "      <td>77516</td>\n",
       "      <td>bachelors</td>\n",
       "      <td>adm-clerical</td>\n",
       "      <td>40</td>\n",
       "      <td>white</td>\n",
       "      <td>male</td>\n",
       "      <td>13</td>\n",
       "      <td>0.0</td>\n",
       "      <td>united-states</td>\n",
       "      <td>state-gov</td>\n",
       "      <td>2174.0</td>\n",
       "      <td>not-in-family</td>\n",
       "      <td>39</td>\n",
       "      <td>never-married</td>\n",
       "    </tr>\n",
       "    <tr>\n",
       "      <th>1</th>\n",
       "      <td>61244323a4238d1ad6f16bfe</td>\n",
       "      <td>&lt;=50k</td>\n",
       "      <td>284582</td>\n",
       "      <td>masters</td>\n",
       "      <td>exec-managerial</td>\n",
       "      <td>40</td>\n",
       "      <td>white</td>\n",
       "      <td>female</td>\n",
       "      <td>14</td>\n",
       "      <td>0.0</td>\n",
       "      <td>united-states</td>\n",
       "      <td>private</td>\n",
       "      <td>0.0</td>\n",
       "      <td>wife</td>\n",
       "      <td>37</td>\n",
       "      <td>married-civ-spouse</td>\n",
       "    </tr>\n",
       "    <tr>\n",
       "      <th>2</th>\n",
       "      <td>61244323a4238d1ad6f16bff</td>\n",
       "      <td>&lt;=50k</td>\n",
       "      <td>109015</td>\n",
       "      <td>hs-grad</td>\n",
       "      <td>tech-support</td>\n",
       "      <td>40</td>\n",
       "      <td>white</td>\n",
       "      <td>female</td>\n",
       "      <td>9</td>\n",
       "      <td>0.0</td>\n",
       "      <td>united-states</td>\n",
       "      <td>private</td>\n",
       "      <td>0.0</td>\n",
       "      <td>unmarried</td>\n",
       "      <td>59</td>\n",
       "      <td>divorced</td>\n",
       "    </tr>\n",
       "    <tr>\n",
       "      <th>3</th>\n",
       "      <td>61244323a4238d1ad6f16c00</td>\n",
       "      <td>&lt;=50k</td>\n",
       "      <td>367260</td>\n",
       "      <td>hs-grad</td>\n",
       "      <td>exec-managerial</td>\n",
       "      <td>80</td>\n",
       "      <td>white</td>\n",
       "      <td>male</td>\n",
       "      <td>9</td>\n",
       "      <td>0.0</td>\n",
       "      <td>united-states</td>\n",
       "      <td>private</td>\n",
       "      <td>0.0</td>\n",
       "      <td>not-in-family</td>\n",
       "      <td>39</td>\n",
       "      <td>divorced</td>\n",
       "    </tr>\n",
       "    <tr>\n",
       "      <th>4</th>\n",
       "      <td>61244323a4238d1ad6f16c01</td>\n",
       "      <td>&lt;=50k</td>\n",
       "      <td>311512</td>\n",
       "      <td>some-college</td>\n",
       "      <td>other-service</td>\n",
       "      <td>15</td>\n",
       "      <td>black</td>\n",
       "      <td>male</td>\n",
       "      <td>10</td>\n",
       "      <td>0.0</td>\n",
       "      <td>united-states</td>\n",
       "      <td>state-gov</td>\n",
       "      <td>0.0</td>\n",
       "      <td>husband</td>\n",
       "      <td>22</td>\n",
       "      <td>married-civ-spouse</td>\n",
       "    </tr>\n",
       "  </tbody>\n",
       "</table>\n",
       "</div>"
      ],
      "text/plain": [
       "                        _id income  finalWeight     education  \\\n",
       "0  61244322a4238d1ad6f16bfd  <=50k        77516     bachelors   \n",
       "1  61244323a4238d1ad6f16bfe  <=50k       284582       masters   \n",
       "2  61244323a4238d1ad6f16bff  <=50k       109015       hs-grad   \n",
       "3  61244323a4238d1ad6f16c00  <=50k       367260       hs-grad   \n",
       "4  61244323a4238d1ad6f16c01  <=50k       311512  some-college   \n",
       "\n",
       "        occupation  hoursPerWeek   race     sex  educationNum  capitalLoss  \\\n",
       "0     adm-clerical            40  white    male            13          0.0   \n",
       "1  exec-managerial            40  white  female            14          0.0   \n",
       "2     tech-support            40  white  female             9          0.0   \n",
       "3  exec-managerial            80  white    male             9          0.0   \n",
       "4    other-service            15  black    male            10          0.0   \n",
       "\n",
       "   nativeCountry  workClass  capitalGain   relationship  age  \\\n",
       "0  united-states  state-gov       2174.0  not-in-family   39   \n",
       "1  united-states    private          0.0           wife   37   \n",
       "2  united-states    private          0.0      unmarried   59   \n",
       "3  united-states    private          0.0  not-in-family   39   \n",
       "4  united-states  state-gov          0.0        husband   22   \n",
       "\n",
       "        maritalStatus  \n",
       "0       never-married  \n",
       "1  married-civ-spouse  \n",
       "2            divorced  \n",
       "3            divorced  \n",
       "4  married-civ-spouse  "
      ]
     },
     "execution_count": 29,
     "metadata": {},
     "output_type": "execute_result"
    }
   ],
   "source": [
    "data['occupation'] = data['occupation'].fillna('unemployed')\n",
    "data['workClass'] = data['workClass'].fillna('unemployed')\n",
    "data.head()"
   ]
  },
  {
   "cell_type": "markdown",
   "id": "a6aa175b",
   "metadata": {},
   "source": [
    "Tratamento da variável nativeCountry"
   ]
  },
  {
   "cell_type": "code",
   "execution_count": 30,
   "id": "aafeb364",
   "metadata": {},
   "outputs": [
    {
     "data": {
      "text/html": [
       "<div>\n",
       "<style scoped>\n",
       "    .dataframe tbody tr th:only-of-type {\n",
       "        vertical-align: middle;\n",
       "    }\n",
       "\n",
       "    .dataframe tbody tr th {\n",
       "        vertical-align: top;\n",
       "    }\n",
       "\n",
       "    .dataframe thead th {\n",
       "        text-align: right;\n",
       "    }\n",
       "</style>\n",
       "<table border=\"1\" class=\"dataframe\">\n",
       "  <thead>\n",
       "    <tr style=\"text-align: right;\">\n",
       "      <th></th>\n",
       "      <th>_id</th>\n",
       "      <th>income</th>\n",
       "      <th>finalWeight</th>\n",
       "      <th>education</th>\n",
       "      <th>occupation</th>\n",
       "      <th>hoursPerWeek</th>\n",
       "      <th>race</th>\n",
       "      <th>sex</th>\n",
       "      <th>educationNum</th>\n",
       "      <th>capitalLoss</th>\n",
       "      <th>nativeCountry</th>\n",
       "      <th>workClass</th>\n",
       "      <th>capitalGain</th>\n",
       "      <th>relationship</th>\n",
       "      <th>age</th>\n",
       "      <th>maritalStatus</th>\n",
       "    </tr>\n",
       "  </thead>\n",
       "  <tbody>\n",
       "    <tr>\n",
       "      <th>5</th>\n",
       "      <td>61244323a4238d1ad6f16c02</td>\n",
       "      <td>&gt;50k</td>\n",
       "      <td>84154</td>\n",
       "      <td>some-college</td>\n",
       "      <td>sales</td>\n",
       "      <td>38</td>\n",
       "      <td>white</td>\n",
       "      <td>male</td>\n",
       "      <td>10</td>\n",
       "      <td>0.0</td>\n",
       "      <td>NaN</td>\n",
       "      <td>private</td>\n",
       "      <td>0.0</td>\n",
       "      <td>husband</td>\n",
       "      <td>31</td>\n",
       "      <td>married-civ-spouse</td>\n",
       "    </tr>\n",
       "    <tr>\n",
       "      <th>18</th>\n",
       "      <td>61244323a4238d1ad6f16c0f</td>\n",
       "      <td>&lt;=50k</td>\n",
       "      <td>117747</td>\n",
       "      <td>hs-grad</td>\n",
       "      <td>sales</td>\n",
       "      <td>35</td>\n",
       "      <td>asian-pac-islander</td>\n",
       "      <td>female</td>\n",
       "      <td>9</td>\n",
       "      <td>1573.0</td>\n",
       "      <td>NaN</td>\n",
       "      <td>private</td>\n",
       "      <td>0.0</td>\n",
       "      <td>wife</td>\n",
       "      <td>30</td>\n",
       "      <td>married-civ-spouse</td>\n",
       "    </tr>\n",
       "    <tr>\n",
       "      <th>151</th>\n",
       "      <td>61244324a4238d1ad6f16c94</td>\n",
       "      <td>&lt;=50k</td>\n",
       "      <td>293936</td>\n",
       "      <td>7th-8th</td>\n",
       "      <td>unemployed</td>\n",
       "      <td>40</td>\n",
       "      <td>white</td>\n",
       "      <td>male</td>\n",
       "      <td>4</td>\n",
       "      <td>0.0</td>\n",
       "      <td>NaN</td>\n",
       "      <td>unemployed</td>\n",
       "      <td>0.0</td>\n",
       "      <td>not-in-family</td>\n",
       "      <td>32</td>\n",
       "      <td>married-spouse-absent</td>\n",
       "    </tr>\n",
       "    <tr>\n",
       "      <th>332</th>\n",
       "      <td>61244326a4238d1ad6f16d49</td>\n",
       "      <td>&lt;=50k</td>\n",
       "      <td>201624</td>\n",
       "      <td>bachelors</td>\n",
       "      <td>prof-specialty</td>\n",
       "      <td>45</td>\n",
       "      <td>black</td>\n",
       "      <td>male</td>\n",
       "      <td>13</td>\n",
       "      <td>0.0</td>\n",
       "      <td>NaN</td>\n",
       "      <td>private</td>\n",
       "      <td>0.0</td>\n",
       "      <td>not-in-family</td>\n",
       "      <td>30</td>\n",
       "      <td>never-married</td>\n",
       "    </tr>\n",
       "    <tr>\n",
       "      <th>341</th>\n",
       "      <td>61244326a4238d1ad6f16d52</td>\n",
       "      <td>&lt;=50k</td>\n",
       "      <td>239683</td>\n",
       "      <td>10th</td>\n",
       "      <td>craft-repair</td>\n",
       "      <td>30</td>\n",
       "      <td>white</td>\n",
       "      <td>male</td>\n",
       "      <td>6</td>\n",
       "      <td>0.0</td>\n",
       "      <td>NaN</td>\n",
       "      <td>private</td>\n",
       "      <td>0.0</td>\n",
       "      <td>husband</td>\n",
       "      <td>41</td>\n",
       "      <td>married-civ-spouse</td>\n",
       "    </tr>\n",
       "    <tr>\n",
       "      <th>...</th>\n",
       "      <td>...</td>\n",
       "      <td>...</td>\n",
       "      <td>...</td>\n",
       "      <td>...</td>\n",
       "      <td>...</td>\n",
       "      <td>...</td>\n",
       "      <td>...</td>\n",
       "      <td>...</td>\n",
       "      <td>...</td>\n",
       "      <td>...</td>\n",
       "      <td>...</td>\n",
       "      <td>...</td>\n",
       "      <td>...</td>\n",
       "      <td>...</td>\n",
       "      <td>...</td>\n",
       "      <td>...</td>\n",
       "    </tr>\n",
       "    <tr>\n",
       "      <th>32485</th>\n",
       "      <td>612443cca4238d1ad6f1eae2</td>\n",
       "      <td>&gt;50k</td>\n",
       "      <td>71556</td>\n",
       "      <td>masters</td>\n",
       "      <td>sales</td>\n",
       "      <td>50</td>\n",
       "      <td>white</td>\n",
       "      <td>male</td>\n",
       "      <td>14</td>\n",
       "      <td>0.0</td>\n",
       "      <td>NaN</td>\n",
       "      <td>self-emp-inc</td>\n",
       "      <td>0.0</td>\n",
       "      <td>husband</td>\n",
       "      <td>44</td>\n",
       "      <td>married-civ-spouse</td>\n",
       "    </tr>\n",
       "    <tr>\n",
       "      <th>32496</th>\n",
       "      <td>612443cca4238d1ad6f1eaed</td>\n",
       "      <td>&lt;=50k</td>\n",
       "      <td>181974</td>\n",
       "      <td>doctorate</td>\n",
       "      <td>prof-specialty</td>\n",
       "      <td>99</td>\n",
       "      <td>white</td>\n",
       "      <td>female</td>\n",
       "      <td>16</td>\n",
       "      <td>0.0</td>\n",
       "      <td>NaN</td>\n",
       "      <td>self-emp-inc</td>\n",
       "      <td>0.0</td>\n",
       "      <td>not-in-family</td>\n",
       "      <td>58</td>\n",
       "      <td>never-married</td>\n",
       "    </tr>\n",
       "    <tr>\n",
       "      <th>32500</th>\n",
       "      <td>612443cca4238d1ad6f1eaf1</td>\n",
       "      <td>&lt;=50k</td>\n",
       "      <td>217597</td>\n",
       "      <td>hs-grad</td>\n",
       "      <td>sales</td>\n",
       "      <td>50</td>\n",
       "      <td>white</td>\n",
       "      <td>male</td>\n",
       "      <td>9</td>\n",
       "      <td>0.0</td>\n",
       "      <td>NaN</td>\n",
       "      <td>self-emp-not-inc</td>\n",
       "      <td>0.0</td>\n",
       "      <td>own-child</td>\n",
       "      <td>42</td>\n",
       "      <td>divorced</td>\n",
       "    </tr>\n",
       "    <tr>\n",
       "      <th>32544</th>\n",
       "      <td>612443cca4238d1ad6f1eb1d</td>\n",
       "      <td>&gt;50k</td>\n",
       "      <td>107302</td>\n",
       "      <td>hs-grad</td>\n",
       "      <td>prof-specialty</td>\n",
       "      <td>45</td>\n",
       "      <td>white</td>\n",
       "      <td>male</td>\n",
       "      <td>9</td>\n",
       "      <td>0.0</td>\n",
       "      <td>NaN</td>\n",
       "      <td>private</td>\n",
       "      <td>0.0</td>\n",
       "      <td>husband</td>\n",
       "      <td>39</td>\n",
       "      <td>married-civ-spouse</td>\n",
       "    </tr>\n",
       "    <tr>\n",
       "      <th>32548</th>\n",
       "      <td>612443cca4238d1ad6f1eb21</td>\n",
       "      <td>&lt;=50k</td>\n",
       "      <td>120478</td>\n",
       "      <td>assoc-voc</td>\n",
       "      <td>unemployed</td>\n",
       "      <td>1</td>\n",
       "      <td>white</td>\n",
       "      <td>female</td>\n",
       "      <td>11</td>\n",
       "      <td>0.0</td>\n",
       "      <td>NaN</td>\n",
       "      <td>unemployed</td>\n",
       "      <td>0.0</td>\n",
       "      <td>unmarried</td>\n",
       "      <td>81</td>\n",
       "      <td>divorced</td>\n",
       "    </tr>\n",
       "  </tbody>\n",
       "</table>\n",
       "<p>583 rows × 16 columns</p>\n",
       "</div>"
      ],
      "text/plain": [
       "                            _id income  finalWeight     education  \\\n",
       "5      61244323a4238d1ad6f16c02   >50k        84154  some-college   \n",
       "18     61244323a4238d1ad6f16c0f  <=50k       117747       hs-grad   \n",
       "151    61244324a4238d1ad6f16c94  <=50k       293936       7th-8th   \n",
       "332    61244326a4238d1ad6f16d49  <=50k       201624     bachelors   \n",
       "341    61244326a4238d1ad6f16d52  <=50k       239683          10th   \n",
       "...                         ...    ...          ...           ...   \n",
       "32485  612443cca4238d1ad6f1eae2   >50k        71556       masters   \n",
       "32496  612443cca4238d1ad6f1eaed  <=50k       181974     doctorate   \n",
       "32500  612443cca4238d1ad6f1eaf1  <=50k       217597       hs-grad   \n",
       "32544  612443cca4238d1ad6f1eb1d   >50k       107302       hs-grad   \n",
       "32548  612443cca4238d1ad6f1eb21  <=50k       120478     assoc-voc   \n",
       "\n",
       "           occupation  hoursPerWeek                race     sex  educationNum  \\\n",
       "5               sales            38               white    male            10   \n",
       "18              sales            35  asian-pac-islander  female             9   \n",
       "151        unemployed            40               white    male             4   \n",
       "332    prof-specialty            45               black    male            13   \n",
       "341      craft-repair            30               white    male             6   \n",
       "...               ...           ...                 ...     ...           ...   \n",
       "32485           sales            50               white    male            14   \n",
       "32496  prof-specialty            99               white  female            16   \n",
       "32500           sales            50               white    male             9   \n",
       "32544  prof-specialty            45               white    male             9   \n",
       "32548      unemployed             1               white  female            11   \n",
       "\n",
       "       capitalLoss nativeCountry         workClass  capitalGain  \\\n",
       "5              0.0           NaN           private          0.0   \n",
       "18          1573.0           NaN           private          0.0   \n",
       "151            0.0           NaN        unemployed          0.0   \n",
       "332            0.0           NaN           private          0.0   \n",
       "341            0.0           NaN           private          0.0   \n",
       "...            ...           ...               ...          ...   \n",
       "32485          0.0           NaN      self-emp-inc          0.0   \n",
       "32496          0.0           NaN      self-emp-inc          0.0   \n",
       "32500          0.0           NaN  self-emp-not-inc          0.0   \n",
       "32544          0.0           NaN           private          0.0   \n",
       "32548          0.0           NaN        unemployed          0.0   \n",
       "\n",
       "        relationship  age          maritalStatus  \n",
       "5            husband   31     married-civ-spouse  \n",
       "18              wife   30     married-civ-spouse  \n",
       "151    not-in-family   32  married-spouse-absent  \n",
       "332    not-in-family   30          never-married  \n",
       "341          husband   41     married-civ-spouse  \n",
       "...              ...  ...                    ...  \n",
       "32485        husband   44     married-civ-spouse  \n",
       "32496  not-in-family   58          never-married  \n",
       "32500      own-child   42               divorced  \n",
       "32544        husband   39     married-civ-spouse  \n",
       "32548      unmarried   81               divorced  \n",
       "\n",
       "[583 rows x 16 columns]"
      ]
     },
     "execution_count": 30,
     "metadata": {},
     "output_type": "execute_result"
    }
   ],
   "source": [
    "data[data['nativeCountry'].isna()]"
   ]
  },
  {
   "cell_type": "markdown",
   "id": "f5d947a8",
   "metadata": {},
   "source": [
    "Pode-se notar acima que a variável nativeCountry NaN são erro de preenchimento ou ausência dos dados. Não há relação com outras variáveis. \n",
    "A exclusão desses registros com 'native.country' NaN é necessária para evitar um resultado enviesado (são 583 registros)."
   ]
  },
  {
   "cell_type": "code",
   "execution_count": 31,
   "id": "a46f83bc",
   "metadata": {},
   "outputs": [
    {
     "data": {
      "text/plain": [
       "_id                0\n",
       "income             0\n",
       "finalWeight        0\n",
       "education          0\n",
       "occupation         0\n",
       "hoursPerWeek       0\n",
       "race               0\n",
       "sex                0\n",
       "educationNum       0\n",
       "capitalLoss        0\n",
       "nativeCountry    583\n",
       "workClass          0\n",
       "capitalGain        0\n",
       "relationship       0\n",
       "age                0\n",
       "maritalStatus      0\n",
       "dtype: int64"
      ]
     },
     "execution_count": 31,
     "metadata": {},
     "output_type": "execute_result"
    }
   ],
   "source": [
    "data.isna().sum()"
   ]
  },
  {
   "cell_type": "code",
   "execution_count": 32,
   "id": "8d976725",
   "metadata": {},
   "outputs": [
    {
     "data": {
      "text/html": [
       "<div>\n",
       "<style scoped>\n",
       "    .dataframe tbody tr th:only-of-type {\n",
       "        vertical-align: middle;\n",
       "    }\n",
       "\n",
       "    .dataframe tbody tr th {\n",
       "        vertical-align: top;\n",
       "    }\n",
       "\n",
       "    .dataframe thead th {\n",
       "        text-align: right;\n",
       "    }\n",
       "</style>\n",
       "<table border=\"1\" class=\"dataframe\">\n",
       "  <thead>\n",
       "    <tr style=\"text-align: right;\">\n",
       "      <th></th>\n",
       "      <th>_id</th>\n",
       "      <th>income</th>\n",
       "      <th>finalWeight</th>\n",
       "      <th>education</th>\n",
       "      <th>occupation</th>\n",
       "      <th>hoursPerWeek</th>\n",
       "      <th>race</th>\n",
       "      <th>sex</th>\n",
       "      <th>educationNum</th>\n",
       "      <th>capitalLoss</th>\n",
       "      <th>nativeCountry</th>\n",
       "      <th>workClass</th>\n",
       "      <th>capitalGain</th>\n",
       "      <th>relationship</th>\n",
       "      <th>age</th>\n",
       "      <th>maritalStatus</th>\n",
       "    </tr>\n",
       "  </thead>\n",
       "  <tbody>\n",
       "    <tr>\n",
       "      <th>0</th>\n",
       "      <td>61244322a4238d1ad6f16bfd</td>\n",
       "      <td>&lt;=50k</td>\n",
       "      <td>77516</td>\n",
       "      <td>bachelors</td>\n",
       "      <td>adm-clerical</td>\n",
       "      <td>40</td>\n",
       "      <td>white</td>\n",
       "      <td>male</td>\n",
       "      <td>13</td>\n",
       "      <td>0.0</td>\n",
       "      <td>united-states</td>\n",
       "      <td>state-gov</td>\n",
       "      <td>2174.0</td>\n",
       "      <td>not-in-family</td>\n",
       "      <td>39</td>\n",
       "      <td>never-married</td>\n",
       "    </tr>\n",
       "    <tr>\n",
       "      <th>1</th>\n",
       "      <td>61244323a4238d1ad6f16bfe</td>\n",
       "      <td>&lt;=50k</td>\n",
       "      <td>284582</td>\n",
       "      <td>masters</td>\n",
       "      <td>exec-managerial</td>\n",
       "      <td>40</td>\n",
       "      <td>white</td>\n",
       "      <td>female</td>\n",
       "      <td>14</td>\n",
       "      <td>0.0</td>\n",
       "      <td>united-states</td>\n",
       "      <td>private</td>\n",
       "      <td>0.0</td>\n",
       "      <td>wife</td>\n",
       "      <td>37</td>\n",
       "      <td>married-civ-spouse</td>\n",
       "    </tr>\n",
       "    <tr>\n",
       "      <th>2</th>\n",
       "      <td>61244323a4238d1ad6f16bff</td>\n",
       "      <td>&lt;=50k</td>\n",
       "      <td>109015</td>\n",
       "      <td>hs-grad</td>\n",
       "      <td>tech-support</td>\n",
       "      <td>40</td>\n",
       "      <td>white</td>\n",
       "      <td>female</td>\n",
       "      <td>9</td>\n",
       "      <td>0.0</td>\n",
       "      <td>united-states</td>\n",
       "      <td>private</td>\n",
       "      <td>0.0</td>\n",
       "      <td>unmarried</td>\n",
       "      <td>59</td>\n",
       "      <td>divorced</td>\n",
       "    </tr>\n",
       "    <tr>\n",
       "      <th>3</th>\n",
       "      <td>61244323a4238d1ad6f16c00</td>\n",
       "      <td>&lt;=50k</td>\n",
       "      <td>367260</td>\n",
       "      <td>hs-grad</td>\n",
       "      <td>exec-managerial</td>\n",
       "      <td>80</td>\n",
       "      <td>white</td>\n",
       "      <td>male</td>\n",
       "      <td>9</td>\n",
       "      <td>0.0</td>\n",
       "      <td>united-states</td>\n",
       "      <td>private</td>\n",
       "      <td>0.0</td>\n",
       "      <td>not-in-family</td>\n",
       "      <td>39</td>\n",
       "      <td>divorced</td>\n",
       "    </tr>\n",
       "    <tr>\n",
       "      <th>4</th>\n",
       "      <td>61244323a4238d1ad6f16c01</td>\n",
       "      <td>&lt;=50k</td>\n",
       "      <td>311512</td>\n",
       "      <td>some-college</td>\n",
       "      <td>other-service</td>\n",
       "      <td>15</td>\n",
       "      <td>black</td>\n",
       "      <td>male</td>\n",
       "      <td>10</td>\n",
       "      <td>0.0</td>\n",
       "      <td>united-states</td>\n",
       "      <td>state-gov</td>\n",
       "      <td>0.0</td>\n",
       "      <td>husband</td>\n",
       "      <td>22</td>\n",
       "      <td>married-civ-spouse</td>\n",
       "    </tr>\n",
       "  </tbody>\n",
       "</table>\n",
       "</div>"
      ],
      "text/plain": [
       "                        _id income  finalWeight     education  \\\n",
       "0  61244322a4238d1ad6f16bfd  <=50k        77516     bachelors   \n",
       "1  61244323a4238d1ad6f16bfe  <=50k       284582       masters   \n",
       "2  61244323a4238d1ad6f16bff  <=50k       109015       hs-grad   \n",
       "3  61244323a4238d1ad6f16c00  <=50k       367260       hs-grad   \n",
       "4  61244323a4238d1ad6f16c01  <=50k       311512  some-college   \n",
       "\n",
       "        occupation  hoursPerWeek   race     sex  educationNum  capitalLoss  \\\n",
       "0     adm-clerical            40  white    male            13          0.0   \n",
       "1  exec-managerial            40  white  female            14          0.0   \n",
       "2     tech-support            40  white  female             9          0.0   \n",
       "3  exec-managerial            80  white    male             9          0.0   \n",
       "4    other-service            15  black    male            10          0.0   \n",
       "\n",
       "   nativeCountry  workClass  capitalGain   relationship  age  \\\n",
       "0  united-states  state-gov       2174.0  not-in-family   39   \n",
       "1  united-states    private          0.0           wife   37   \n",
       "2  united-states    private          0.0      unmarried   59   \n",
       "3  united-states    private          0.0  not-in-family   39   \n",
       "4  united-states  state-gov          0.0        husband   22   \n",
       "\n",
       "        maritalStatus  \n",
       "0       never-married  \n",
       "1  married-civ-spouse  \n",
       "2            divorced  \n",
       "3            divorced  \n",
       "4  married-civ-spouse  "
      ]
     },
     "execution_count": 32,
     "metadata": {},
     "output_type": "execute_result"
    }
   ],
   "source": [
    "data.dropna(inplace = True)\n",
    "data.head()"
   ]
  },
  {
   "cell_type": "markdown",
   "id": "b9ee2d07",
   "metadata": {},
   "source": [
    "Verificar se existe alguma variável com valor NaN."
   ]
  },
  {
   "cell_type": "code",
   "execution_count": 33,
   "id": "14c2d3df",
   "metadata": {},
   "outputs": [
    {
     "data": {
      "text/plain": [
       "_id              0\n",
       "income           0\n",
       "finalWeight      0\n",
       "education        0\n",
       "occupation       0\n",
       "hoursPerWeek     0\n",
       "race             0\n",
       "sex              0\n",
       "educationNum     0\n",
       "capitalLoss      0\n",
       "nativeCountry    0\n",
       "workClass        0\n",
       "capitalGain      0\n",
       "relationship     0\n",
       "age              0\n",
       "maritalStatus    0\n",
       "dtype: int64"
      ]
     },
     "execution_count": 33,
     "metadata": {},
     "output_type": "execute_result"
    }
   ],
   "source": [
    "data.isna().sum()"
   ]
  },
  {
   "cell_type": "markdown",
   "id": "c8de4aff",
   "metadata": {},
   "source": [
    "Tratamento das variáveis 'educationNum' e _id\n",
    "\n",
    "educationNum é uma forma numérica da coluna 'education'\n",
    "\n",
    "_id é uma variável criado pelo MongoDB\n",
    "\n",
    "Obta-se para remoção dessas variáveis para evitar enviesamento no modelo."
   ]
  },
  {
   "cell_type": "code",
   "execution_count": 34,
   "id": "9a38434a",
   "metadata": {},
   "outputs": [],
   "source": [
    "data.drop('educationNum', axis = 1,inplace = True)"
   ]
  },
  {
   "cell_type": "code",
   "execution_count": 35,
   "id": "8810d7b0",
   "metadata": {},
   "outputs": [],
   "source": [
    "data.drop('_id', axis = 1,inplace = True)"
   ]
  },
  {
   "cell_type": "markdown",
   "id": "420862a3",
   "metadata": {},
   "source": [
    "Simplificação dos valores das variáveis education, workclass e marital status"
   ]
  },
  {
   "cell_type": "markdown",
   "id": "23862547",
   "metadata": {},
   "source": [
    "- Variável education"
   ]
  },
  {
   "cell_type": "code",
   "execution_count": 36,
   "id": "32e7c635",
   "metadata": {},
   "outputs": [
    {
     "data": {
      "text/plain": [
       "hs-grad         10368\n",
       "some-college     7187\n",
       "bachelors        5210\n",
       "masters          1674\n",
       "assoc-voc        1366\n",
       "11th             1167\n",
       "assoc-acdm       1055\n",
       "10th              921\n",
       "7th-8th           627\n",
       "prof-school       559\n",
       "9th               506\n",
       "12th              417\n",
       "doctorate         390\n",
       "5th-6th           318\n",
       "1st-4th           163\n",
       "preschool          50\n",
       "Name: education, dtype: int64"
      ]
     },
     "execution_count": 36,
     "metadata": {},
     "output_type": "execute_result"
    }
   ],
   "source": [
    "data['education'].value_counts()"
   ]
  },
  {
   "cell_type": "code",
   "execution_count": 37,
   "id": "79cb97f0",
   "metadata": {},
   "outputs": [
    {
     "data": {
      "text/plain": [
       "HighSchool-grad      13379\n",
       "some-college          7187\n",
       "bachelors             5210\n",
       "masters               1674\n",
       "assoc-voc             1366\n",
       "elementary_school     1108\n",
       "assoc-acdm            1055\n",
       "prof-school            559\n",
       "doctorate              390\n",
       "preschool               50\n",
       "Name: education, dtype: int64"
      ]
     },
     "execution_count": 37,
     "metadata": {},
     "output_type": "execute_result"
    }
   ],
   "source": [
    "hs_grad = ['hs-grad','11th','10th','9th','12th']\n",
    "elementary = ['1st-4th','5th-6th','7th-8th']\n",
    "\n",
    "data['education'].replace(hs_grad,'HighSchool-grad', inplace=True)\n",
    "data['education'].replace(elementary,'elementary_school', inplace=True)\n",
    "\n",
    "data['education'].value_counts()"
   ]
  },
  {
   "cell_type": "markdown",
   "id": "a58dec01",
   "metadata": {},
   "source": [
    "- Variável workClass"
   ]
  },
  {
   "cell_type": "code",
   "execution_count": 38,
   "id": "f12d635f",
   "metadata": {},
   "outputs": [
    {
     "data": {
      "text/plain": [
       "private             22286\n",
       "self-emp-not-inc     2499\n",
       "local-gov            2067\n",
       "unemployed           1809\n",
       "state-gov            1279\n",
       "self-emp-inc         1074\n",
       "federal-gov           943\n",
       "without-pay            14\n",
       "never-worked            7\n",
       "Name: workClass, dtype: int64"
      ]
     },
     "execution_count": 38,
     "metadata": {},
     "output_type": "execute_result"
    }
   ],
   "source": [
    "data['workClass'].value_counts()"
   ]
  },
  {
   "cell_type": "code",
   "execution_count": 39,
   "id": "44a71753",
   "metadata": {},
   "outputs": [
    {
     "data": {
      "text/plain": [
       "private             22286\n",
       "govern_employees     4289\n",
       "self_employed        3573\n",
       "unemployed           1809\n",
       "without-pay            14\n",
       "never-worked            7\n",
       "Name: workClass, dtype: int64"
      ]
     },
     "execution_count": 39,
     "metadata": {},
     "output_type": "execute_result"
    }
   ],
   "source": [
    "self_employed = ['self-emp-not-inc','self-emp-inc']\n",
    "govt_employees = ['local-gov','state-gov','federal-gov']\n",
    "\n",
    "data['workClass'].replace(to_replace = self_employed ,value = 'self_employed',inplace = True)\n",
    "data['workClass'].replace(to_replace = govt_employees,value = 'govern_employees',inplace = True)\n",
    "\n",
    "data['workClass'].value_counts()"
   ]
  },
  {
   "cell_type": "markdown",
   "id": "f65e8c82",
   "metadata": {},
   "source": [
    "- Variável maritalStatus"
   ]
  },
  {
   "cell_type": "code",
   "execution_count": 40,
   "id": "5a95dfe1",
   "metadata": {},
   "outputs": [
    {
     "data": {
      "text/plain": [
       "married-civ-spouse       14692\n",
       "never-married            10488\n",
       "divorced                  4394\n",
       "separated                 1005\n",
       "widowed                    979\n",
       "married-spouse-absent      397\n",
       "married-af-spouse           23\n",
       "Name: maritalStatus, dtype: int64"
      ]
     },
     "execution_count": 40,
     "metadata": {},
     "output_type": "execute_result"
    }
   ],
   "source": [
    "data['maritalStatus'].value_counts()"
   ]
  },
  {
   "cell_type": "code",
   "execution_count": 41,
   "id": "e73b4cd8",
   "metadata": {},
   "outputs": [
    {
     "data": {
      "text/plain": [
       "married          15112\n",
       "never-married    10488\n",
       "separated         5399\n",
       "widowed            979\n",
       "Name: maritalStatus, dtype: int64"
      ]
     },
     "execution_count": 41,
     "metadata": {},
     "output_type": "execute_result"
    }
   ],
   "source": [
    "married= ['married-spouse-absent','married-civ-spouse','married-af-spouse']\n",
    "separated = ['separated','divorced']\n",
    "\n",
    "data['maritalStatus'].replace(to_replace = married ,value = 'married',inplace = True)\n",
    "data['maritalStatus'].replace(to_replace = separated,value = 'separated',inplace = True)\n",
    "\n",
    "data['maritalStatus'].value_counts()"
   ]
  },
  {
   "cell_type": "code",
   "execution_count": 42,
   "id": "862dec65",
   "metadata": {},
   "outputs": [
    {
     "data": {
      "text/plain": [
       "3077"
      ]
     },
     "execution_count": 42,
     "metadata": {},
     "output_type": "execute_result"
    }
   ],
   "source": [
    "((data['income'].values == '>50k').sum() ) & ((data['workClass'].values == 'self_employed').sum() )"
   ]
  },
  {
   "cell_type": "code",
   "execution_count": 43,
   "id": "7ed9b99d",
   "metadata": {},
   "outputs": [
    {
     "data": {
      "text/plain": [
       "3077"
      ]
     },
     "execution_count": 43,
     "metadata": {},
     "output_type": "execute_result"
    }
   ],
   "source": [
    "((data['income'].values == '>50k').sum() ) & ((data['workClass'].values == 'self_employed').sum() )"
   ]
  },
  {
   "cell_type": "code",
   "execution_count": 44,
   "id": "31b7ede5",
   "metadata": {},
   "outputs": [
    {
     "data": {
      "text/plain": [
       "3077"
      ]
     },
     "execution_count": 44,
     "metadata": {},
     "output_type": "execute_result"
    }
   ],
   "source": [
    "((data['income'].values == '>50k').sum() ) & ((data['workClass'].values == 'self_employed').sum() )"
   ]
  },
  {
   "cell_type": "markdown",
   "id": "fdfffde6",
   "metadata": {},
   "source": [
    "- Variável Sex"
   ]
  },
  {
   "cell_type": "code",
   "execution_count": 45,
   "id": "db7e341e",
   "metadata": {},
   "outputs": [
    {
     "data": {
      "text/plain": [
       "male      21370\n",
       "female    10608\n",
       "Name: sex, dtype: int64"
      ]
     },
     "execution_count": 45,
     "metadata": {},
     "output_type": "execute_result"
    }
   ],
   "source": [
    "data['sex'].value_counts()"
   ]
  },
  {
   "cell_type": "code",
   "execution_count": 46,
   "id": "c4734520",
   "metadata": {},
   "outputs": [
    {
     "data": {
      "text/plain": [
       "0    21370\n",
       "1    10608\n",
       "Name: sex, dtype: int64"
      ]
     },
     "execution_count": 46,
     "metadata": {},
     "output_type": "execute_result"
    }
   ],
   "source": [
    "data['sex'].replace('male', 0, inplace=True)\n",
    "data['sex'].replace('female', 1, inplace=True)\n",
    "data['sex'].value_counts()"
   ]
  },
  {
   "cell_type": "markdown",
   "id": "e83591bc",
   "metadata": {},
   "source": [
    "# Análise dos dados"
   ]
  },
  {
   "cell_type": "markdown",
   "id": "c25a6369",
   "metadata": {},
   "source": [
    "Rate e correlação entre 2 fatores diferentes (workClass e maritalStatus)"
   ]
  },
  {
   "cell_type": "markdown",
   "id": "5e1a90ad",
   "metadata": {},
   "source": [
    "- Análise workClass"
   ]
  },
  {
   "cell_type": "code",
   "execution_count": 47,
   "id": "ea9008f1",
   "metadata": {},
   "outputs": [],
   "source": [
    "total_client_count = len(data['workClass'])\n",
    "total_clientVIP_count = ((data['income'].values == '>50k').sum() ) \n",
    "\n",
    "private_count = (data['workClass'].values == 'private').sum() \n",
    "govern_count = (data['workClass'].values == 'govern_employees').sum() \n",
    "self_count = (data['workClass'].values == 'self_employed').sum() \n",
    "unemployed_count = (data['workClass'].values == 'unemployed').sum()          \n",
    "withoutpay_count = (data['workClass'].values == 'without-pay').sum() \n",
    "neverworked_count = (data['workClass'].values == 'never-worked').sum() \n",
    "\n",
    "vprivate_count = ((data['income'].values == '>50k').sum() ) & ((data['workClass'].values == 'private').sum() )\n",
    "vgovern_count = ((data['income'].values == '>50k').sum() ) & ((data['workClass'].values == 'govern_employees').sum() )\n",
    "vself_count = ((data['income'].values == '>50k').sum() ) & ((data['workClass'].values == 'self_employed').sum() )\n",
    "vunemployed_count = ((data['income'].values == '>50k').sum() ) & ((data['workClass'].values == 'unemployed').sum() )\n",
    "vwithoutpay_count = ((data['income'].values == '>50k').sum() ) & ((data['workClass'].values == 'without-pay').sum() )\n",
    "vneverworked_count = ((data['income'].values == '>50k').sum() ) & ((data['workClass'].values == 'never-worked').sum() )\n",
    "\n",
    "perc_private = private_count / total_client_count * 100\n",
    "perc_govern = govern_count / total_client_count * 100\n",
    "perc_self = self_count / total_client_count * 100\n",
    "perc_unemployed = unemployed_count / total_client_count * 100       \n",
    "perc_withoutpay = withoutpay_count/ total_client_count * 100\n",
    "perc_neverworked = neverworked_count / total_client_count * 100\n",
    "\n",
    "vperc_private = vprivate_count / total_clientVIP_count * 100\n",
    "vperc_govern = vgovern_count / total_clientVIP_count * 100\n",
    "vperc_self = vself_count / total_clientVIP_count * 100\n",
    "vperc_unemployed = vunemployed_count / total_clientVIP_count * 100       \n",
    "vperc_withoutpay = vwithoutpay_count/ total_clientVIP_count * 100\n",
    "vperc_neverworked = vneverworked_count / total_clientVIP_count * 100"
   ]
  },
  {
   "cell_type": "code",
   "execution_count": 48,
   "id": "eef5ff61",
   "metadata": {},
   "outputs": [
    {
     "name": "stdout",
     "output_type": "stream",
     "text": [
      "private percentage =  69.6916630183251  | VIP percentage:  73.37231968810917\n",
      "govern percentage =  13.412345987866658  | VIP percentage:  53.24236517218973\n",
      "self percentage =  11.17330664832072  | VIP percentage:  39.98700454840806\n",
      "unemployed percentage =  5.657014197260617  | VIP percentage:  19.974009096816115\n",
      "withoupay percentage =  0.04378009881793733  | VIP percentage:  0.18193632228719947\n",
      "never worked percentage =  0.021890049408968666  | VIP percentage:  0.09096816114359974\n"
     ]
    }
   ],
   "source": [
    "print('private percentage = ', perc_private, ' | VIP percentage: ', vperc_private)\n",
    "print('govern percentage = ', perc_govern,  ' | VIP percentage: ', vperc_govern)\n",
    "print('self percentage = ', perc_self,  ' | VIP percentage: ', vperc_self)\n",
    "print('unemployed percentage = ', perc_unemployed,  ' | VIP percentage: ', vperc_unemployed)\n",
    "print('withoupay percentage = ', perc_withoutpay, ' | VIP percentage: ', vperc_withoutpay)\n",
    "print('never worked percentage = ', perc_neverworked,  ' | VIP percentage: ', vperc_neverworked)"
   ]
  },
  {
   "cell_type": "markdown",
   "id": "f3f52b3d",
   "metadata": {},
   "source": [
    "Conclusão:\n",
    "\n",
    "- A pessoa que trabalha em empresa privada representa 69% da base de dados, mas 73% desses clientes são de alta renda (>50k)\n",
    "- A pessoa que trabalha em empresa do governo representa 13% da base de dados, mas 53% desses clientes são de alta renda (>50k)\n",
    "- A pessoa que trabalha por conta própria representa 11% da base de dados, mas 39% desses clientes são de alta renda (>50k)\n",
    "- A pessoa que está desempregada representa 5% da base de dados, mas 19% desses clientes são de alta renda (>50k)\n",
    "- A pessoa que não tem renda representa menos de 1% da base de dados, mas menos de 1% desses clientes são de alta renda (>50k)\n",
    "- A pessoa que nunca trabalhou menos de 1% da base de dados, mas menos de 1% desses clientes são de alta renda (>50k)\n",
    "\n",
    "O foco para estratégias de ataque e defesa podem se norteado através do tipo de empresa do cadastro do cliente, ao verificar os percentuais dos clientes que não possuem renda ou nunca trabalhou, mostra um baixo percentual de ter um cliente premium. Além disso, nota-se considerar a classe de empresa privada e governo com grande parcela e probabilidade de ter um cliente de alta renda. Outra classe que demonstra um grande grande potencial a ser explorado são os cliente desempregado, mas com grande rendas, representando um total de 19%."
   ]
  },
  {
   "cell_type": "markdown",
   "id": "206453da",
   "metadata": {},
   "source": [
    "- Análise maritalStatus"
   ]
  },
  {
   "cell_type": "code",
   "execution_count": 49,
   "id": "686f938b",
   "metadata": {},
   "outputs": [],
   "source": [
    "total_client_count = len(data['maritalStatus'])\n",
    "total_clientVIP_count = ((data['income'].values == '>50k').sum() ) \n",
    "\n",
    "married_count = (data['maritalStatus'].values == 'married').sum() \n",
    "never_count = (data['maritalStatus'].values == 'never-married').sum() \n",
    "separa_count = (data['maritalStatus'].values == 'separated').sum() \n",
    "widowed_count = (data['maritalStatus'].values == 'widowed').sum()          \n",
    "\n",
    "vmarried_count = ((data['income'].values == '>50k').sum() ) & ((data['maritalStatus'].values == 'married').sum() )\n",
    "vnever_count = ((data['income'].values == '>50k').sum() ) & ((data['maritalStatus'].values == 'never-married').sum() )\n",
    "vsepara_count = ((data['income'].values == '>50k').sum() ) & ((data['maritalStatus'].values == 'separated').sum() )\n",
    "vwidowed_count = ((data['income'].values == '>50k').sum() ) & ((data['maritalStatus'].values == 'widowed').sum() )\n",
    "\n",
    "perc_married = married_count / total_client_count * 100\n",
    "perc_never = never_count / total_client_count * 100\n",
    "perc_separa = separa_count / total_client_count * 100\n",
    "perc_widowed = widowed_count / total_client_count * 100       \n",
    "\n",
    "vperc_married = vmarried_count / total_clientVIP_count * 100\n",
    "vperc_never = vnever_count / total_clientVIP_count * 100\n",
    "vperc_separa = vsepara_count / total_clientVIP_count * 100\n",
    "vperc_widowed = vwidowed_count / total_clientVIP_count * 100    "
   ]
  },
  {
   "cell_type": "code",
   "execution_count": 50,
   "id": "ab3133f0",
   "metadata": {},
   "outputs": [
    {
     "name": "stdout",
     "output_type": "stream",
     "text": [
      "married percentage =  47.257489524047784  | VIP percentage:  86.60168940870695\n",
      "never-married percentage =  32.7975483144662  | VIP percentage:  26.71864847303444\n",
      "separated percentage =  16.883482394145975  | VIP percentage:  66.62768031189084\n",
      "widowed percentage =  3.0614797673400465  | VIP percentage:  6.692657569850552\n"
     ]
    }
   ],
   "source": [
    "print('married percentage = ', perc_married ,' | VIP percentage: ', vperc_married )\n",
    "print('never-married percentage = ', perc_never ,' | VIP percentage: ', vperc_never )\n",
    "print('separated percentage = ', perc_separa ,' | VIP percentage: ', vperc_separa )\n",
    "print('widowed percentage = ', perc_widowed ,' | VIP percentage: ', vperc_widowed )\n"
   ]
  },
  {
   "cell_type": "markdown",
   "id": "d269ab45",
   "metadata": {},
   "source": [
    "Conclusão:\n",
    "\n",
    "- A pessoa que é casada representa 47% da base de dados, mas 86% desses clientes são de alta renda (>50k)\n",
    "- A pessoa que é solteira representa 32% da base de dados, mas 26% desses clientes são de alta renda (>50k)\n",
    "- A pessoa que é separada representa 16% da base de dados, mas 66% desses clientes são de alta renda (>50k)\n",
    "- A pessoa que é viuvo(a) representa 3% da base de dados, mas 6% desses clientes são de alta renda (>50k)\n",
    "\n",
    "O foco para estratégias de ataque e defesa podem se norteado através do estado cívil do cliente, tem alto potencial aos clientes que são casados e separado, podendo realizar uma estratégia para atingir essas pessoas. Além disso, o potencial para solteiro e um nicho pouco explorado pode ser os solteiros, que representam 26% dos clientes alta renda."
   ]
  },
  {
   "cell_type": "markdown",
   "id": "e97beabc",
   "metadata": {},
   "source": [
    "# Transformação das variáveis categóricas em númericos para utilizar no modelo"
   ]
  },
  {
   "cell_type": "markdown",
   "id": "56b5ad21",
   "metadata": {},
   "source": [
    "- Variável inCome\n",
    "\n",
    "Essa é a variável target, sendo considerado <=50k igual à 0 e >=50k igual à 1."
   ]
  },
  {
   "cell_type": "code",
   "execution_count": 51,
   "id": "f61f5cd7",
   "metadata": {},
   "outputs": [
    {
     "data": {
      "text/plain": [
       "<=50k    0.759366\n",
       ">50k     0.240634\n",
       "Name: income, dtype: float64"
      ]
     },
     "execution_count": 51,
     "metadata": {},
     "output_type": "execute_result"
    }
   ],
   "source": [
    "data['income'].value_counts(normalize=True)"
   ]
  },
  {
   "cell_type": "code",
   "execution_count": 52,
   "id": "c4c4bc7c",
   "metadata": {},
   "outputs": [],
   "source": [
    "data.replace('<=50k', 0, inplace=True)\n",
    "data.replace('>50k', 1, inplace=True)"
   ]
  },
  {
   "cell_type": "code",
   "execution_count": 53,
   "id": "c70d5137",
   "metadata": {},
   "outputs": [
    {
     "data": {
      "text/plain": [
       "0    24283\n",
       "1     7695\n",
       "Name: income, dtype: int64"
      ]
     },
     "execution_count": 53,
     "metadata": {},
     "output_type": "execute_result"
    }
   ],
   "source": [
    "data['income'].value_counts()"
   ]
  },
  {
   "cell_type": "markdown",
   "id": "23a284d9",
   "metadata": {},
   "source": [
    "- Mudança para as demais variáveis"
   ]
  },
  {
   "cell_type": "code",
   "execution_count": 54,
   "id": "7b59c432",
   "metadata": {},
   "outputs": [
    {
     "data": {
      "text/html": [
       "<div>\n",
       "<style scoped>\n",
       "    .dataframe tbody tr th:only-of-type {\n",
       "        vertical-align: middle;\n",
       "    }\n",
       "\n",
       "    .dataframe tbody tr th {\n",
       "        vertical-align: top;\n",
       "    }\n",
       "\n",
       "    .dataframe thead th {\n",
       "        text-align: right;\n",
       "    }\n",
       "</style>\n",
       "<table border=\"1\" class=\"dataframe\">\n",
       "  <thead>\n",
       "    <tr style=\"text-align: right;\">\n",
       "      <th></th>\n",
       "      <th>income</th>\n",
       "      <th>finalWeight</th>\n",
       "      <th>hoursPerWeek</th>\n",
       "      <th>sex</th>\n",
       "      <th>capitalLoss</th>\n",
       "      <th>capitalGain</th>\n",
       "      <th>age</th>\n",
       "      <th>education_HighSchool-grad</th>\n",
       "      <th>education_assoc-acdm</th>\n",
       "      <th>education_assoc-voc</th>\n",
       "      <th>...</th>\n",
       "      <th>relationship_husband</th>\n",
       "      <th>relationship_not-in-family</th>\n",
       "      <th>relationship_other-relative</th>\n",
       "      <th>relationship_own-child</th>\n",
       "      <th>relationship_unmarried</th>\n",
       "      <th>relationship_wife</th>\n",
       "      <th>maritalStatus_married</th>\n",
       "      <th>maritalStatus_never-married</th>\n",
       "      <th>maritalStatus_separated</th>\n",
       "      <th>maritalStatus_widowed</th>\n",
       "    </tr>\n",
       "  </thead>\n",
       "  <tbody>\n",
       "    <tr>\n",
       "      <th>0</th>\n",
       "      <td>0</td>\n",
       "      <td>77516</td>\n",
       "      <td>40</td>\n",
       "      <td>0</td>\n",
       "      <td>0.0</td>\n",
       "      <td>2174.0</td>\n",
       "      <td>39</td>\n",
       "      <td>0</td>\n",
       "      <td>0</td>\n",
       "      <td>0</td>\n",
       "      <td>...</td>\n",
       "      <td>0</td>\n",
       "      <td>1</td>\n",
       "      <td>0</td>\n",
       "      <td>0</td>\n",
       "      <td>0</td>\n",
       "      <td>0</td>\n",
       "      <td>0</td>\n",
       "      <td>1</td>\n",
       "      <td>0</td>\n",
       "      <td>0</td>\n",
       "    </tr>\n",
       "    <tr>\n",
       "      <th>1</th>\n",
       "      <td>0</td>\n",
       "      <td>284582</td>\n",
       "      <td>40</td>\n",
       "      <td>1</td>\n",
       "      <td>0.0</td>\n",
       "      <td>0.0</td>\n",
       "      <td>37</td>\n",
       "      <td>0</td>\n",
       "      <td>0</td>\n",
       "      <td>0</td>\n",
       "      <td>...</td>\n",
       "      <td>0</td>\n",
       "      <td>0</td>\n",
       "      <td>0</td>\n",
       "      <td>0</td>\n",
       "      <td>0</td>\n",
       "      <td>1</td>\n",
       "      <td>1</td>\n",
       "      <td>0</td>\n",
       "      <td>0</td>\n",
       "      <td>0</td>\n",
       "    </tr>\n",
       "    <tr>\n",
       "      <th>2</th>\n",
       "      <td>0</td>\n",
       "      <td>109015</td>\n",
       "      <td>40</td>\n",
       "      <td>1</td>\n",
       "      <td>0.0</td>\n",
       "      <td>0.0</td>\n",
       "      <td>59</td>\n",
       "      <td>1</td>\n",
       "      <td>0</td>\n",
       "      <td>0</td>\n",
       "      <td>...</td>\n",
       "      <td>0</td>\n",
       "      <td>0</td>\n",
       "      <td>0</td>\n",
       "      <td>0</td>\n",
       "      <td>1</td>\n",
       "      <td>0</td>\n",
       "      <td>0</td>\n",
       "      <td>0</td>\n",
       "      <td>1</td>\n",
       "      <td>0</td>\n",
       "    </tr>\n",
       "    <tr>\n",
       "      <th>3</th>\n",
       "      <td>0</td>\n",
       "      <td>367260</td>\n",
       "      <td>80</td>\n",
       "      <td>0</td>\n",
       "      <td>0.0</td>\n",
       "      <td>0.0</td>\n",
       "      <td>39</td>\n",
       "      <td>1</td>\n",
       "      <td>0</td>\n",
       "      <td>0</td>\n",
       "      <td>...</td>\n",
       "      <td>0</td>\n",
       "      <td>1</td>\n",
       "      <td>0</td>\n",
       "      <td>0</td>\n",
       "      <td>0</td>\n",
       "      <td>0</td>\n",
       "      <td>0</td>\n",
       "      <td>0</td>\n",
       "      <td>1</td>\n",
       "      <td>0</td>\n",
       "    </tr>\n",
       "    <tr>\n",
       "      <th>4</th>\n",
       "      <td>0</td>\n",
       "      <td>311512</td>\n",
       "      <td>15</td>\n",
       "      <td>0</td>\n",
       "      <td>0.0</td>\n",
       "      <td>0.0</td>\n",
       "      <td>22</td>\n",
       "      <td>0</td>\n",
       "      <td>0</td>\n",
       "      <td>0</td>\n",
       "      <td>...</td>\n",
       "      <td>1</td>\n",
       "      <td>0</td>\n",
       "      <td>0</td>\n",
       "      <td>0</td>\n",
       "      <td>0</td>\n",
       "      <td>0</td>\n",
       "      <td>1</td>\n",
       "      <td>0</td>\n",
       "      <td>0</td>\n",
       "      <td>0</td>\n",
       "    </tr>\n",
       "  </tbody>\n",
       "</table>\n",
       "<p>5 rows × 94 columns</p>\n",
       "</div>"
      ],
      "text/plain": [
       "   income  finalWeight  hoursPerWeek  sex  capitalLoss  capitalGain  age  \\\n",
       "0       0        77516            40    0          0.0       2174.0   39   \n",
       "1       0       284582            40    1          0.0          0.0   37   \n",
       "2       0       109015            40    1          0.0          0.0   59   \n",
       "3       0       367260            80    0          0.0          0.0   39   \n",
       "4       0       311512            15    0          0.0          0.0   22   \n",
       "\n",
       "   education_HighSchool-grad  education_assoc-acdm  education_assoc-voc  ...  \\\n",
       "0                          0                     0                    0  ...   \n",
       "1                          0                     0                    0  ...   \n",
       "2                          1                     0                    0  ...   \n",
       "3                          1                     0                    0  ...   \n",
       "4                          0                     0                    0  ...   \n",
       "\n",
       "   relationship_husband  relationship_not-in-family  \\\n",
       "0                     0                           1   \n",
       "1                     0                           0   \n",
       "2                     0                           0   \n",
       "3                     0                           1   \n",
       "4                     1                           0   \n",
       "\n",
       "   relationship_other-relative  relationship_own-child  \\\n",
       "0                            0                       0   \n",
       "1                            0                       0   \n",
       "2                            0                       0   \n",
       "3                            0                       0   \n",
       "4                            0                       0   \n",
       "\n",
       "   relationship_unmarried  relationship_wife  maritalStatus_married  \\\n",
       "0                       0                  0                      0   \n",
       "1                       0                  1                      1   \n",
       "2                       1                  0                      0   \n",
       "3                       0                  0                      0   \n",
       "4                       0                  0                      1   \n",
       "\n",
       "   maritalStatus_never-married  maritalStatus_separated  maritalStatus_widowed  \n",
       "0                            1                        0                      0  \n",
       "1                            0                        0                      0  \n",
       "2                            0                        1                      0  \n",
       "3                            0                        1                      0  \n",
       "4                            0                        0                      0  \n",
       "\n",
       "[5 rows x 94 columns]"
      ]
     },
     "execution_count": 54,
     "metadata": {},
     "output_type": "execute_result"
    }
   ],
   "source": [
    "data = pd.get_dummies(data)\n",
    "data.head() "
   ]
  },
  {
   "cell_type": "code",
   "execution_count": 55,
   "id": "37bdb697",
   "metadata": {},
   "outputs": [
    {
     "name": "stdout",
     "output_type": "stream",
     "text": [
      "<class 'pandas.core.frame.DataFrame'>\n",
      "Int64Index: 31978 entries, 0 to 32560\n",
      "Data columns (total 94 columns):\n",
      " #   Column                                    Non-Null Count  Dtype  \n",
      "---  ------                                    --------------  -----  \n",
      " 0   income                                    31978 non-null  int64  \n",
      " 1   finalWeight                               31978 non-null  int64  \n",
      " 2   hoursPerWeek                              31978 non-null  int64  \n",
      " 3   sex                                       31978 non-null  int64  \n",
      " 4   capitalLoss                               31978 non-null  float64\n",
      " 5   capitalGain                               31978 non-null  float64\n",
      " 6   age                                       31978 non-null  int64  \n",
      " 7   education_HighSchool-grad                 31978 non-null  uint8  \n",
      " 8   education_assoc-acdm                      31978 non-null  uint8  \n",
      " 9   education_assoc-voc                       31978 non-null  uint8  \n",
      " 10  education_bachelors                       31978 non-null  uint8  \n",
      " 11  education_doctorate                       31978 non-null  uint8  \n",
      " 12  education_elementary_school               31978 non-null  uint8  \n",
      " 13  education_masters                         31978 non-null  uint8  \n",
      " 14  education_preschool                       31978 non-null  uint8  \n",
      " 15  education_prof-school                     31978 non-null  uint8  \n",
      " 16  education_some-college                    31978 non-null  uint8  \n",
      " 17  occupation_adm-clerical                   31978 non-null  uint8  \n",
      " 18  occupation_armed-forces                   31978 non-null  uint8  \n",
      " 19  occupation_craft-repair                   31978 non-null  uint8  \n",
      " 20  occupation_exec-managerial                31978 non-null  uint8  \n",
      " 21  occupation_farming-fishing                31978 non-null  uint8  \n",
      " 22  occupation_handlers-cleaners              31978 non-null  uint8  \n",
      " 23  occupation_machine-op-inspct              31978 non-null  uint8  \n",
      " 24  occupation_other-service                  31978 non-null  uint8  \n",
      " 25  occupation_priv-house-serv                31978 non-null  uint8  \n",
      " 26  occupation_prof-specialty                 31978 non-null  uint8  \n",
      " 27  occupation_protective-serv                31978 non-null  uint8  \n",
      " 28  occupation_sales                          31978 non-null  uint8  \n",
      " 29  occupation_tech-support                   31978 non-null  uint8  \n",
      " 30  occupation_transport-moving               31978 non-null  uint8  \n",
      " 31  occupation_unemployed                     31978 non-null  uint8  \n",
      " 32  race_amer-indian-eskimo                   31978 non-null  uint8  \n",
      " 33  race_asian-pac-islander                   31978 non-null  uint8  \n",
      " 34  race_black                                31978 non-null  uint8  \n",
      " 35  race_other                                31978 non-null  uint8  \n",
      " 36  race_white                                31978 non-null  uint8  \n",
      " 37  nativeCountry_cambodia                    31978 non-null  uint8  \n",
      " 38  nativeCountry_canada                      31978 non-null  uint8  \n",
      " 39  nativeCountry_china                       31978 non-null  uint8  \n",
      " 40  nativeCountry_columbia                    31978 non-null  uint8  \n",
      " 41  nativeCountry_cuba                        31978 non-null  uint8  \n",
      " 42  nativeCountry_dominican-republic          31978 non-null  uint8  \n",
      " 43  nativeCountry_ecuador                     31978 non-null  uint8  \n",
      " 44  nativeCountry_el-salvador                 31978 non-null  uint8  \n",
      " 45  nativeCountry_england                     31978 non-null  uint8  \n",
      " 46  nativeCountry_france                      31978 non-null  uint8  \n",
      " 47  nativeCountry_germany                     31978 non-null  uint8  \n",
      " 48  nativeCountry_greece                      31978 non-null  uint8  \n",
      " 49  nativeCountry_guatemala                   31978 non-null  uint8  \n",
      " 50  nativeCountry_haiti                       31978 non-null  uint8  \n",
      " 51  nativeCountry_holand-netherlands          31978 non-null  uint8  \n",
      " 52  nativeCountry_honduras                    31978 non-null  uint8  \n",
      " 53  nativeCountry_hong                        31978 non-null  uint8  \n",
      " 54  nativeCountry_hungary                     31978 non-null  uint8  \n",
      " 55  nativeCountry_india                       31978 non-null  uint8  \n",
      " 56  nativeCountry_iran                        31978 non-null  uint8  \n",
      " 57  nativeCountry_ireland                     31978 non-null  uint8  \n",
      " 58  nativeCountry_italy                       31978 non-null  uint8  \n",
      " 59  nativeCountry_jamaica                     31978 non-null  uint8  \n",
      " 60  nativeCountry_japan                       31978 non-null  uint8  \n",
      " 61  nativeCountry_laos                        31978 non-null  uint8  \n",
      " 62  nativeCountry_mexico                      31978 non-null  uint8  \n",
      " 63  nativeCountry_nicaragua                   31978 non-null  uint8  \n",
      " 64  nativeCountry_outlying-us(guam-usvi-etc)  31978 non-null  uint8  \n",
      " 65  nativeCountry_peru                        31978 non-null  uint8  \n",
      " 66  nativeCountry_philippines                 31978 non-null  uint8  \n",
      " 67  nativeCountry_poland                      31978 non-null  uint8  \n",
      " 68  nativeCountry_portugal                    31978 non-null  uint8  \n",
      " 69  nativeCountry_puerto-rico                 31978 non-null  uint8  \n",
      " 70  nativeCountry_scotland                    31978 non-null  uint8  \n",
      " 71  nativeCountry_south                       31978 non-null  uint8  \n",
      " 72  nativeCountry_taiwan                      31978 non-null  uint8  \n",
      " 73  nativeCountry_thailand                    31978 non-null  uint8  \n",
      " 74  nativeCountry_trinadad&tobago             31978 non-null  uint8  \n",
      " 75  nativeCountry_united-states               31978 non-null  uint8  \n",
      " 76  nativeCountry_vietnam                     31978 non-null  uint8  \n",
      " 77  nativeCountry_yugoslavia                  31978 non-null  uint8  \n",
      " 78  workClass_govern_employees                31978 non-null  uint8  \n",
      " 79  workClass_never-worked                    31978 non-null  uint8  \n",
      " 80  workClass_private                         31978 non-null  uint8  \n",
      " 81  workClass_self_employed                   31978 non-null  uint8  \n",
      " 82  workClass_unemployed                      31978 non-null  uint8  \n",
      " 83  workClass_without-pay                     31978 non-null  uint8  \n",
      " 84  relationship_husband                      31978 non-null  uint8  \n",
      " 85  relationship_not-in-family                31978 non-null  uint8  \n",
      " 86  relationship_other-relative               31978 non-null  uint8  \n",
      " 87  relationship_own-child                    31978 non-null  uint8  \n",
      " 88  relationship_unmarried                    31978 non-null  uint8  \n",
      " 89  relationship_wife                         31978 non-null  uint8  \n",
      " 90  maritalStatus_married                     31978 non-null  uint8  \n",
      " 91  maritalStatus_never-married               31978 non-null  uint8  \n",
      " 92  maritalStatus_separated                   31978 non-null  uint8  \n",
      " 93  maritalStatus_widowed                     31978 non-null  uint8  \n",
      "dtypes: float64(2), int64(5), uint8(87)\n",
      "memory usage: 4.6 MB\n"
     ]
    }
   ],
   "source": [
    "data.info()"
   ]
  },
  {
   "cell_type": "markdown",
   "id": "774d4034",
   "metadata": {},
   "source": [
    "## Correlação entre as variáveis"
   ]
  },
  {
   "cell_type": "code",
   "execution_count": 56,
   "id": "e200c040",
   "metadata": {},
   "outputs": [],
   "source": [
    "# Utilização do modelo de Pearson\n",
    "corr = data.corr(method ='pearson')"
   ]
  },
  {
   "cell_type": "code",
   "execution_count": 57,
   "id": "872fddfc",
   "metadata": {},
   "outputs": [
    {
     "data": {
      "image/png": "[encoded data removed]",
      "text/plain": [
       "<Figure size 2160x2160 with 2 Axes>"
      ]
     },
     "metadata": {},
     "output_type": "display_data"
    }
   ],
   "source": [
    "plt.figure(figsize=(30, 30))\n",
    "sns.heatmap(corr)\n",
    "plt.show()"
   ]
  },
  {
   "cell_type": "markdown",
   "id": "5844a252",
   "metadata": {},
   "source": [
    "De acordo com as correlações, decidiu-se retirar as variaveis finalWeight, capitalGain, capitalLoss e hoursPerWeek"
   ]
  },
  {
   "cell_type": "code",
   "execution_count": 58,
   "id": "49f26b7f",
   "metadata": {},
   "outputs": [],
   "source": [
    "data.drop('finalWeight', axis = 1,inplace = True)\n",
    "data.drop('capitalGain', axis = 1,inplace = True)\n",
    "data.drop('capitalLoss', axis = 1,inplace = True)\n",
    "data.drop('hoursPerWeek', axis = 1,inplace = True)"
   ]
  },
  {
   "cell_type": "code",
   "execution_count": 59,
   "id": "5d1786dd",
   "metadata": {},
   "outputs": [
    {
     "name": "stdout",
     "output_type": "stream",
     "text": [
      "<class 'pandas.core.frame.DataFrame'>\n",
      "Int64Index: 31978 entries, 0 to 32560\n",
      "Data columns (total 90 columns):\n",
      " #   Column                                    Non-Null Count  Dtype\n",
      "---  ------                                    --------------  -----\n",
      " 0   income                                    31978 non-null  int64\n",
      " 1   sex                                       31978 non-null  int64\n",
      " 2   age                                       31978 non-null  int64\n",
      " 3   education_HighSchool-grad                 31978 non-null  uint8\n",
      " 4   education_assoc-acdm                      31978 non-null  uint8\n",
      " 5   education_assoc-voc                       31978 non-null  uint8\n",
      " 6   education_bachelors                       31978 non-null  uint8\n",
      " 7   education_doctorate                       31978 non-null  uint8\n",
      " 8   education_elementary_school               31978 non-null  uint8\n",
      " 9   education_masters                         31978 non-null  uint8\n",
      " 10  education_preschool                       31978 non-null  uint8\n",
      " 11  education_prof-school                     31978 non-null  uint8\n",
      " 12  education_some-college                    31978 non-null  uint8\n",
      " 13  occupation_adm-clerical                   31978 non-null  uint8\n",
      " 14  occupation_armed-forces                   31978 non-null  uint8\n",
      " 15  occupation_craft-repair                   31978 non-null  uint8\n",
      " 16  occupation_exec-managerial                31978 non-null  uint8\n",
      " 17  occupation_farming-fishing                31978 non-null  uint8\n",
      " 18  occupation_handlers-cleaners              31978 non-null  uint8\n",
      " 19  occupation_machine-op-inspct              31978 non-null  uint8\n",
      " 20  occupation_other-service                  31978 non-null  uint8\n",
      " 21  occupation_priv-house-serv                31978 non-null  uint8\n",
      " 22  occupation_prof-specialty                 31978 non-null  uint8\n",
      " 23  occupation_protective-serv                31978 non-null  uint8\n",
      " 24  occupation_sales                          31978 non-null  uint8\n",
      " 25  occupation_tech-support                   31978 non-null  uint8\n",
      " 26  occupation_transport-moving               31978 non-null  uint8\n",
      " 27  occupation_unemployed                     31978 non-null  uint8\n",
      " 28  race_amer-indian-eskimo                   31978 non-null  uint8\n",
      " 29  race_asian-pac-islander                   31978 non-null  uint8\n",
      " 30  race_black                                31978 non-null  uint8\n",
      " 31  race_other                                31978 non-null  uint8\n",
      " 32  race_white                                31978 non-null  uint8\n",
      " 33  nativeCountry_cambodia                    31978 non-null  uint8\n",
      " 34  nativeCountry_canada                      31978 non-null  uint8\n",
      " 35  nativeCountry_china                       31978 non-null  uint8\n",
      " 36  nativeCountry_columbia                    31978 non-null  uint8\n",
      " 37  nativeCountry_cuba                        31978 non-null  uint8\n",
      " 38  nativeCountry_dominican-republic          31978 non-null  uint8\n",
      " 39  nativeCountry_ecuador                     31978 non-null  uint8\n",
      " 40  nativeCountry_el-salvador                 31978 non-null  uint8\n",
      " 41  nativeCountry_england                     31978 non-null  uint8\n",
      " 42  nativeCountry_france                      31978 non-null  uint8\n",
      " 43  nativeCountry_germany                     31978 non-null  uint8\n",
      " 44  nativeCountry_greece                      31978 non-null  uint8\n",
      " 45  nativeCountry_guatemala                   31978 non-null  uint8\n",
      " 46  nativeCountry_haiti                       31978 non-null  uint8\n",
      " 47  nativeCountry_holand-netherlands          31978 non-null  uint8\n",
      " 48  nativeCountry_honduras                    31978 non-null  uint8\n",
      " 49  nativeCountry_hong                        31978 non-null  uint8\n",
      " 50  nativeCountry_hungary                     31978 non-null  uint8\n",
      " 51  nativeCountry_india                       31978 non-null  uint8\n",
      " 52  nativeCountry_iran                        31978 non-null  uint8\n",
      " 53  nativeCountry_ireland                     31978 non-null  uint8\n",
      " 54  nativeCountry_italy                       31978 non-null  uint8\n",
      " 55  nativeCountry_jamaica                     31978 non-null  uint8\n",
      " 56  nativeCountry_japan                       31978 non-null  uint8\n",
      " 57  nativeCountry_laos                        31978 non-null  uint8\n",
      " 58  nativeCountry_mexico                      31978 non-null  uint8\n",
      " 59  nativeCountry_nicaragua                   31978 non-null  uint8\n",
      " 60  nativeCountry_outlying-us(guam-usvi-etc)  31978 non-null  uint8\n",
      " 61  nativeCountry_peru                        31978 non-null  uint8\n",
      " 62  nativeCountry_philippines                 31978 non-null  uint8\n",
      " 63  nativeCountry_poland                      31978 non-null  uint8\n",
      " 64  nativeCountry_portugal                    31978 non-null  uint8\n",
      " 65  nativeCountry_puerto-rico                 31978 non-null  uint8\n",
      " 66  nativeCountry_scotland                    31978 non-null  uint8\n",
      " 67  nativeCountry_south                       31978 non-null  uint8\n",
      " 68  nativeCountry_taiwan                      31978 non-null  uint8\n",
      " 69  nativeCountry_thailand                    31978 non-null  uint8\n",
      " 70  nativeCountry_trinadad&tobago             31978 non-null  uint8\n",
      " 71  nativeCountry_united-states               31978 non-null  uint8\n",
      " 72  nativeCountry_vietnam                     31978 non-null  uint8\n",
      " 73  nativeCountry_yugoslavia                  31978 non-null  uint8\n",
      " 74  workClass_govern_employees                31978 non-null  uint8\n",
      " 75  workClass_never-worked                    31978 non-null  uint8\n",
      " 76  workClass_private                         31978 non-null  uint8\n",
      " 77  workClass_self_employed                   31978 non-null  uint8\n",
      " 78  workClass_unemployed                      31978 non-null  uint8\n",
      " 79  workClass_without-pay                     31978 non-null  uint8\n",
      " 80  relationship_husband                      31978 non-null  uint8\n",
      " 81  relationship_not-in-family                31978 non-null  uint8\n",
      " 82  relationship_other-relative               31978 non-null  uint8\n",
      " 83  relationship_own-child                    31978 non-null  uint8\n",
      " 84  relationship_unmarried                    31978 non-null  uint8\n",
      " 85  relationship_wife                         31978 non-null  uint8\n",
      " 86  maritalStatus_married                     31978 non-null  uint8\n",
      " 87  maritalStatus_never-married               31978 non-null  uint8\n",
      " 88  maritalStatus_separated                   31978 non-null  uint8\n",
      " 89  maritalStatus_widowed                     31978 non-null  uint8\n",
      "dtypes: int64(3), uint8(87)\n",
      "memory usage: 3.6 MB\n"
     ]
    }
   ],
   "source": [
    "data.info()"
   ]
  },
  {
   "cell_type": "markdown",
   "id": "992bef13",
   "metadata": {},
   "source": [
    "# Estatística descritiva das variáveis"
   ]
  },
  {
   "cell_type": "markdown",
   "id": "7825c477",
   "metadata": {},
   "source": [
    "Com finalidade de entender cada variáveis é necessário entender o comportamento da mesma. Dessa forma, é possível visualizar a quantidade, media, desvio padrão, mínimo, máximo e quartis."
   ]
  },
  {
   "cell_type": "code",
   "execution_count": 60,
   "id": "4936c369",
   "metadata": {},
   "outputs": [
    {
     "name": "stdout",
     "output_type": "stream",
     "text": [
      "(31978, 90)\n"
     ]
    },
    {
     "data": {
      "text/html": [
       "<div>\n",
       "<style scoped>\n",
       "    .dataframe tbody tr th:only-of-type {\n",
       "        vertical-align: middle;\n",
       "    }\n",
       "\n",
       "    .dataframe tbody tr th {\n",
       "        vertical-align: top;\n",
       "    }\n",
       "\n",
       "    .dataframe thead th {\n",
       "        text-align: right;\n",
       "    }\n",
       "</style>\n",
       "<table border=\"1\" class=\"dataframe\">\n",
       "  <thead>\n",
       "    <tr style=\"text-align: right;\">\n",
       "      <th></th>\n",
       "      <th>count</th>\n",
       "      <th>mean</th>\n",
       "      <th>std</th>\n",
       "      <th>min</th>\n",
       "      <th>25%</th>\n",
       "      <th>50%</th>\n",
       "      <th>75%</th>\n",
       "      <th>max</th>\n",
       "    </tr>\n",
       "  </thead>\n",
       "  <tbody>\n",
       "    <tr>\n",
       "      <th>income</th>\n",
       "      <td>31978.0</td>\n",
       "      <td>0.240634</td>\n",
       "      <td>0.427475</td>\n",
       "      <td>0.0</td>\n",
       "      <td>0.0</td>\n",
       "      <td>0.0</td>\n",
       "      <td>0.0</td>\n",
       "      <td>1.0</td>\n",
       "    </tr>\n",
       "    <tr>\n",
       "      <th>sex</th>\n",
       "      <td>31978.0</td>\n",
       "      <td>0.331728</td>\n",
       "      <td>0.470841</td>\n",
       "      <td>0.0</td>\n",
       "      <td>0.0</td>\n",
       "      <td>0.0</td>\n",
       "      <td>1.0</td>\n",
       "      <td>1.0</td>\n",
       "    </tr>\n",
       "    <tr>\n",
       "      <th>age</th>\n",
       "      <td>31978.0</td>\n",
       "      <td>38.579023</td>\n",
       "      <td>13.662085</td>\n",
       "      <td>17.0</td>\n",
       "      <td>28.0</td>\n",
       "      <td>37.0</td>\n",
       "      <td>48.0</td>\n",
       "      <td>90.0</td>\n",
       "    </tr>\n",
       "    <tr>\n",
       "      <th>education_HighSchool-grad</th>\n",
       "      <td>31978.0</td>\n",
       "      <td>0.418381</td>\n",
       "      <td>0.493301</td>\n",
       "      <td>0.0</td>\n",
       "      <td>0.0</td>\n",
       "      <td>0.0</td>\n",
       "      <td>1.0</td>\n",
       "      <td>1.0</td>\n",
       "    </tr>\n",
       "    <tr>\n",
       "      <th>education_assoc-acdm</th>\n",
       "      <td>31978.0</td>\n",
       "      <td>0.032991</td>\n",
       "      <td>0.178617</td>\n",
       "      <td>0.0</td>\n",
       "      <td>0.0</td>\n",
       "      <td>0.0</td>\n",
       "      <td>0.0</td>\n",
       "      <td>1.0</td>\n",
       "    </tr>\n",
       "    <tr>\n",
       "      <th>...</th>\n",
       "      <td>...</td>\n",
       "      <td>...</td>\n",
       "      <td>...</td>\n",
       "      <td>...</td>\n",
       "      <td>...</td>\n",
       "      <td>...</td>\n",
       "      <td>...</td>\n",
       "      <td>...</td>\n",
       "    </tr>\n",
       "    <tr>\n",
       "      <th>relationship_wife</th>\n",
       "      <td>31978.0</td>\n",
       "      <td>0.047970</td>\n",
       "      <td>0.213707</td>\n",
       "      <td>0.0</td>\n",
       "      <td>0.0</td>\n",
       "      <td>0.0</td>\n",
       "      <td>0.0</td>\n",
       "      <td>1.0</td>\n",
       "    </tr>\n",
       "    <tr>\n",
       "      <th>maritalStatus_married</th>\n",
       "      <td>31978.0</td>\n",
       "      <td>0.472575</td>\n",
       "      <td>0.499255</td>\n",
       "      <td>0.0</td>\n",
       "      <td>0.0</td>\n",
       "      <td>0.0</td>\n",
       "      <td>1.0</td>\n",
       "      <td>1.0</td>\n",
       "    </tr>\n",
       "    <tr>\n",
       "      <th>maritalStatus_never-married</th>\n",
       "      <td>31978.0</td>\n",
       "      <td>0.327975</td>\n",
       "      <td>0.469483</td>\n",
       "      <td>0.0</td>\n",
       "      <td>0.0</td>\n",
       "      <td>0.0</td>\n",
       "      <td>1.0</td>\n",
       "      <td>1.0</td>\n",
       "    </tr>\n",
       "    <tr>\n",
       "      <th>maritalStatus_separated</th>\n",
       "      <td>31978.0</td>\n",
       "      <td>0.168835</td>\n",
       "      <td>0.374612</td>\n",
       "      <td>0.0</td>\n",
       "      <td>0.0</td>\n",
       "      <td>0.0</td>\n",
       "      <td>0.0</td>\n",
       "      <td>1.0</td>\n",
       "    </tr>\n",
       "    <tr>\n",
       "      <th>maritalStatus_widowed</th>\n",
       "      <td>31978.0</td>\n",
       "      <td>0.030615</td>\n",
       "      <td>0.172274</td>\n",
       "      <td>0.0</td>\n",
       "      <td>0.0</td>\n",
       "      <td>0.0</td>\n",
       "      <td>0.0</td>\n",
       "      <td>1.0</td>\n",
       "    </tr>\n",
       "  </tbody>\n",
       "</table>\n",
       "<p>90 rows × 8 columns</p>\n",
       "</div>"
      ],
      "text/plain": [
       "                               count       mean        std   min   25%   50%  \\\n",
       "income                       31978.0   0.240634   0.427475   0.0   0.0   0.0   \n",
       "sex                          31978.0   0.331728   0.470841   0.0   0.0   0.0   \n",
       "age                          31978.0  38.579023  13.662085  17.0  28.0  37.0   \n",
       "education_HighSchool-grad    31978.0   0.418381   0.493301   0.0   0.0   0.0   \n",
       "education_assoc-acdm         31978.0   0.032991   0.178617   0.0   0.0   0.0   \n",
       "...                              ...        ...        ...   ...   ...   ...   \n",
       "relationship_wife            31978.0   0.047970   0.213707   0.0   0.0   0.0   \n",
       "maritalStatus_married        31978.0   0.472575   0.499255   0.0   0.0   0.0   \n",
       "maritalStatus_never-married  31978.0   0.327975   0.469483   0.0   0.0   0.0   \n",
       "maritalStatus_separated      31978.0   0.168835   0.374612   0.0   0.0   0.0   \n",
       "maritalStatus_widowed        31978.0   0.030615   0.172274   0.0   0.0   0.0   \n",
       "\n",
       "                              75%   max  \n",
       "income                        0.0   1.0  \n",
       "sex                           1.0   1.0  \n",
       "age                          48.0  90.0  \n",
       "education_HighSchool-grad     1.0   1.0  \n",
       "education_assoc-acdm          0.0   1.0  \n",
       "...                           ...   ...  \n",
       "relationship_wife             0.0   1.0  \n",
       "maritalStatus_married         1.0   1.0  \n",
       "maritalStatus_never-married   1.0   1.0  \n",
       "maritalStatus_separated       0.0   1.0  \n",
       "maritalStatus_widowed         0.0   1.0  \n",
       "\n",
       "[90 rows x 8 columns]"
      ]
     },
     "execution_count": 60,
     "metadata": {},
     "output_type": "execute_result"
    }
   ],
   "source": [
    "print(data.shape)\n",
    "data.describe().transpose()"
   ]
  },
  {
   "cell_type": "markdown",
   "id": "685e5c1a",
   "metadata": {},
   "source": [
    "# Aplicação do modelo Regressão Logística"
   ]
  },
  {
   "cell_type": "markdown",
   "id": "ded155d2",
   "metadata": {},
   "source": [
    "Verificação do balanceamento da variável income."
   ]
  },
  {
   "cell_type": "code",
   "execution_count": 61,
   "id": "e6236d42",
   "metadata": {},
   "outputs": [
    {
     "name": "stdout",
     "output_type": "stream",
     "text": [
      "0    24283\n",
      "1     7695\n",
      "Name: income, dtype: int64\n"
     ]
    },
    {
     "data": {
      "image/png": "[encoded data removed]",
      "text/plain": [
       "<Figure size 432x288 with 1 Axes>"
      ]
     },
     "metadata": {},
     "output_type": "display_data"
    }
   ],
   "source": [
    "print(data['income'].value_counts())\n",
    "sns.countplot(x='income', data=data)\n",
    "plt.show()"
   ]
  },
  {
   "cell_type": "markdown",
   "id": "a6c690f8",
   "metadata": {},
   "source": [
    "Nota-se que a base tende a ter mais dados para a classe income = 1, dessa forma o modelo estará aprendendo mais com a classe majoritária (income = 0) e assim fazendo com que o modelo fique enviessado\n",
    "\n",
    "Com a finalidade de teste, abaixo tem os passos para o modelo com dados desbalanceados."
   ]
  },
  {
   "cell_type": "code",
   "execution_count": 62,
   "id": "6d9f91b8",
   "metadata": {},
   "outputs": [],
   "source": [
    "# modelo regressão logística, vamos limitar as interações do modelo para 30000, devido ao ambiente POC.\n",
    "lr = LogisticRegression(max_iter=30000)"
   ]
  },
  {
   "cell_type": "code",
   "execution_count": 63,
   "id": "5107ffaf",
   "metadata": {},
   "outputs": [],
   "source": [
    "# separação das bases, sendo x a variavel target e y as demais variáveis\n",
    "x = data.drop('income', axis = 1)\n",
    "y = data.income"
   ]
  },
  {
   "cell_type": "code",
   "execution_count": 64,
   "id": "ba6c68aa",
   "metadata": {},
   "outputs": [
    {
     "data": {
      "text/plain": [
       "(31978, 89)"
      ]
     },
     "execution_count": 64,
     "metadata": {},
     "output_type": "execute_result"
    }
   ],
   "source": [
    "x.shape"
   ]
  },
  {
   "cell_type": "code",
   "execution_count": 65,
   "id": "2d501a44",
   "metadata": {},
   "outputs": [
    {
     "data": {
      "text/plain": [
       "(31978,)"
      ]
     },
     "execution_count": 65,
     "metadata": {},
     "output_type": "execute_result"
    }
   ],
   "source": [
    "y.shape"
   ]
  },
  {
   "cell_type": "code",
   "execution_count": 66,
   "id": "963b977a",
   "metadata": {},
   "outputs": [],
   "source": [
    "# separação das bases de treino e teste, considerando a base 70% treino e 30% teste - padrão)\n",
    "X_train, X_test, y_train, y_test = train_test_split(x, y, random_state = 1, stratify=y)"
   ]
  },
  {
   "cell_type": "code",
   "execution_count": 67,
   "id": "85ed2311",
   "metadata": {},
   "outputs": [
    {
     "data": {
      "text/plain": [
       "LogisticRegression(max_iter=30000)"
      ]
     },
     "execution_count": 67,
     "metadata": {},
     "output_type": "execute_result"
    }
   ],
   "source": [
    "# processamento do modelo\n",
    "lr.fit(X_train, y_train)"
   ]
  },
  {
   "cell_type": "code",
   "execution_count": 68,
   "id": "45045f23",
   "metadata": {},
   "outputs": [],
   "source": [
    "# criação do predicto para avaliar o percentual de accuracudade do modelo\n",
    "y_pred = lr.predict(X_test)"
   ]
  },
  {
   "cell_type": "code",
   "execution_count": 69,
   "id": "d7a62230",
   "metadata": {},
   "outputs": [
    {
     "name": "stdout",
     "output_type": "stream",
     "text": [
      "82.98936835522201\n"
     ]
    }
   ],
   "source": [
    "# accuracidade do modelo\n",
    "print(accuracy_score(y_test, y_pred)*100)"
   ]
  },
  {
   "cell_type": "code",
   "execution_count": 70,
   "id": "77442f36",
   "metadata": {},
   "outputs": [
    {
     "name": "stdout",
     "output_type": "stream",
     "text": [
      "              precision    recall  f1-score   support\n",
      "\n",
      "           0       0.86      0.93      0.89      6071\n",
      "           1       0.70      0.52      0.59      1924\n",
      "\n",
      "    accuracy                           0.83      7995\n",
      "   macro avg       0.78      0.72      0.74      7995\n",
      "weighted avg       0.82      0.83      0.82      7995\n",
      "\n"
     ]
    }
   ],
   "source": [
    "# Relatório de precisão e recall do modelo aplicado\n",
    "print(classification_report(y_test, y_pred))"
   ]
  },
  {
   "cell_type": "code",
   "execution_count": 71,
   "id": "a0db6e4a",
   "metadata": {},
   "outputs": [
    {
     "name": "stdout",
     "output_type": "stream",
     "text": [
      "Predito     0     1   All\n",
      "Real                     \n",
      "0        5643   428  6071\n",
      "1         932   992  1924\n",
      "All      6575  1420  7995\n"
     ]
    }
   ],
   "source": [
    "# Matriz da confusão\n",
    "print(pd.crosstab(y_test, y_pred, rownames=['Real'], colnames=['Predito'], margins=True))"
   ]
  },
  {
   "cell_type": "markdown",
   "id": "c1390684",
   "metadata": {},
   "source": [
    "# Conclusão\n",
    "\n",
    "Os resultados acima demonstra que o recall (número de acerto) para a classe 1 é baixa, cerca de 52%. Ou seja, confirma a teoria que o desbalanceamento fará com que o modelo aprenda mais sobre a classe majoritária.\n",
    "\n",
    "Sendo assim, vamos usar técnicas para balancear as classes. "
   ]
  },
  {
   "cell_type": "markdown",
   "id": "911508a8",
   "metadata": {},
   "source": [
    "# Técnica de Balanceamento - UnderSampling (nearMiss)\n",
    "Com a finalidade de diminuir o recall e precisão do modelo, a aplicação do nearMiss pode ajudar na melhoria dos resultados de aprendizado."
   ]
  },
  {
   "cell_type": "code",
   "execution_count": 72,
   "id": "a8b60485",
   "metadata": {},
   "outputs": [],
   "source": [
    "# aplincando a função NearMiss\n",
    "nr = NearMiss()"
   ]
  },
  {
   "cell_type": "code",
   "execution_count": 73,
   "id": "ae9d9557",
   "metadata": {},
   "outputs": [],
   "source": [
    "# resample do x e y com função NearMiss\n",
    "x, y = nr.fit_resample(x, y)"
   ]
  },
  {
   "cell_type": "code",
   "execution_count": 74,
   "id": "aac16d0e",
   "metadata": {},
   "outputs": [
    {
     "data": {
      "image/png": "[encoded data removed]",
      "text/plain": [
       "<Figure size 432x288 with 1 Axes>"
      ]
     },
     "metadata": {},
     "output_type": "display_data"
    }
   ],
   "source": [
    "# verificando a base \n",
    "ax = sns.countplot(x=y)"
   ]
  },
  {
   "cell_type": "code",
   "execution_count": 75,
   "id": "1c758ec4",
   "metadata": {},
   "outputs": [],
   "source": [
    "# separação das bases de treino e teste, considerando a base 70% treino e 30% teste - padrão)\n",
    "x_nmtrain, x_nmtest, y_nmtrain, y_nmtest = train_test_split(x, y, random_state = 1, stratify=y)"
   ]
  },
  {
   "cell_type": "code",
   "execution_count": 76,
   "id": "7d94f0b4",
   "metadata": {},
   "outputs": [],
   "source": [
    "# modelo regressão logística, vamos limitar as interações do modelo para 30000, devido ao ambiente POC.\n",
    "lr = LogisticRegression(max_iter=30000)"
   ]
  },
  {
   "cell_type": "code",
   "execution_count": 77,
   "id": "88ade9b8",
   "metadata": {},
   "outputs": [
    {
     "data": {
      "text/plain": [
       "LogisticRegression(max_iter=30000)"
      ]
     },
     "execution_count": 77,
     "metadata": {},
     "output_type": "execute_result"
    }
   ],
   "source": [
    "# processamento do modelo\n",
    "lr.fit(x_nmtrain, y_nmtrain)"
   ]
  },
  {
   "cell_type": "code",
   "execution_count": 78,
   "id": "066d34c1",
   "metadata": {},
   "outputs": [],
   "source": [
    "# criação do predicto para avaliar o percentual de accuracudade do modelo\n",
    "y_nmpred = lr.predict(x_nmtest)"
   ]
  },
  {
   "cell_type": "code",
   "execution_count": 79,
   "id": "4481c2f7",
   "metadata": {},
   "outputs": [
    {
     "name": "stdout",
     "output_type": "stream",
     "text": [
      "69.41268191268192\n"
     ]
    }
   ],
   "source": [
    "# accuracidade do modelo\n",
    "print(accuracy_score(y_nmtest, y_nmpred)*100)"
   ]
  },
  {
   "cell_type": "code",
   "execution_count": 80,
   "id": "2d9f08c2",
   "metadata": {},
   "outputs": [
    {
     "name": "stdout",
     "output_type": "stream",
     "text": [
      "              precision    recall  f1-score   support\n",
      "\n",
      "           0       0.68      0.72      0.70      1924\n",
      "           1       0.71      0.67      0.69      1924\n",
      "\n",
      "    accuracy                           0.69      3848\n",
      "   macro avg       0.69      0.69      0.69      3848\n",
      "weighted avg       0.69      0.69      0.69      3848\n",
      "\n"
     ]
    }
   ],
   "source": [
    "# Relatório de precisão e recall do modelo aplicado\n",
    "print(classification_report(y_nmtest, y_nmpred))"
   ]
  },
  {
   "cell_type": "code",
   "execution_count": 81,
   "id": "e57928b3",
   "metadata": {},
   "outputs": [
    {
     "name": "stdout",
     "output_type": "stream",
     "text": [
      "Predito     0     1   All\n",
      "Real                     \n",
      "0        1391   533  1924\n",
      "1         644  1280  1924\n",
      "All      2035  1813  3848\n"
     ]
    }
   ],
   "source": [
    "# Matriz da confusão\n",
    "print(pd.crosstab(y_nmtest, y_nmpred, rownames=['Real'], colnames=['Predito'], margins=True))"
   ]
  },
  {
   "cell_type": "markdown",
   "id": "c7c9ef35",
   "metadata": {},
   "source": [
    "# Conclusão\n",
    "\n",
    "Os resultados acima demonstram uma melhora com relação ao percentual de acerto entre as duas classes, entretanto a acuracidade do modelo ficou em 69.4%.\n",
    "\n",
    "Sendo assim, vamos usar técnicas para balancear as classes, mas no modelo OverSampling. "
   ]
  },
  {
   "cell_type": "markdown",
   "id": "9c274b96",
   "metadata": {},
   "source": [
    "# Técnica de Balanceamento - OverSampling (SMOTE)\n",
    "Com a finalidade de diminuir o recall e precisão do modelo, a aplicação do SMOTE pode ajudar na melhoria dos resultados de aprendizado."
   ]
  },
  {
   "cell_type": "code",
   "execution_count": 82,
   "id": "32d1eff7",
   "metadata": {},
   "outputs": [],
   "source": [
    "# Necessário recriar o x e y com os dados \n",
    "x = data.drop('income', axis = 1)\n",
    "y = data.income"
   ]
  },
  {
   "cell_type": "code",
   "execution_count": 83,
   "id": "b800509e",
   "metadata": {},
   "outputs": [
    {
     "data": {
      "text/plain": [
       "array([24283,  7695])"
      ]
     },
     "execution_count": 83,
     "metadata": {},
     "output_type": "execute_result"
    }
   ],
   "source": [
    "# verificar se x e y estão corretos\n",
    "np.bincount(y)"
   ]
  },
  {
   "cell_type": "code",
   "execution_count": 84,
   "id": "4d38fbb4",
   "metadata": {},
   "outputs": [],
   "source": [
    "# aplicando a função SMOTE \n",
    "smt = SMOTE()"
   ]
  },
  {
   "cell_type": "code",
   "execution_count": 85,
   "id": "0ca045d0",
   "metadata": {},
   "outputs": [],
   "source": [
    "# resample do x e y com função SMOTE\n",
    "x, y = smt.fit_resample(x, y)"
   ]
  },
  {
   "cell_type": "code",
   "execution_count": 86,
   "id": "afacbd58",
   "metadata": {},
   "outputs": [
    {
     "data": {
      "image/png": "[encoded data removed]",
      "text/plain": [
       "<Figure size 432x288 with 1 Axes>"
      ]
     },
     "metadata": {},
     "output_type": "display_data"
    }
   ],
   "source": [
    "# verificando a base \n",
    "ax = sns.countplot(x=y)"
   ]
  },
  {
   "cell_type": "code",
   "execution_count": 87,
   "id": "42190731",
   "metadata": {},
   "outputs": [],
   "source": [
    "# separação das bases de treino e teste, considerando a base 70% treino e 30% teste - padrão)\n",
    "x_smttrain, x_smttest, y_smttrain, y_smttest = train_test_split(x, y, random_state = 1, stratify=y)"
   ]
  },
  {
   "cell_type": "code",
   "execution_count": 88,
   "id": "0d6bb945",
   "metadata": {},
   "outputs": [],
   "source": [
    "# modelo regressão logística, vamos limitar as interações do modelo para 30000, devido ao ambiente POC.\n",
    "lr = LogisticRegression(max_iter=30000)"
   ]
  },
  {
   "cell_type": "code",
   "execution_count": 89,
   "id": "6b02f7bc",
   "metadata": {},
   "outputs": [
    {
     "data": {
      "text/plain": [
       "LogisticRegression(max_iter=30000)"
      ]
     },
     "execution_count": 89,
     "metadata": {},
     "output_type": "execute_result"
    }
   ],
   "source": [
    "# processamento do modelo\n",
    "lr.fit(x_smttrain, y_smttrain)"
   ]
  },
  {
   "cell_type": "code",
   "execution_count": 90,
   "id": "a7645cbc",
   "metadata": {},
   "outputs": [],
   "source": [
    "# criação do predicto para avaliar o percentual de accuracudade do modelo\n",
    "y_smtpred = lr.predict(x_smttest)"
   ]
  },
  {
   "cell_type": "code",
   "execution_count": 91,
   "id": "0645eca0",
   "metadata": {},
   "outputs": [
    {
     "name": "stdout",
     "output_type": "stream",
     "text": [
      "85.0189425135892\n"
     ]
    }
   ],
   "source": [
    "# accuracidade do modelo\n",
    "print(accuracy_score(y_smttest, y_smtpred)*100)"
   ]
  },
  {
   "cell_type": "code",
   "execution_count": 92,
   "id": "26a5a474",
   "metadata": {},
   "outputs": [
    {
     "name": "stdout",
     "output_type": "stream",
     "text": [
      "              precision    recall  f1-score   support\n",
      "\n",
      "           0       0.87      0.82      0.85      6071\n",
      "           1       0.83      0.88      0.85      6071\n",
      "\n",
      "    accuracy                           0.85     12142\n",
      "   macro avg       0.85      0.85      0.85     12142\n",
      "weighted avg       0.85      0.85      0.85     12142\n",
      "\n"
     ]
    }
   ],
   "source": [
    "# Relatório de precisão e recall do modelo aplicado\n",
    "print(classification_report(y_smttest, y_smtpred))"
   ]
  },
  {
   "cell_type": "code",
   "execution_count": 93,
   "id": "f1869bb9",
   "metadata": {},
   "outputs": [
    {
     "name": "stdout",
     "output_type": "stream",
     "text": [
      "Predito     0     1    All\n",
      "Real                      \n",
      "0        4997  1074   6071\n",
      "1         745  5326   6071\n",
      "All      5742  6400  12142\n"
     ]
    }
   ],
   "source": [
    "# Matriz da confusão\n",
    "print(pd.crosstab(y_smttest, y_smtpred, rownames=['Real'], colnames=['Predito'], margins=True))"
   ]
  },
  {
   "cell_type": "code",
   "execution_count": 94,
   "id": "31acc41d",
   "metadata": {},
   "outputs": [
    {
     "name": "stdout",
     "output_type": "stream",
     "text": [
      "85.0189425135892\n"
     ]
    }
   ],
   "source": [
    "#área sob a curva ROC, que representa a probabilidade do modelo distinguir corretamente a classe positiva da negativa\n",
    "print(roc_auc_score(y_smttest, y_smtpred)*100)"
   ]
  },
  {
   "cell_type": "markdown",
   "id": "e44e9b8f",
   "metadata": {},
   "source": [
    "# Conclusão\n",
    "\n",
    "Os resultados acima demonstram uma melhora significativa, com acuracidade de 85.2% de acerto do modelo, com relação a base balanceada com NearMiss e desbalanceada, com 75% e 82% de acuracidade respectivamente. Além disso, nota-se que a acuracidade entre a classe foi boa, considerando 82% de acerto para clientes abaixo de 50K e 88% para o público alvo."
   ]
  },
  {
   "cell_type": "markdown",
   "id": "85a119d2",
   "metadata": {},
   "source": [
    "# Verificação da importância de cada variáveis"
   ]
  },
  {
   "cell_type": "code",
   "execution_count": 95,
   "id": "11304a52",
   "metadata": {},
   "outputs": [],
   "source": [
    "importances = pd.DataFrame(data={\n",
    "    'Attribute': x.columns,\n",
    "    'Importance': [np.exp(x)/(1 + np.exp(x)) for x in lr.coef_[0]]\n",
    "})\n",
    "\n"
   ]
  },
  {
   "cell_type": "code",
   "execution_count": 96,
   "id": "6471e61c",
   "metadata": {},
   "outputs": [],
   "source": [
    "importances = importances.sort_values(by='Importance', ascending=False)"
   ]
  },
  {
   "cell_type": "code",
   "execution_count": 97,
   "id": "4d54382d",
   "metadata": {},
   "outputs": [],
   "source": [
    "pd.set_option('display.max_rows', None)"
   ]
  },
  {
   "cell_type": "code",
   "execution_count": 98,
   "id": "2fec4409",
   "metadata": {
    "scrolled": true
   },
   "outputs": [
    {
     "name": "stdout",
     "output_type": "stream",
     "text": [
      "                                   Attribute  Importance\n",
      "41                      nativeCountry_france    0.512608\n",
      "1                                        age    0.505213\n",
      "46          nativeCountry_holand-netherlands    0.496845\n",
      "55                       nativeCountry_japan    0.468589\n",
      "32                    nativeCountry_cambodia    0.458888\n",
      "49                     nativeCountry_hungary    0.447262\n",
      "69             nativeCountry_trinadad&tobago    0.419024\n",
      "52                     nativeCountry_ireland    0.400916\n",
      "47                    nativeCountry_honduras    0.388757\n",
      "68                    nativeCountry_thailand    0.382318\n",
      "61                 nativeCountry_philippines    0.371314\n",
      "70               nativeCountry_united-states    0.362605\n",
      "53                       nativeCountry_italy    0.354863\n",
      "65                    nativeCountry_scotland    0.354783\n",
      "72                  nativeCountry_yugoslavia    0.340641\n",
      "74                    workClass_never-worked    0.335516\n",
      "45                       nativeCountry_haiti    0.319978\n",
      "84                         relationship_wife    0.304654\n",
      "33                      nativeCountry_canada    0.302466\n",
      "48                        nativeCountry_hong    0.292280\n",
      "67                      nativeCountry_taiwan    0.263223\n",
      "42                     nativeCountry_germany    0.261675\n",
      "56                        nativeCountry_laos    0.261411\n",
      "0                                        sex    0.258835\n",
      "40                     nativeCountry_england    0.249655\n",
      "54                     nativeCountry_jamaica    0.241125\n",
      "44                   nativeCountry_guatemala    0.238917\n",
      "36                        nativeCountry_cuba    0.236085\n",
      "38                     nativeCountry_ecuador    0.219253\n",
      "59  nativeCountry_outlying-us(guam-usvi-etc)    0.211203\n",
      "50                       nativeCountry_india    0.202626\n",
      "58                   nativeCountry_nicaragua    0.198325\n",
      "51                        nativeCountry_iran    0.194650\n",
      "62                      nativeCountry_poland    0.190952\n",
      "63                    nativeCountry_portugal    0.190177\n",
      "66                       nativeCountry_south    0.189296\n",
      "34                       nativeCountry_china    0.186151\n",
      "60                        nativeCountry_peru    0.175615\n",
      "39                 nativeCountry_el-salvador    0.164354\n",
      "37          nativeCountry_dominican-republic    0.154577\n",
      "79                      relationship_husband    0.145003\n",
      "13                   occupation_armed-forces    0.134182\n",
      "71                     nativeCountry_vietnam    0.132140\n",
      "57                      nativeCountry_mexico    0.130227\n",
      "64                 nativeCountry_puerto-rico    0.122254\n",
      "10                     education_prof-school    0.111523\n",
      "6                        education_doctorate    0.110454\n",
      "43                      nativeCountry_greece    0.098599\n",
      "85                     maritalStatus_married    0.094039\n",
      "35                    nativeCountry_columbia    0.071811\n",
      "15                occupation_exec-managerial    0.065349\n",
      "31                                race_white    0.062791\n",
      "87                   maritalStatus_separated    0.059345\n",
      "88                     maritalStatus_widowed    0.056440\n",
      "8                          education_masters    0.056043\n",
      "75                         workClass_private    0.046622\n",
      "78                     workClass_without-pay    0.043173\n",
      "21                 occupation_prof-specialty    0.043160\n",
      "22                occupation_protective-serv    0.041273\n",
      "28                   race_asian-pac-islander    0.040519\n",
      "5                        education_bachelors    0.040008\n",
      "23                          occupation_sales    0.039279\n",
      "86               maritalStatus_never-married    0.039207\n",
      "29                                race_black    0.038695\n",
      "80                relationship_not-in-family    0.035318\n",
      "24                   occupation_tech-support    0.034372\n",
      "73                workClass_govern_employees    0.033177\n",
      "76                   workClass_self_employed    0.032581\n",
      "77                      workClass_unemployed    0.028053\n",
      "14                   occupation_craft-repair    0.027054\n",
      "83                    relationship_unmarried    0.025679\n",
      "12                   occupation_adm-clerical    0.025389\n",
      "25               occupation_transport-moving    0.024639\n",
      "27                   race_amer-indian-eskimo    0.023948\n",
      "30                                race_other    0.023622\n",
      "81               relationship_other-relative    0.017707\n",
      "20                occupation_priv-house-serv    0.017638\n",
      "18              occupation_machine-op-inspct    0.017344\n",
      "11                    education_some-college    0.016632\n",
      "4                        education_assoc-voc    0.014434\n",
      "26                     occupation_unemployed    0.014364\n",
      "3                       education_assoc-acdm    0.013670\n",
      "9                        education_preschool    0.013598\n",
      "2                  education_HighSchool-grad    0.011202\n",
      "16                occupation_farming-fishing    0.009108\n",
      "17              occupation_handlers-cleaners    0.008273\n",
      "19                  occupation_other-service    0.006995\n",
      "82                    relationship_own-child    0.006612\n",
      "7                education_elementary_school    0.002314\n"
     ]
    }
   ],
   "source": [
    "print(importances)"
   ]
  },
  {
   "cell_type": "code",
   "execution_count": 99,
   "id": "9bb9829f",
   "metadata": {},
   "outputs": [
    {
     "data": {
      "text/html": [
       "<div>\n",
       "<style scoped>\n",
       "    .dataframe tbody tr th:only-of-type {\n",
       "        vertical-align: middle;\n",
       "    }\n",
       "\n",
       "    .dataframe tbody tr th {\n",
       "        vertical-align: top;\n",
       "    }\n",
       "\n",
       "    .dataframe thead th {\n",
       "        text-align: right;\n",
       "    }\n",
       "</style>\n",
       "<table border=\"1\" class=\"dataframe\">\n",
       "  <thead>\n",
       "    <tr style=\"text-align: right;\">\n",
       "      <th></th>\n",
       "      <th>Importance</th>\n",
       "    </tr>\n",
       "  </thead>\n",
       "  <tbody>\n",
       "    <tr>\n",
       "      <th>count</th>\n",
       "      <td>89.000000</td>\n",
       "    </tr>\n",
       "    <tr>\n",
       "      <th>mean</th>\n",
       "      <td>0.161949</td>\n",
       "    </tr>\n",
       "    <tr>\n",
       "      <th>std</th>\n",
       "      <td>0.148487</td>\n",
       "    </tr>\n",
       "    <tr>\n",
       "      <th>min</th>\n",
       "      <td>0.002314</td>\n",
       "    </tr>\n",
       "    <tr>\n",
       "      <th>25%</th>\n",
       "      <td>0.033177</td>\n",
       "    </tr>\n",
       "    <tr>\n",
       "      <th>50%</th>\n",
       "      <td>0.122254</td>\n",
       "    </tr>\n",
       "    <tr>\n",
       "      <th>75%</th>\n",
       "      <td>0.261411</td>\n",
       "    </tr>\n",
       "    <tr>\n",
       "      <th>max</th>\n",
       "      <td>0.512608</td>\n",
       "    </tr>\n",
       "  </tbody>\n",
       "</table>\n",
       "</div>"
      ],
      "text/plain": [
       "       Importance\n",
       "count   89.000000\n",
       "mean     0.161949\n",
       "std      0.148487\n",
       "min      0.002314\n",
       "25%      0.033177\n",
       "50%      0.122254\n",
       "75%      0.261411\n",
       "max      0.512608"
      ]
     },
     "execution_count": 99,
     "metadata": {},
     "output_type": "execute_result"
    }
   ],
   "source": [
    "importances.describe()"
   ]
  },
  {
   "cell_type": "code",
   "execution_count": 100,
   "id": "14406a4e",
   "metadata": {},
   "outputs": [
    {
     "name": "stdout",
     "output_type": "stream",
     "text": [
      "0.12225392762290595\n"
     ]
    }
   ],
   "source": [
    "median_importance = statistics.median(importances['Importance'])\n",
    "print(median_importance)"
   ]
  },
  {
   "cell_type": "code",
   "execution_count": 101,
   "id": "486b6297",
   "metadata": {},
   "outputs": [
    {
     "name": "stdout",
     "output_type": "stream",
     "text": [
      "                       Attribute  Importance\n",
      "10         education_prof-school    0.111523\n",
      "6            education_doctorate    0.110454\n",
      "43          nativeCountry_greece    0.098599\n",
      "85         maritalStatus_married    0.094039\n",
      "35        nativeCountry_columbia    0.071811\n",
      "15    occupation_exec-managerial    0.065349\n",
      "31                    race_white    0.062791\n",
      "87       maritalStatus_separated    0.059345\n",
      "88         maritalStatus_widowed    0.056440\n",
      "8              education_masters    0.056043\n",
      "75             workClass_private    0.046622\n",
      "78         workClass_without-pay    0.043173\n",
      "21     occupation_prof-specialty    0.043160\n",
      "22    occupation_protective-serv    0.041273\n",
      "28       race_asian-pac-islander    0.040519\n",
      "5            education_bachelors    0.040008\n",
      "23              occupation_sales    0.039279\n",
      "86   maritalStatus_never-married    0.039207\n",
      "29                    race_black    0.038695\n",
      "80    relationship_not-in-family    0.035318\n",
      "24       occupation_tech-support    0.034372\n",
      "73    workClass_govern_employees    0.033177\n",
      "76       workClass_self_employed    0.032581\n",
      "77          workClass_unemployed    0.028053\n",
      "14       occupation_craft-repair    0.027054\n",
      "83        relationship_unmarried    0.025679\n",
      "12       occupation_adm-clerical    0.025389\n",
      "25   occupation_transport-moving    0.024639\n",
      "27       race_amer-indian-eskimo    0.023948\n",
      "30                    race_other    0.023622\n",
      "81   relationship_other-relative    0.017707\n",
      "20    occupation_priv-house-serv    0.017638\n",
      "18  occupation_machine-op-inspct    0.017344\n",
      "11        education_some-college    0.016632\n",
      "4            education_assoc-voc    0.014434\n",
      "26         occupation_unemployed    0.014364\n",
      "3           education_assoc-acdm    0.013670\n",
      "9            education_preschool    0.013598\n",
      "2      education_HighSchool-grad    0.011202\n",
      "16    occupation_farming-fishing    0.009108\n",
      "17  occupation_handlers-cleaners    0.008273\n",
      "19      occupation_other-service    0.006995\n",
      "82        relationship_own-child    0.006612\n",
      "7    education_elementary_school    0.002314\n"
     ]
    }
   ],
   "source": [
    "print(importances[importances['Importance'] < median_importance])"
   ]
  },
  {
   "cell_type": "code",
   "execution_count": 102,
   "id": "317a1c24",
   "metadata": {},
   "outputs": [
    {
     "data": {
      "image/png": "[encoded data removed]",
      "text/plain": [
       "<Figure size 1440x576 with 1 Axes>"
      ]
     },
     "metadata": {},
     "output_type": "display_data"
    }
   ],
   "source": [
    "plt.figure(figsize=(20,8))\n",
    "plt.bar(x=importances['Attribute'], height=importances['Importance'], color='#087E8B')\n",
    "plt.title('Feature importances obtained from coefficients', size=12)\n",
    "plt.xticks(rotation='vertical')\n",
    "plt.show()"
   ]
  },
  {
   "cell_type": "markdown",
   "id": "40695134",
   "metadata": {},
   "source": [
    "Vamos descartar as variáveis de native country para ser mais próximo da nossa realidade."
   ]
  },
  {
   "cell_type": "code",
   "execution_count": 103,
   "id": "fb443e22",
   "metadata": {},
   "outputs": [
    {
     "name": "stdout",
     "output_type": "stream",
     "text": [
      "                       Attribute  Importance\n",
      "1                            age    0.505213\n",
      "74        workClass_never-worked    0.335516\n",
      "84             relationship_wife    0.304654\n",
      "0                            sex    0.258835\n",
      "79          relationship_husband    0.145003\n",
      "13       occupation_armed-forces    0.134182\n",
      "10         education_prof-school    0.111523\n",
      "6            education_doctorate    0.110454\n",
      "85         maritalStatus_married    0.094039\n",
      "15    occupation_exec-managerial    0.065349\n",
      "31                    race_white    0.062791\n",
      "87       maritalStatus_separated    0.059345\n",
      "88         maritalStatus_widowed    0.056440\n",
      "8              education_masters    0.056043\n",
      "75             workClass_private    0.046622\n",
      "78         workClass_without-pay    0.043173\n",
      "21     occupation_prof-specialty    0.043160\n",
      "22    occupation_protective-serv    0.041273\n",
      "28       race_asian-pac-islander    0.040519\n",
      "5            education_bachelors    0.040008\n",
      "23              occupation_sales    0.039279\n",
      "86   maritalStatus_never-married    0.039207\n",
      "29                    race_black    0.038695\n",
      "80    relationship_not-in-family    0.035318\n",
      "24       occupation_tech-support    0.034372\n",
      "73    workClass_govern_employees    0.033177\n",
      "76       workClass_self_employed    0.032581\n",
      "77          workClass_unemployed    0.028053\n",
      "14       occupation_craft-repair    0.027054\n",
      "83        relationship_unmarried    0.025679\n",
      "12       occupation_adm-clerical    0.025389\n",
      "25   occupation_transport-moving    0.024639\n",
      "27       race_amer-indian-eskimo    0.023948\n",
      "30                    race_other    0.023622\n",
      "81   relationship_other-relative    0.017707\n",
      "20    occupation_priv-house-serv    0.017638\n",
      "18  occupation_machine-op-inspct    0.017344\n",
      "11        education_some-college    0.016632\n",
      "4            education_assoc-voc    0.014434\n",
      "26         occupation_unemployed    0.014364\n",
      "3           education_assoc-acdm    0.013670\n",
      "9            education_preschool    0.013598\n",
      "2      education_HighSchool-grad    0.011202\n",
      "16    occupation_farming-fishing    0.009108\n",
      "17  occupation_handlers-cleaners    0.008273\n",
      "19      occupation_other-service    0.006995\n",
      "82        relationship_own-child    0.006612\n",
      "7    education_elementary_school    0.002314\n"
     ]
    }
   ],
   "source": [
    "discard = 'nativeCountry'\n",
    "importances_cleaned = importances[~importances.Attribute.str.contains(discard)]\n",
    "print(importances_cleaned)"
   ]
  },
  {
   "cell_type": "code",
   "execution_count": 104,
   "id": "73a8cdc5",
   "metadata": {},
   "outputs": [
    {
     "data": {
      "image/png": "[encoded data removed]",
      "text/plain": [
       "<Figure size 1440x576 with 1 Axes>"
      ]
     },
     "metadata": {},
     "output_type": "display_data"
    }
   ],
   "source": [
    "plt.figure(figsize=(20,8))\n",
    "plt.bar(x=importances_cleaned['Attribute'], height=importances_cleaned['Importance'], color='#087E8B')\n",
    "plt.title('Feature importances obtained from coefficients', size=12)\n",
    "plt.xticks(rotation='vertical')\n",
    "plt.show()"
   ]
  },
  {
   "cell_type": "code",
   "execution_count": 105,
   "id": "0540e886",
   "metadata": {},
   "outputs": [
    {
     "data": {
      "text/html": [
       "<div>\n",
       "<style scoped>\n",
       "    .dataframe tbody tr th:only-of-type {\n",
       "        vertical-align: middle;\n",
       "    }\n",
       "\n",
       "    .dataframe tbody tr th {\n",
       "        vertical-align: top;\n",
       "    }\n",
       "\n",
       "    .dataframe thead th {\n",
       "        text-align: right;\n",
       "    }\n",
       "</style>\n",
       "<table border=\"1\" class=\"dataframe\">\n",
       "  <thead>\n",
       "    <tr style=\"text-align: right;\">\n",
       "      <th></th>\n",
       "      <th>Attribute</th>\n",
       "      <th>Importance</th>\n",
       "    </tr>\n",
       "  </thead>\n",
       "  <tbody>\n",
       "    <tr>\n",
       "      <th>1</th>\n",
       "      <td>age</td>\n",
       "      <td>0.505213</td>\n",
       "    </tr>\n",
       "    <tr>\n",
       "      <th>74</th>\n",
       "      <td>workClass_never-worked</td>\n",
       "      <td>0.335516</td>\n",
       "    </tr>\n",
       "    <tr>\n",
       "      <th>84</th>\n",
       "      <td>relationship_wife</td>\n",
       "      <td>0.304654</td>\n",
       "    </tr>\n",
       "    <tr>\n",
       "      <th>0</th>\n",
       "      <td>sex</td>\n",
       "      <td>0.258835</td>\n",
       "    </tr>\n",
       "    <tr>\n",
       "      <th>79</th>\n",
       "      <td>relationship_husband</td>\n",
       "      <td>0.145003</td>\n",
       "    </tr>\n",
       "  </tbody>\n",
       "</table>\n",
       "</div>"
      ],
      "text/plain": [
       "                 Attribute  Importance\n",
       "1                      age    0.505213\n",
       "74  workClass_never-worked    0.335516\n",
       "84       relationship_wife    0.304654\n",
       "0                      sex    0.258835\n",
       "79    relationship_husband    0.145003"
      ]
     },
     "execution_count": 105,
     "metadata": {},
     "output_type": "execute_result"
    }
   ],
   "source": [
    "importances_cleaned.head()"
   ]
  },
  {
   "cell_type": "markdown",
   "id": "13781dc8",
   "metadata": {},
   "source": [
    "# Conclusão\n",
    "Utilizamos o coeficiente da Regressão Logística como métrica para entender a importância da variável, e com isso, mostramos a probabilidade daquela variável impactar no modelo. \n",
    "Como conclusão, vemos que idade, pessoas que nunca trabalham, esposas, e sexo são as variáveis mais impactantes do modelo."
   ]
  },
  {
   "cell_type": "code",
   "execution_count": null,
   "id": "83fee2af",
   "metadata": {},
   "outputs": [],
   "source": []
  }
 ],
 "metadata": {
  "kernelspec": {
   "display_name": "Python 3",
   "language": "python",
   "name": "python3"
  },
  "language_info": {
   "codemirror_mode": {
    "name": "ipython",
    "version": 3
   },
   "file_extension": ".py",
   "mimetype": "text/x-python",
   "name": "python",
   "nbconvert_exporter": "python",
   "pygments_lexer": "ipython3",
   "version": "3.8.8"
  }
 },
 "nbformat": 4,
 "nbformat_minor": 5
}
