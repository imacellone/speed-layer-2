{
 "cells": [
  {
   "cell_type": "markdown",
   "id": "10fc1e53",
   "metadata": {},
   "source": [
    "# Objetivo\n",
    "Ser capaz de identificar clientes de alta renda (>50K) a partir de seus dados demograficos, socio economico e cadastro utilizando modelos de classificação. \n",
    "O dataset utilizado contém informações fictícias apenas para efeitos acadêmicos. \n",
    "Fonte: https://www.kaggle.com/uciml/adult-census-income\n",
    "\n",
    "O tipo de modelo escolhido foi de Regressão Logística uma vez que a variável que queremos prever  é binária (>50K ou <=50K).\n",
    "Através do modelo, será possível segmentar clientes do banco utilizando dados que podem ser disponibilizados pelas APIs do Open Banking. \n",
    "O intuito ao utilizar o modelo é oferecer melhores serviços e produtos baseado na renda do cliente."
   ]
  },
  {
   "cell_type": "markdown",
   "id": "dba0c0ea",
   "metadata": {},
   "source": [
    "import pymongo"
   ]
  },
  {
   "cell_type": "code",
   "execution_count": 2,
   "id": "ad8cc12f",
   "metadata": {},
   "outputs": [
    {
     "name": "stdout",
     "output_type": "stream",
     "text": [
      "Requirement already satisfied: imblearn in /opt/conda/lib/python3.8/site-packages (0.0)\n",
      "Requirement already satisfied: imbalanced-learn in /opt/conda/lib/python3.8/site-packages (from imblearn) (0.8.0)\n",
      "Requirement already satisfied: scipy>=0.19.1 in /opt/conda/lib/python3.8/site-packages (from imbalanced-learn->imblearn) (1.6.2)\n",
      "Requirement already satisfied: numpy>=1.13.3 in /opt/conda/lib/python3.8/site-packages (from imbalanced-learn->imblearn) (1.20.1)\n",
      "Requirement already satisfied: joblib>=0.11 in /opt/conda/lib/python3.8/site-packages (from imbalanced-learn->imblearn) (1.0.1)\n",
      "Requirement already satisfied: scikit-learn>=0.24 in /opt/conda/lib/python3.8/site-packages (from imbalanced-learn->imblearn) (0.24.1)\n",
      "Requirement already satisfied: threadpoolctl>=2.0.0 in /opt/conda/lib/python3.8/site-packages (from scikit-learn>=0.24->imbalanced-learn->imblearn) (2.1.0)\n"
     ]
    }
   ],
   "source": [
    "!pip install imblearn"
   ]
  },
  {
   "cell_type": "code",
   "execution_count": 73,
   "id": "5fa3ba15",
   "metadata": {},
   "outputs": [],
   "source": [
    "import pandas as pd\n",
    "import seaborn as sns\n",
    "import matplotlib.pyplot as plt\n",
    "import numpy as np\n",
    "from sklearn.linear_model import LogisticRegression\n",
    "from sklearn.model_selection import train_test_split\n",
    "from sklearn.metrics import accuracy_score, confusion_matrix, classification_report\n",
    "from imblearn.under_sampling import NearMiss\n",
    "from imblearn.over_sampling import SMOTE\n",
    "from sklearn.model_selection import KFold\n",
    "from sklearn.model_selection import cross_val_score\n",
    "from pymongo import MongoClient"
   ]
  },
  {
   "cell_type": "code",
   "execution_count": 4,
   "id": "670e3490",
   "metadata": {},
   "outputs": [],
   "source": [
    "sns.set()"
   ]
  },
  {
   "cell_type": "code",
   "execution_count": 5,
   "id": "146027ad",
   "metadata": {},
   "outputs": [],
   "source": [
    "#Adicionando conexão com mongo\n",
    "client = MongoClient(\"mongodb\", 27017)"
   ]
  },
  {
   "cell_type": "code",
   "execution_count": 6,
   "id": "dd324323",
   "metadata": {},
   "outputs": [],
   "source": [
    "#Carregando database\n",
    "db = client.raw"
   ]
  },
  {
   "cell_type": "code",
   "execution_count": 7,
   "id": "7f8071cb",
   "metadata": {},
   "outputs": [],
   "source": [
    "#Carregando Collection\n",
    "dados = db.adults"
   ]
  },
  {
   "cell_type": "code",
   "execution_count": 8,
   "id": "0a28dd29",
   "metadata": {},
   "outputs": [],
   "source": [
    "#Gerando cursor com toda a collection\n",
    "cursor = dados.find()"
   ]
  },
  {
   "cell_type": "code",
   "execution_count": 9,
   "id": "9510d8c6",
   "metadata": {},
   "outputs": [],
   "source": [
    "#Gerando um Dataframe do Panda\n",
    "data = pd.DataFrame(list(cursor))"
   ]
  },
  {
   "cell_type": "code",
   "execution_count": 10,
   "id": "f58e56ef",
   "metadata": {},
   "outputs": [
    {
     "data": {
      "text/html": [
       "<div>\n",
       "<style scoped>\n",
       "    .dataframe tbody tr th:only-of-type {\n",
       "        vertical-align: middle;\n",
       "    }\n",
       "\n",
       "    .dataframe tbody tr th {\n",
       "        vertical-align: top;\n",
       "    }\n",
       "\n",
       "    .dataframe thead th {\n",
       "        text-align: right;\n",
       "    }\n",
       "</style>\n",
       "<table border=\"1\" class=\"dataframe\">\n",
       "  <thead>\n",
       "    <tr style=\"text-align: right;\">\n",
       "      <th></th>\n",
       "      <th>_id</th>\n",
       "      <th>income</th>\n",
       "      <th>finalWeight</th>\n",
       "      <th>education</th>\n",
       "      <th>occupation</th>\n",
       "      <th>hoursPerWeek</th>\n",
       "      <th>race</th>\n",
       "      <th>sex</th>\n",
       "      <th>educationNum</th>\n",
       "      <th>capitalLoss</th>\n",
       "      <th>nativeCountry</th>\n",
       "      <th>workClass</th>\n",
       "      <th>capitalGain</th>\n",
       "      <th>relationship</th>\n",
       "      <th>age</th>\n",
       "      <th>maritalStatus</th>\n",
       "    </tr>\n",
       "  </thead>\n",
       "  <tbody>\n",
       "    <tr>\n",
       "      <th>0</th>\n",
       "      <td>61156a2596a76d248e5b0d50</td>\n",
       "      <td>&lt;=50k</td>\n",
       "      <td>77516</td>\n",
       "      <td>bachelors</td>\n",
       "      <td>adm-clerical</td>\n",
       "      <td>40</td>\n",
       "      <td>white</td>\n",
       "      <td>male</td>\n",
       "      <td>13</td>\n",
       "      <td>0.0</td>\n",
       "      <td>united-states</td>\n",
       "      <td>state-gov</td>\n",
       "      <td>2174.0</td>\n",
       "      <td>not-in-family</td>\n",
       "      <td>39</td>\n",
       "      <td>never-married</td>\n",
       "    </tr>\n",
       "    <tr>\n",
       "      <th>1</th>\n",
       "      <td>61156a2696a76d248e5b0d51</td>\n",
       "      <td>&lt;=50k</td>\n",
       "      <td>83311</td>\n",
       "      <td>bachelors</td>\n",
       "      <td>exec-managerial</td>\n",
       "      <td>13</td>\n",
       "      <td>white</td>\n",
       "      <td>male</td>\n",
       "      <td>13</td>\n",
       "      <td>0.0</td>\n",
       "      <td>united-states</td>\n",
       "      <td>self-emp-not-inc</td>\n",
       "      <td>0.0</td>\n",
       "      <td>husband</td>\n",
       "      <td>50</td>\n",
       "      <td>married-civ-spouse</td>\n",
       "    </tr>\n",
       "    <tr>\n",
       "      <th>2</th>\n",
       "      <td>61156a2696a76d248e5b0d52</td>\n",
       "      <td>&lt;=50k</td>\n",
       "      <td>215646</td>\n",
       "      <td>hs-grad</td>\n",
       "      <td>handlers-cleaners</td>\n",
       "      <td>40</td>\n",
       "      <td>white</td>\n",
       "      <td>male</td>\n",
       "      <td>9</td>\n",
       "      <td>0.0</td>\n",
       "      <td>united-states</td>\n",
       "      <td>private</td>\n",
       "      <td>0.0</td>\n",
       "      <td>not-in-family</td>\n",
       "      <td>38</td>\n",
       "      <td>divorced</td>\n",
       "    </tr>\n",
       "    <tr>\n",
       "      <th>3</th>\n",
       "      <td>61156a2696a76d248e5b0d53</td>\n",
       "      <td>&lt;=50k</td>\n",
       "      <td>160187</td>\n",
       "      <td>9th</td>\n",
       "      <td>other-service</td>\n",
       "      <td>16</td>\n",
       "      <td>black</td>\n",
       "      <td>female</td>\n",
       "      <td>5</td>\n",
       "      <td>0.0</td>\n",
       "      <td>jamaica</td>\n",
       "      <td>private</td>\n",
       "      <td>0.0</td>\n",
       "      <td>not-in-family</td>\n",
       "      <td>49</td>\n",
       "      <td>married-spouse-absent</td>\n",
       "    </tr>\n",
       "    <tr>\n",
       "      <th>4</th>\n",
       "      <td>61156a2696a76d248e5b0d54</td>\n",
       "      <td>&gt;50k</td>\n",
       "      <td>209642</td>\n",
       "      <td>hs-grad</td>\n",
       "      <td>exec-managerial</td>\n",
       "      <td>45</td>\n",
       "      <td>white</td>\n",
       "      <td>male</td>\n",
       "      <td>9</td>\n",
       "      <td>0.0</td>\n",
       "      <td>united-states</td>\n",
       "      <td>self-emp-not-inc</td>\n",
       "      <td>0.0</td>\n",
       "      <td>husband</td>\n",
       "      <td>52</td>\n",
       "      <td>married-civ-spouse</td>\n",
       "    </tr>\n",
       "  </tbody>\n",
       "</table>\n",
       "</div>"
      ],
      "text/plain": [
       "                        _id income  finalWeight  education         occupation  \\\n",
       "0  61156a2596a76d248e5b0d50  <=50k        77516  bachelors       adm-clerical   \n",
       "1  61156a2696a76d248e5b0d51  <=50k        83311  bachelors    exec-managerial   \n",
       "2  61156a2696a76d248e5b0d52  <=50k       215646    hs-grad  handlers-cleaners   \n",
       "3  61156a2696a76d248e5b0d53  <=50k       160187        9th      other-service   \n",
       "4  61156a2696a76d248e5b0d54   >50k       209642    hs-grad    exec-managerial   \n",
       "\n",
       "   hoursPerWeek   race     sex  educationNum  capitalLoss  nativeCountry  \\\n",
       "0            40  white    male            13          0.0  united-states   \n",
       "1            13  white    male            13          0.0  united-states   \n",
       "2            40  white    male             9          0.0  united-states   \n",
       "3            16  black  female             5          0.0        jamaica   \n",
       "4            45  white    male             9          0.0  united-states   \n",
       "\n",
       "          workClass  capitalGain   relationship  age          maritalStatus  \n",
       "0         state-gov       2174.0  not-in-family   39          never-married  \n",
       "1  self-emp-not-inc          0.0        husband   50     married-civ-spouse  \n",
       "2           private          0.0  not-in-family   38               divorced  \n",
       "3           private          0.0  not-in-family   49  married-spouse-absent  \n",
       "4  self-emp-not-inc          0.0        husband   52     married-civ-spouse  "
      ]
     },
     "execution_count": 10,
     "metadata": {},
     "output_type": "execute_result"
    }
   ],
   "source": [
    "data.head()"
   ]
  },
  {
   "cell_type": "code",
   "execution_count": 11,
   "id": "b53a7b00",
   "metadata": {},
   "outputs": [
    {
     "name": "stdout",
     "output_type": "stream",
     "text": [
      "<class 'pandas.core.frame.DataFrame'>\n",
      "RangeIndex: 32561 entries, 0 to 32560\n",
      "Data columns (total 16 columns):\n",
      " #   Column         Non-Null Count  Dtype  \n",
      "---  ------         --------------  -----  \n",
      " 0   _id            32561 non-null  object \n",
      " 1   income         32561 non-null  object \n",
      " 2   finalWeight    32561 non-null  int64  \n",
      " 3   education      32561 non-null  object \n",
      " 4   occupation     32561 non-null  object \n",
      " 5   hoursPerWeek   32561 non-null  int64  \n",
      " 6   race           32561 non-null  object \n",
      " 7   sex            32561 non-null  object \n",
      " 8   educationNum   32561 non-null  int64  \n",
      " 9   capitalLoss    32561 non-null  float64\n",
      " 10  nativeCountry  32561 non-null  object \n",
      " 11  workClass      32561 non-null  object \n",
      " 12  capitalGain    32561 non-null  float64\n",
      " 13  relationship   32561 non-null  object \n",
      " 14  age            32561 non-null  int64  \n",
      " 15  maritalStatus  32561 non-null  object \n",
      "dtypes: float64(2), int64(4), object(10)\n",
      "memory usage: 4.0+ MB\n"
     ]
    }
   ],
   "source": [
    "data.info()"
   ]
  },
  {
   "cell_type": "markdown",
   "id": "9a087c08",
   "metadata": {},
   "source": [
    "# Verificar os campos para dados null ou com inconsistências"
   ]
  },
  {
   "cell_type": "markdown",
   "id": "01a3e928",
   "metadata": {},
   "source": [
    "Apesar de mostrar que o dataset não há valores null, percebe-se que existem campos valor '?' nas variáveis nativeCountry, workclass e occupation"
   ]
  },
  {
   "cell_type": "code",
   "execution_count": 12,
   "id": "d937c0d7",
   "metadata": {},
   "outputs": [
    {
     "data": {
      "text/plain": [
       "array(['adm-clerical', 'exec-managerial', 'handlers-cleaners',\n",
       "       'other-service', 'prof-specialty', 'sales', 'craft-repair',\n",
       "       'transport-moving', 'tech-support', '?', 'machine-op-inspct',\n",
       "       'farming-fishing', 'protective-serv', 'priv-house-serv',\n",
       "       'armed-forces'], dtype=object)"
      ]
     },
     "execution_count": 12,
     "metadata": {},
     "output_type": "execute_result"
    }
   ],
   "source": [
    "data['occupation'].unique()"
   ]
  },
  {
   "cell_type": "code",
   "execution_count": 13,
   "id": "7dcde833",
   "metadata": {},
   "outputs": [
    {
     "data": {
      "text/plain": [
       "array(['state-gov', 'self-emp-not-inc', 'private', 'local-gov', '?',\n",
       "       'federal-gov', 'self-emp-inc', 'without-pay', 'never-worked'],\n",
       "      dtype=object)"
      ]
     },
     "execution_count": 13,
     "metadata": {},
     "output_type": "execute_result"
    }
   ],
   "source": [
    "data['workClass'].unique()"
   ]
  },
  {
   "cell_type": "markdown",
   "id": "53fb2aca",
   "metadata": {},
   "source": [
    "Analise das outras variáveis"
   ]
  },
  {
   "cell_type": "code",
   "execution_count": 14,
   "id": "f4f3e2f8",
   "metadata": {},
   "outputs": [
    {
     "data": {
      "text/plain": [
       "array([39, 50, 38, 49, 52, 31, 37, 30, 23, 32, 40, 34, 54, 59, 56, 19, 22,\n",
       "       48, 53, 24, 25, 57, 47, 43, 46, 42, 36, 29, 79, 28, 45, 33, 68, 26,\n",
       "       35, 90, 58, 17, 64, 27, 60, 41, 77, 66, 20, 44, 18, 21, 74, 62, 67,\n",
       "       51, 55, 63, 71, 65, 61, 69, 76, 75, 73, 72, 70, 80, 81, 78, 82, 88,\n",
       "       83, 84, 85, 86, 87])"
      ]
     },
     "execution_count": 14,
     "metadata": {},
     "output_type": "execute_result"
    }
   ],
   "source": [
    "data['age'].unique()"
   ]
  },
  {
   "cell_type": "code",
   "execution_count": 15,
   "id": "091b08e1",
   "metadata": {},
   "outputs": [
    {
     "data": {
      "text/plain": [
       "array(['bachelors', 'hs-grad', '9th', 'masters', 'some-college',\n",
       "       'assoc-acdm', 'assoc-voc', '7th-8th', '11th', 'doctorate',\n",
       "       '5th-6th', '1st-4th', '12th', 'prof-school', '10th', 'preschool'],\n",
       "      dtype=object)"
      ]
     },
     "execution_count": 15,
     "metadata": {},
     "output_type": "execute_result"
    }
   ],
   "source": [
    "data['education'].unique()"
   ]
  },
  {
   "cell_type": "code",
   "execution_count": 16,
   "id": "d60f61b0",
   "metadata": {},
   "outputs": [
    {
     "data": {
      "text/plain": [
       "array(['never-married', 'married-civ-spouse', 'divorced',\n",
       "       'married-spouse-absent', 'separated', 'widowed',\n",
       "       'married-af-spouse'], dtype=object)"
      ]
     },
     "execution_count": 16,
     "metadata": {},
     "output_type": "execute_result"
    }
   ],
   "source": [
    "data['maritalStatus'].unique()"
   ]
  },
  {
   "cell_type": "code",
   "execution_count": 17,
   "id": "e01a29d4",
   "metadata": {},
   "outputs": [
    {
     "data": {
      "text/plain": [
       "array(['not-in-family', 'husband', 'own-child', 'unmarried', 'wife',\n",
       "       'other-relative'], dtype=object)"
      ]
     },
     "execution_count": 17,
     "metadata": {},
     "output_type": "execute_result"
    }
   ],
   "source": [
    "data['relationship'].unique()"
   ]
  },
  {
   "cell_type": "code",
   "execution_count": 18,
   "id": "ca572920",
   "metadata": {},
   "outputs": [
    {
     "data": {
      "text/plain": [
       "array(['white', 'black', 'asian-pac-islander', 'amer-indian-eskimo',\n",
       "       'other'], dtype=object)"
      ]
     },
     "execution_count": 18,
     "metadata": {},
     "output_type": "execute_result"
    }
   ],
   "source": [
    "data['race'].unique()"
   ]
  },
  {
   "cell_type": "code",
   "execution_count": 19,
   "id": "75076d9e",
   "metadata": {},
   "outputs": [
    {
     "data": {
      "text/plain": [
       "array(['male', 'female'], dtype=object)"
      ]
     },
     "execution_count": 19,
     "metadata": {},
     "output_type": "execute_result"
    }
   ],
   "source": [
    "data['sex'].unique()"
   ]
  },
  {
   "cell_type": "code",
   "execution_count": 20,
   "id": "3592984d",
   "metadata": {},
   "outputs": [
    {
     "data": {
      "text/plain": [
       "array(['<=50k', '>50k'], dtype=object)"
      ]
     },
     "execution_count": 20,
     "metadata": {},
     "output_type": "execute_result"
    }
   ],
   "source": [
    "data['income'].unique() "
   ]
  },
  {
   "cell_type": "code",
   "execution_count": 21,
   "id": "45b95853",
   "metadata": {},
   "outputs": [
    {
     "data": {
      "text/plain": [
       "array([ 77516,  83311, 215646, ..., 287372,  34066, 257302])"
      ]
     },
     "execution_count": 21,
     "metadata": {},
     "output_type": "execute_result"
    }
   ],
   "source": [
    "data['finalWeight'].unique() "
   ]
  },
  {
   "cell_type": "code",
   "execution_count": 22,
   "id": "7f580dbb",
   "metadata": {},
   "outputs": [
    {
     "data": {
      "text/plain": [
       "array([40, 13, 16, 45, 50, 80, 30, 60, 20, 15, 43, 35, 38, 70, 25, 24, 46,\n",
       "       34, 12, 42, 54, 55, 48, 18,  6, 65,  8,  9, 32, 64, 36, 10, 58, 28,\n",
       "       14,  4, 72, 56, 44, 99, 75, 52, 37, 11,  1, 57,  2,  5, 41, 84, 39,\n",
       "       98, 19, 47, 17, 90, 59, 27, 53, 49, 85,  3, 62, 26, 33,  7, 22, 21,\n",
       "       78, 66, 68, 31, 51, 77, 63, 23, 87, 73, 88, 89, 97, 94, 29, 96, 67,\n",
       "       82, 86, 91, 81, 76, 92, 61, 74, 95])"
      ]
     },
     "execution_count": 22,
     "metadata": {},
     "output_type": "execute_result"
    }
   ],
   "source": [
    "data['hoursPerWeek'].unique() "
   ]
  },
  {
   "cell_type": "code",
   "execution_count": 23,
   "id": "851d31ba",
   "metadata": {},
   "outputs": [
    {
     "data": {
      "text/plain": [
       "array([13,  9,  5, 14, 10, 12, 11,  4,  7, 16,  3,  2,  8, 15,  6,  1])"
      ]
     },
     "execution_count": 23,
     "metadata": {},
     "output_type": "execute_result"
    }
   ],
   "source": [
    "data['educationNum'].unique() "
   ]
  },
  {
   "cell_type": "code",
   "execution_count": 24,
   "id": "046a7be0",
   "metadata": {},
   "outputs": [
    {
     "data": {
      "text/plain": [
       "array([   0., 1887., 1564., 1876., 2206., 1980., 1380., 1977., 1719.,\n",
       "       1628., 1651., 2051., 2001., 1590., 1740., 2415., 1602., 1902.,\n",
       "       2339., 1762., 1485., 1669., 1672., 1504., 1408., 2042., 2002.,\n",
       "       1340., 2179., 2547.,  625., 1721., 2377., 2258., 1848.,  213.,\n",
       "       2392., 1741., 1816., 1579., 2352., 1138., 1573.,  653., 2205.,\n",
       "       1726., 2444.,  419., 2174., 2238., 1668., 1092., 1594.,  880.,\n",
       "       1539., 3004., 2231., 1844.,  810., 2824., 2559., 2057., 1974.,\n",
       "        974., 2149., 1825., 1258., 1735., 2129., 2282., 2603.,  323.,\n",
       "       4356., 2246., 1617., 1648., 2489., 3770., 3683., 1755., 2267.,\n",
       "       2080., 2457.,  155., 3900., 2201., 1944., 2467., 2163., 2754.,\n",
       "       2472., 1411.])"
      ]
     },
     "execution_count": 24,
     "metadata": {},
     "output_type": "execute_result"
    }
   ],
   "source": [
    "data['capitalLoss'].unique() "
   ]
  },
  {
   "cell_type": "code",
   "execution_count": 25,
   "id": "af34cc8a",
   "metadata": {},
   "outputs": [
    {
     "data": {
      "text/plain": [
       "array([ 2174.,     0., 14084.,  7688.,  5178.,  2050.,  2176.,   594.,\n",
       "        7298., 15024.,  6849., 20051.,  4386.,  4650., 10605.,  3674.,\n",
       "        5013., 99999.,  1409.,  1055.,  6514.,  4064.,  2407.,  6767.,\n",
       "        3103.,  2202.,  2228.,  3325.,  8614.,  4865.,  1471.,   401.,\n",
       "        4101.,  2829.,  2977.,  2105., 25124.,  3818.,  2961.,  5455.,\n",
       "        3137., 25236., 22040.,  2964., 15020.,  1424.,  3908.,  2329.,\n",
       "        2885.,  1111.,  2597.,  9386.,  2463.,  1506., 13550.,  2580.,\n",
       "        3471.,  3411.,  3781.,  4934., 10520.,  4787.,   914., 27828.,\n",
       "        3273.,  2354.,  4416., 14344., 34095.,  3464.,  5556.,  3942.,\n",
       "        2635.,  2062., 10566.,   991.,  4931.,  1086.,  7430.,  6497.,\n",
       "         114.,  2346.,  3418.,  7896.,  3432.,  2907.,  1151.,  2414.,\n",
       "        2290., 15831., 41310.,  4508.,  2538.,  3456.,  6418.,  1848.,\n",
       "        3887.,  5721.,  9562.,  1455.,  2036.,  1831., 11678.,  2936.,\n",
       "        2993.,  7443.,  6360.,  1797.,  1173.,  4687.,  6723.,  2009.,\n",
       "        2653.,  6097.,  1639., 18481.,  7978.,  2387.,  5060.])"
      ]
     },
     "execution_count": 25,
     "metadata": {},
     "output_type": "execute_result"
    }
   ],
   "source": [
    "data['capitalGain'].unique() "
   ]
  },
  {
   "cell_type": "markdown",
   "id": "3161206f",
   "metadata": {},
   "source": [
    "# Tratando dados null e ou inconsistêntes"
   ]
  },
  {
   "cell_type": "markdown",
   "id": "96d5b914",
   "metadata": {},
   "source": [
    "Vamos substituir os valores '?' de todo dataframe para NaN."
   ]
  },
  {
   "cell_type": "code",
   "execution_count": 26,
   "id": "d93f0331",
   "metadata": {},
   "outputs": [
    {
     "data": {
      "text/html": [
       "<div>\n",
       "<style scoped>\n",
       "    .dataframe tbody tr th:only-of-type {\n",
       "        vertical-align: middle;\n",
       "    }\n",
       "\n",
       "    .dataframe tbody tr th {\n",
       "        vertical-align: top;\n",
       "    }\n",
       "\n",
       "    .dataframe thead th {\n",
       "        text-align: right;\n",
       "    }\n",
       "</style>\n",
       "<table border=\"1\" class=\"dataframe\">\n",
       "  <thead>\n",
       "    <tr style=\"text-align: right;\">\n",
       "      <th></th>\n",
       "      <th>_id</th>\n",
       "      <th>income</th>\n",
       "      <th>finalWeight</th>\n",
       "      <th>education</th>\n",
       "      <th>occupation</th>\n",
       "      <th>hoursPerWeek</th>\n",
       "      <th>race</th>\n",
       "      <th>sex</th>\n",
       "      <th>educationNum</th>\n",
       "      <th>capitalLoss</th>\n",
       "      <th>nativeCountry</th>\n",
       "      <th>workClass</th>\n",
       "      <th>capitalGain</th>\n",
       "      <th>relationship</th>\n",
       "      <th>age</th>\n",
       "      <th>maritalStatus</th>\n",
       "    </tr>\n",
       "  </thead>\n",
       "  <tbody>\n",
       "    <tr>\n",
       "      <th>0</th>\n",
       "      <td>61156a2596a76d248e5b0d50</td>\n",
       "      <td>&lt;=50k</td>\n",
       "      <td>77516</td>\n",
       "      <td>bachelors</td>\n",
       "      <td>adm-clerical</td>\n",
       "      <td>40</td>\n",
       "      <td>white</td>\n",
       "      <td>male</td>\n",
       "      <td>13</td>\n",
       "      <td>0.0</td>\n",
       "      <td>united-states</td>\n",
       "      <td>state-gov</td>\n",
       "      <td>2174.0</td>\n",
       "      <td>not-in-family</td>\n",
       "      <td>39</td>\n",
       "      <td>never-married</td>\n",
       "    </tr>\n",
       "    <tr>\n",
       "      <th>1</th>\n",
       "      <td>61156a2696a76d248e5b0d51</td>\n",
       "      <td>&lt;=50k</td>\n",
       "      <td>83311</td>\n",
       "      <td>bachelors</td>\n",
       "      <td>exec-managerial</td>\n",
       "      <td>13</td>\n",
       "      <td>white</td>\n",
       "      <td>male</td>\n",
       "      <td>13</td>\n",
       "      <td>0.0</td>\n",
       "      <td>united-states</td>\n",
       "      <td>self-emp-not-inc</td>\n",
       "      <td>0.0</td>\n",
       "      <td>husband</td>\n",
       "      <td>50</td>\n",
       "      <td>married-civ-spouse</td>\n",
       "    </tr>\n",
       "    <tr>\n",
       "      <th>2</th>\n",
       "      <td>61156a2696a76d248e5b0d52</td>\n",
       "      <td>&lt;=50k</td>\n",
       "      <td>215646</td>\n",
       "      <td>hs-grad</td>\n",
       "      <td>handlers-cleaners</td>\n",
       "      <td>40</td>\n",
       "      <td>white</td>\n",
       "      <td>male</td>\n",
       "      <td>9</td>\n",
       "      <td>0.0</td>\n",
       "      <td>united-states</td>\n",
       "      <td>private</td>\n",
       "      <td>0.0</td>\n",
       "      <td>not-in-family</td>\n",
       "      <td>38</td>\n",
       "      <td>divorced</td>\n",
       "    </tr>\n",
       "    <tr>\n",
       "      <th>3</th>\n",
       "      <td>61156a2696a76d248e5b0d53</td>\n",
       "      <td>&lt;=50k</td>\n",
       "      <td>160187</td>\n",
       "      <td>9th</td>\n",
       "      <td>other-service</td>\n",
       "      <td>16</td>\n",
       "      <td>black</td>\n",
       "      <td>female</td>\n",
       "      <td>5</td>\n",
       "      <td>0.0</td>\n",
       "      <td>jamaica</td>\n",
       "      <td>private</td>\n",
       "      <td>0.0</td>\n",
       "      <td>not-in-family</td>\n",
       "      <td>49</td>\n",
       "      <td>married-spouse-absent</td>\n",
       "    </tr>\n",
       "    <tr>\n",
       "      <th>4</th>\n",
       "      <td>61156a2696a76d248e5b0d54</td>\n",
       "      <td>&gt;50k</td>\n",
       "      <td>209642</td>\n",
       "      <td>hs-grad</td>\n",
       "      <td>exec-managerial</td>\n",
       "      <td>45</td>\n",
       "      <td>white</td>\n",
       "      <td>male</td>\n",
       "      <td>9</td>\n",
       "      <td>0.0</td>\n",
       "      <td>united-states</td>\n",
       "      <td>self-emp-not-inc</td>\n",
       "      <td>0.0</td>\n",
       "      <td>husband</td>\n",
       "      <td>52</td>\n",
       "      <td>married-civ-spouse</td>\n",
       "    </tr>\n",
       "  </tbody>\n",
       "</table>\n",
       "</div>"
      ],
      "text/plain": [
       "                        _id income  finalWeight  education         occupation  \\\n",
       "0  61156a2596a76d248e5b0d50  <=50k        77516  bachelors       adm-clerical   \n",
       "1  61156a2696a76d248e5b0d51  <=50k        83311  bachelors    exec-managerial   \n",
       "2  61156a2696a76d248e5b0d52  <=50k       215646    hs-grad  handlers-cleaners   \n",
       "3  61156a2696a76d248e5b0d53  <=50k       160187        9th      other-service   \n",
       "4  61156a2696a76d248e5b0d54   >50k       209642    hs-grad    exec-managerial   \n",
       "\n",
       "   hoursPerWeek   race     sex  educationNum  capitalLoss  nativeCountry  \\\n",
       "0            40  white    male            13          0.0  united-states   \n",
       "1            13  white    male            13          0.0  united-states   \n",
       "2            40  white    male             9          0.0  united-states   \n",
       "3            16  black  female             5          0.0        jamaica   \n",
       "4            45  white    male             9          0.0  united-states   \n",
       "\n",
       "          workClass  capitalGain   relationship  age          maritalStatus  \n",
       "0         state-gov       2174.0  not-in-family   39          never-married  \n",
       "1  self-emp-not-inc          0.0        husband   50     married-civ-spouse  \n",
       "2           private          0.0  not-in-family   38               divorced  \n",
       "3           private          0.0  not-in-family   49  married-spouse-absent  \n",
       "4  self-emp-not-inc          0.0        husband   52     married-civ-spouse  "
      ]
     },
     "execution_count": 26,
     "metadata": {},
     "output_type": "execute_result"
    }
   ],
   "source": [
    "data = data.replace('?', np.nan)\n",
    "data.head()"
   ]
  },
  {
   "cell_type": "markdown",
   "id": "cf3d9c30",
   "metadata": {},
   "source": [
    "Na tabela abaixo, nota-se que existem 3 variáveis como NA"
   ]
  },
  {
   "cell_type": "code",
   "execution_count": 27,
   "id": "37e3f320",
   "metadata": {},
   "outputs": [
    {
     "data": {
      "text/plain": [
       "_id                 0\n",
       "income              0\n",
       "finalWeight         0\n",
       "education           0\n",
       "occupation       1843\n",
       "hoursPerWeek        0\n",
       "race                0\n",
       "sex                 0\n",
       "educationNum        0\n",
       "capitalLoss         0\n",
       "nativeCountry     583\n",
       "workClass        1836\n",
       "capitalGain         0\n",
       "relationship        0\n",
       "age                 0\n",
       "maritalStatus       0\n",
       "dtype: int64"
      ]
     },
     "execution_count": 27,
     "metadata": {},
     "output_type": "execute_result"
    }
   ],
   "source": [
    "data.isna().sum()"
   ]
  },
  {
   "cell_type": "markdown",
   "id": "97f9ab25",
   "metadata": {},
   "source": [
    "Para as variáveis Workclass e Occupation podemos verificar a dependências"
   ]
  },
  {
   "cell_type": "code",
   "execution_count": 28,
   "id": "c8c323da",
   "metadata": {},
   "outputs": [
    {
     "data": {
      "text/plain": [
       "array([nan], dtype=object)"
      ]
     },
     "execution_count": 28,
     "metadata": {},
     "output_type": "execute_result"
    }
   ],
   "source": [
    "data[data['workClass'].isna()]['occupation'].unique()"
   ]
  },
  {
   "cell_type": "code",
   "execution_count": 29,
   "id": "09652efa",
   "metadata": {},
   "outputs": [
    {
     "data": {
      "text/plain": [
       "<=50k    1652\n",
       ">50k      191\n",
       "Name: income, dtype: int64"
      ]
     },
     "execution_count": 29,
     "metadata": {},
     "output_type": "execute_result"
    }
   ],
   "source": [
    "data[data['occupation'].isna()]['income'].value_counts()"
   ]
  },
  {
   "cell_type": "markdown",
   "id": "fbdf0c17",
   "metadata": {},
   "source": [
    "Nota-se que os NaN em workclass depende de occupation (como esperado) - tipo MAR (Missing at Random). \n",
    "Sendo assim, podemos afirmar que os valores NaN são de pessoas desempregadas, dessa forma, pode-se substituir NaN para \"Unemployee\""
   ]
  },
  {
   "cell_type": "code",
   "execution_count": 30,
   "id": "441528f5",
   "metadata": {},
   "outputs": [
    {
     "data": {
      "text/html": [
       "<div>\n",
       "<style scoped>\n",
       "    .dataframe tbody tr th:only-of-type {\n",
       "        vertical-align: middle;\n",
       "    }\n",
       "\n",
       "    .dataframe tbody tr th {\n",
       "        vertical-align: top;\n",
       "    }\n",
       "\n",
       "    .dataframe thead th {\n",
       "        text-align: right;\n",
       "    }\n",
       "</style>\n",
       "<table border=\"1\" class=\"dataframe\">\n",
       "  <thead>\n",
       "    <tr style=\"text-align: right;\">\n",
       "      <th></th>\n",
       "      <th>_id</th>\n",
       "      <th>income</th>\n",
       "      <th>finalWeight</th>\n",
       "      <th>education</th>\n",
       "      <th>occupation</th>\n",
       "      <th>hoursPerWeek</th>\n",
       "      <th>race</th>\n",
       "      <th>sex</th>\n",
       "      <th>educationNum</th>\n",
       "      <th>capitalLoss</th>\n",
       "      <th>nativeCountry</th>\n",
       "      <th>workClass</th>\n",
       "      <th>capitalGain</th>\n",
       "      <th>relationship</th>\n",
       "      <th>age</th>\n",
       "      <th>maritalStatus</th>\n",
       "    </tr>\n",
       "  </thead>\n",
       "  <tbody>\n",
       "    <tr>\n",
       "      <th>0</th>\n",
       "      <td>61156a2596a76d248e5b0d50</td>\n",
       "      <td>&lt;=50k</td>\n",
       "      <td>77516</td>\n",
       "      <td>bachelors</td>\n",
       "      <td>adm-clerical</td>\n",
       "      <td>40</td>\n",
       "      <td>white</td>\n",
       "      <td>male</td>\n",
       "      <td>13</td>\n",
       "      <td>0.0</td>\n",
       "      <td>united-states</td>\n",
       "      <td>state-gov</td>\n",
       "      <td>2174.0</td>\n",
       "      <td>not-in-family</td>\n",
       "      <td>39</td>\n",
       "      <td>never-married</td>\n",
       "    </tr>\n",
       "    <tr>\n",
       "      <th>1</th>\n",
       "      <td>61156a2696a76d248e5b0d51</td>\n",
       "      <td>&lt;=50k</td>\n",
       "      <td>83311</td>\n",
       "      <td>bachelors</td>\n",
       "      <td>exec-managerial</td>\n",
       "      <td>13</td>\n",
       "      <td>white</td>\n",
       "      <td>male</td>\n",
       "      <td>13</td>\n",
       "      <td>0.0</td>\n",
       "      <td>united-states</td>\n",
       "      <td>self-emp-not-inc</td>\n",
       "      <td>0.0</td>\n",
       "      <td>husband</td>\n",
       "      <td>50</td>\n",
       "      <td>married-civ-spouse</td>\n",
       "    </tr>\n",
       "    <tr>\n",
       "      <th>2</th>\n",
       "      <td>61156a2696a76d248e5b0d52</td>\n",
       "      <td>&lt;=50k</td>\n",
       "      <td>215646</td>\n",
       "      <td>hs-grad</td>\n",
       "      <td>handlers-cleaners</td>\n",
       "      <td>40</td>\n",
       "      <td>white</td>\n",
       "      <td>male</td>\n",
       "      <td>9</td>\n",
       "      <td>0.0</td>\n",
       "      <td>united-states</td>\n",
       "      <td>private</td>\n",
       "      <td>0.0</td>\n",
       "      <td>not-in-family</td>\n",
       "      <td>38</td>\n",
       "      <td>divorced</td>\n",
       "    </tr>\n",
       "    <tr>\n",
       "      <th>3</th>\n",
       "      <td>61156a2696a76d248e5b0d53</td>\n",
       "      <td>&lt;=50k</td>\n",
       "      <td>160187</td>\n",
       "      <td>9th</td>\n",
       "      <td>other-service</td>\n",
       "      <td>16</td>\n",
       "      <td>black</td>\n",
       "      <td>female</td>\n",
       "      <td>5</td>\n",
       "      <td>0.0</td>\n",
       "      <td>jamaica</td>\n",
       "      <td>private</td>\n",
       "      <td>0.0</td>\n",
       "      <td>not-in-family</td>\n",
       "      <td>49</td>\n",
       "      <td>married-spouse-absent</td>\n",
       "    </tr>\n",
       "    <tr>\n",
       "      <th>4</th>\n",
       "      <td>61156a2696a76d248e5b0d54</td>\n",
       "      <td>&gt;50k</td>\n",
       "      <td>209642</td>\n",
       "      <td>hs-grad</td>\n",
       "      <td>exec-managerial</td>\n",
       "      <td>45</td>\n",
       "      <td>white</td>\n",
       "      <td>male</td>\n",
       "      <td>9</td>\n",
       "      <td>0.0</td>\n",
       "      <td>united-states</td>\n",
       "      <td>self-emp-not-inc</td>\n",
       "      <td>0.0</td>\n",
       "      <td>husband</td>\n",
       "      <td>52</td>\n",
       "      <td>married-civ-spouse</td>\n",
       "    </tr>\n",
       "  </tbody>\n",
       "</table>\n",
       "</div>"
      ],
      "text/plain": [
       "                        _id income  finalWeight  education         occupation  \\\n",
       "0  61156a2596a76d248e5b0d50  <=50k        77516  bachelors       adm-clerical   \n",
       "1  61156a2696a76d248e5b0d51  <=50k        83311  bachelors    exec-managerial   \n",
       "2  61156a2696a76d248e5b0d52  <=50k       215646    hs-grad  handlers-cleaners   \n",
       "3  61156a2696a76d248e5b0d53  <=50k       160187        9th      other-service   \n",
       "4  61156a2696a76d248e5b0d54   >50k       209642    hs-grad    exec-managerial   \n",
       "\n",
       "   hoursPerWeek   race     sex  educationNum  capitalLoss  nativeCountry  \\\n",
       "0            40  white    male            13          0.0  united-states   \n",
       "1            13  white    male            13          0.0  united-states   \n",
       "2            40  white    male             9          0.0  united-states   \n",
       "3            16  black  female             5          0.0        jamaica   \n",
       "4            45  white    male             9          0.0  united-states   \n",
       "\n",
       "          workClass  capitalGain   relationship  age          maritalStatus  \n",
       "0         state-gov       2174.0  not-in-family   39          never-married  \n",
       "1  self-emp-not-inc          0.0        husband   50     married-civ-spouse  \n",
       "2           private          0.0  not-in-family   38               divorced  \n",
       "3           private          0.0  not-in-family   49  married-spouse-absent  \n",
       "4  self-emp-not-inc          0.0        husband   52     married-civ-spouse  "
      ]
     },
     "execution_count": 30,
     "metadata": {},
     "output_type": "execute_result"
    }
   ],
   "source": [
    "data['occupation'] = data['occupation'].fillna('unemployed')\n",
    "data['workClass'] = data['workClass'].fillna('unemployed')\n",
    "data.head()"
   ]
  },
  {
   "cell_type": "markdown",
   "id": "a6aa175b",
   "metadata": {},
   "source": [
    "tratamento do campo NativeCountry"
   ]
  },
  {
   "cell_type": "code",
   "execution_count": 31,
   "id": "aafeb364",
   "metadata": {},
   "outputs": [
    {
     "data": {
      "text/html": [
       "<div>\n",
       "<style scoped>\n",
       "    .dataframe tbody tr th:only-of-type {\n",
       "        vertical-align: middle;\n",
       "    }\n",
       "\n",
       "    .dataframe tbody tr th {\n",
       "        vertical-align: top;\n",
       "    }\n",
       "\n",
       "    .dataframe thead th {\n",
       "        text-align: right;\n",
       "    }\n",
       "</style>\n",
       "<table border=\"1\" class=\"dataframe\">\n",
       "  <thead>\n",
       "    <tr style=\"text-align: right;\">\n",
       "      <th></th>\n",
       "      <th>_id</th>\n",
       "      <th>income</th>\n",
       "      <th>finalWeight</th>\n",
       "      <th>education</th>\n",
       "      <th>occupation</th>\n",
       "      <th>hoursPerWeek</th>\n",
       "      <th>race</th>\n",
       "      <th>sex</th>\n",
       "      <th>educationNum</th>\n",
       "      <th>capitalLoss</th>\n",
       "      <th>nativeCountry</th>\n",
       "      <th>workClass</th>\n",
       "      <th>capitalGain</th>\n",
       "      <th>relationship</th>\n",
       "      <th>age</th>\n",
       "      <th>maritalStatus</th>\n",
       "    </tr>\n",
       "  </thead>\n",
       "  <tbody>\n",
       "    <tr>\n",
       "      <th>10</th>\n",
       "      <td>61156a2696a76d248e5b0d5a</td>\n",
       "      <td>&gt;50k</td>\n",
       "      <td>121772</td>\n",
       "      <td>assoc-voc</td>\n",
       "      <td>craft-repair</td>\n",
       "      <td>40</td>\n",
       "      <td>asian-pac-islander</td>\n",
       "      <td>male</td>\n",
       "      <td>11</td>\n",
       "      <td>0.0</td>\n",
       "      <td>NaN</td>\n",
       "      <td>private</td>\n",
       "      <td>0.0</td>\n",
       "      <td>husband</td>\n",
       "      <td>40</td>\n",
       "      <td>married-civ-spouse</td>\n",
       "    </tr>\n",
       "    <tr>\n",
       "      <th>173</th>\n",
       "      <td>61156a2896a76d248e5b0dfd</td>\n",
       "      <td>&lt;=50k</td>\n",
       "      <td>323069</td>\n",
       "      <td>hs-grad</td>\n",
       "      <td>adm-clerical</td>\n",
       "      <td>20</td>\n",
       "      <td>white</td>\n",
       "      <td>female</td>\n",
       "      <td>9</td>\n",
       "      <td>0.0</td>\n",
       "      <td>NaN</td>\n",
       "      <td>private</td>\n",
       "      <td>0.0</td>\n",
       "      <td>unmarried</td>\n",
       "      <td>31</td>\n",
       "      <td>separated</td>\n",
       "    </tr>\n",
       "    <tr>\n",
       "      <th>265</th>\n",
       "      <td>61156a2996a76d248e5b0e59</td>\n",
       "      <td>&lt;=50k</td>\n",
       "      <td>227332</td>\n",
       "      <td>bachelors</td>\n",
       "      <td>transport-moving</td>\n",
       "      <td>40</td>\n",
       "      <td>asian-pac-islander</td>\n",
       "      <td>male</td>\n",
       "      <td>13</td>\n",
       "      <td>0.0</td>\n",
       "      <td>NaN</td>\n",
       "      <td>private</td>\n",
       "      <td>0.0</td>\n",
       "      <td>unmarried</td>\n",
       "      <td>26</td>\n",
       "      <td>never-married</td>\n",
       "    </tr>\n",
       "    <tr>\n",
       "      <th>298</th>\n",
       "      <td>61156a2996a76d248e5b0e7a</td>\n",
       "      <td>&lt;=50k</td>\n",
       "      <td>201624</td>\n",
       "      <td>bachelors</td>\n",
       "      <td>prof-specialty</td>\n",
       "      <td>45</td>\n",
       "      <td>black</td>\n",
       "      <td>male</td>\n",
       "      <td>13</td>\n",
       "      <td>0.0</td>\n",
       "      <td>NaN</td>\n",
       "      <td>private</td>\n",
       "      <td>0.0</td>\n",
       "      <td>not-in-family</td>\n",
       "      <td>30</td>\n",
       "      <td>never-married</td>\n",
       "    </tr>\n",
       "    <tr>\n",
       "      <th>376</th>\n",
       "      <td>61156a2a96a76d248e5b0ec8</td>\n",
       "      <td>&lt;=50k</td>\n",
       "      <td>195124</td>\n",
       "      <td>hs-grad</td>\n",
       "      <td>sales</td>\n",
       "      <td>50</td>\n",
       "      <td>white</td>\n",
       "      <td>male</td>\n",
       "      <td>9</td>\n",
       "      <td>0.0</td>\n",
       "      <td>NaN</td>\n",
       "      <td>self-emp-not-inc</td>\n",
       "      <td>0.0</td>\n",
       "      <td>not-in-family</td>\n",
       "      <td>41</td>\n",
       "      <td>never-married</td>\n",
       "    </tr>\n",
       "    <tr>\n",
       "      <th>...</th>\n",
       "      <td>...</td>\n",
       "      <td>...</td>\n",
       "      <td>...</td>\n",
       "      <td>...</td>\n",
       "      <td>...</td>\n",
       "      <td>...</td>\n",
       "      <td>...</td>\n",
       "      <td>...</td>\n",
       "      <td>...</td>\n",
       "      <td>...</td>\n",
       "      <td>...</td>\n",
       "      <td>...</td>\n",
       "      <td>...</td>\n",
       "      <td>...</td>\n",
       "      <td>...</td>\n",
       "      <td>...</td>\n",
       "    </tr>\n",
       "    <tr>\n",
       "      <th>32434</th>\n",
       "      <td>61156ae896a76d248e5b8c02</td>\n",
       "      <td>&lt;=50k</td>\n",
       "      <td>120478</td>\n",
       "      <td>assoc-voc</td>\n",
       "      <td>unemployed</td>\n",
       "      <td>1</td>\n",
       "      <td>white</td>\n",
       "      <td>female</td>\n",
       "      <td>11</td>\n",
       "      <td>0.0</td>\n",
       "      <td>NaN</td>\n",
       "      <td>unemployed</td>\n",
       "      <td>0.0</td>\n",
       "      <td>unmarried</td>\n",
       "      <td>81</td>\n",
       "      <td>divorced</td>\n",
       "    </tr>\n",
       "    <tr>\n",
       "      <th>32445</th>\n",
       "      <td>61156ae896a76d248e5b8c0d</td>\n",
       "      <td>&lt;=50k</td>\n",
       "      <td>199590</td>\n",
       "      <td>5th-6th</td>\n",
       "      <td>machine-op-inspct</td>\n",
       "      <td>40</td>\n",
       "      <td>white</td>\n",
       "      <td>male</td>\n",
       "      <td>3</td>\n",
       "      <td>0.0</td>\n",
       "      <td>NaN</td>\n",
       "      <td>private</td>\n",
       "      <td>0.0</td>\n",
       "      <td>husband</td>\n",
       "      <td>45</td>\n",
       "      <td>married-civ-spouse</td>\n",
       "    </tr>\n",
       "    <tr>\n",
       "      <th>32458</th>\n",
       "      <td>61156ae896a76d248e5b8c1a</td>\n",
       "      <td>&lt;=50k</td>\n",
       "      <td>181974</td>\n",
       "      <td>doctorate</td>\n",
       "      <td>prof-specialty</td>\n",
       "      <td>99</td>\n",
       "      <td>white</td>\n",
       "      <td>female</td>\n",
       "      <td>16</td>\n",
       "      <td>0.0</td>\n",
       "      <td>NaN</td>\n",
       "      <td>self-emp-inc</td>\n",
       "      <td>0.0</td>\n",
       "      <td>not-in-family</td>\n",
       "      <td>58</td>\n",
       "      <td>never-married</td>\n",
       "    </tr>\n",
       "    <tr>\n",
       "      <th>32486</th>\n",
       "      <td>61156ae896a76d248e5b8c36</td>\n",
       "      <td>&lt;=50k</td>\n",
       "      <td>217597</td>\n",
       "      <td>hs-grad</td>\n",
       "      <td>sales</td>\n",
       "      <td>50</td>\n",
       "      <td>white</td>\n",
       "      <td>male</td>\n",
       "      <td>9</td>\n",
       "      <td>0.0</td>\n",
       "      <td>NaN</td>\n",
       "      <td>self-emp-not-inc</td>\n",
       "      <td>0.0</td>\n",
       "      <td>own-child</td>\n",
       "      <td>42</td>\n",
       "      <td>divorced</td>\n",
       "    </tr>\n",
       "    <tr>\n",
       "      <th>32528</th>\n",
       "      <td>61156ae896a76d248e5b8c60</td>\n",
       "      <td>&gt;50k</td>\n",
       "      <td>107302</td>\n",
       "      <td>hs-grad</td>\n",
       "      <td>prof-specialty</td>\n",
       "      <td>45</td>\n",
       "      <td>white</td>\n",
       "      <td>male</td>\n",
       "      <td>9</td>\n",
       "      <td>0.0</td>\n",
       "      <td>NaN</td>\n",
       "      <td>private</td>\n",
       "      <td>0.0</td>\n",
       "      <td>husband</td>\n",
       "      <td>39</td>\n",
       "      <td>married-civ-spouse</td>\n",
       "    </tr>\n",
       "  </tbody>\n",
       "</table>\n",
       "<p>583 rows × 16 columns</p>\n",
       "</div>"
      ],
      "text/plain": [
       "                            _id income  finalWeight  education  \\\n",
       "10     61156a2696a76d248e5b0d5a   >50k       121772  assoc-voc   \n",
       "173    61156a2896a76d248e5b0dfd  <=50k       323069    hs-grad   \n",
       "265    61156a2996a76d248e5b0e59  <=50k       227332  bachelors   \n",
       "298    61156a2996a76d248e5b0e7a  <=50k       201624  bachelors   \n",
       "376    61156a2a96a76d248e5b0ec8  <=50k       195124    hs-grad   \n",
       "...                         ...    ...          ...        ...   \n",
       "32434  61156ae896a76d248e5b8c02  <=50k       120478  assoc-voc   \n",
       "32445  61156ae896a76d248e5b8c0d  <=50k       199590    5th-6th   \n",
       "32458  61156ae896a76d248e5b8c1a  <=50k       181974  doctorate   \n",
       "32486  61156ae896a76d248e5b8c36  <=50k       217597    hs-grad   \n",
       "32528  61156ae896a76d248e5b8c60   >50k       107302    hs-grad   \n",
       "\n",
       "              occupation  hoursPerWeek                race     sex  \\\n",
       "10          craft-repair            40  asian-pac-islander    male   \n",
       "173         adm-clerical            20               white  female   \n",
       "265     transport-moving            40  asian-pac-islander    male   \n",
       "298       prof-specialty            45               black    male   \n",
       "376                sales            50               white    male   \n",
       "...                  ...           ...                 ...     ...   \n",
       "32434         unemployed             1               white  female   \n",
       "32445  machine-op-inspct            40               white    male   \n",
       "32458     prof-specialty            99               white  female   \n",
       "32486              sales            50               white    male   \n",
       "32528     prof-specialty            45               white    male   \n",
       "\n",
       "       educationNum  capitalLoss nativeCountry         workClass  capitalGain  \\\n",
       "10               11          0.0           NaN           private          0.0   \n",
       "173               9          0.0           NaN           private          0.0   \n",
       "265              13          0.0           NaN           private          0.0   \n",
       "298              13          0.0           NaN           private          0.0   \n",
       "376               9          0.0           NaN  self-emp-not-inc          0.0   \n",
       "...             ...          ...           ...               ...          ...   \n",
       "32434            11          0.0           NaN        unemployed          0.0   \n",
       "32445             3          0.0           NaN           private          0.0   \n",
       "32458            16          0.0           NaN      self-emp-inc          0.0   \n",
       "32486             9          0.0           NaN  self-emp-not-inc          0.0   \n",
       "32528             9          0.0           NaN           private          0.0   \n",
       "\n",
       "        relationship  age       maritalStatus  \n",
       "10           husband   40  married-civ-spouse  \n",
       "173        unmarried   31           separated  \n",
       "265        unmarried   26       never-married  \n",
       "298    not-in-family   30       never-married  \n",
       "376    not-in-family   41       never-married  \n",
       "...              ...  ...                 ...  \n",
       "32434      unmarried   81            divorced  \n",
       "32445        husband   45  married-civ-spouse  \n",
       "32458  not-in-family   58       never-married  \n",
       "32486      own-child   42            divorced  \n",
       "32528        husband   39  married-civ-spouse  \n",
       "\n",
       "[583 rows x 16 columns]"
      ]
     },
     "execution_count": 31,
     "metadata": {},
     "output_type": "execute_result"
    }
   ],
   "source": [
    "data[data['nativeCountry'].isna()]"
   ]
  },
  {
   "cell_type": "markdown",
   "id": "f5d947a8",
   "metadata": {},
   "source": [
    "Análise da variável nativeCountry são falta de preenchimentp. Não há relação com outras variáveis. \n",
    "Vamos excluir os registros com 'native.country' NaN para ter um modelo não enviesado (são 583 registros)."
   ]
  },
  {
   "cell_type": "code",
   "execution_count": 32,
   "id": "a46f83bc",
   "metadata": {},
   "outputs": [
    {
     "data": {
      "text/plain": [
       "_id                0\n",
       "income             0\n",
       "finalWeight        0\n",
       "education          0\n",
       "occupation         0\n",
       "hoursPerWeek       0\n",
       "race               0\n",
       "sex                0\n",
       "educationNum       0\n",
       "capitalLoss        0\n",
       "nativeCountry    583\n",
       "workClass          0\n",
       "capitalGain        0\n",
       "relationship       0\n",
       "age                0\n",
       "maritalStatus      0\n",
       "dtype: int64"
      ]
     },
     "execution_count": 32,
     "metadata": {},
     "output_type": "execute_result"
    }
   ],
   "source": [
    "data.isna().sum()"
   ]
  },
  {
   "cell_type": "code",
   "execution_count": 33,
   "id": "8d976725",
   "metadata": {},
   "outputs": [
    {
     "data": {
      "text/html": [
       "<div>\n",
       "<style scoped>\n",
       "    .dataframe tbody tr th:only-of-type {\n",
       "        vertical-align: middle;\n",
       "    }\n",
       "\n",
       "    .dataframe tbody tr th {\n",
       "        vertical-align: top;\n",
       "    }\n",
       "\n",
       "    .dataframe thead th {\n",
       "        text-align: right;\n",
       "    }\n",
       "</style>\n",
       "<table border=\"1\" class=\"dataframe\">\n",
       "  <thead>\n",
       "    <tr style=\"text-align: right;\">\n",
       "      <th></th>\n",
       "      <th>_id</th>\n",
       "      <th>income</th>\n",
       "      <th>finalWeight</th>\n",
       "      <th>education</th>\n",
       "      <th>occupation</th>\n",
       "      <th>hoursPerWeek</th>\n",
       "      <th>race</th>\n",
       "      <th>sex</th>\n",
       "      <th>educationNum</th>\n",
       "      <th>capitalLoss</th>\n",
       "      <th>nativeCountry</th>\n",
       "      <th>workClass</th>\n",
       "      <th>capitalGain</th>\n",
       "      <th>relationship</th>\n",
       "      <th>age</th>\n",
       "      <th>maritalStatus</th>\n",
       "    </tr>\n",
       "  </thead>\n",
       "  <tbody>\n",
       "    <tr>\n",
       "      <th>0</th>\n",
       "      <td>61156a2596a76d248e5b0d50</td>\n",
       "      <td>&lt;=50k</td>\n",
       "      <td>77516</td>\n",
       "      <td>bachelors</td>\n",
       "      <td>adm-clerical</td>\n",
       "      <td>40</td>\n",
       "      <td>white</td>\n",
       "      <td>male</td>\n",
       "      <td>13</td>\n",
       "      <td>0.0</td>\n",
       "      <td>united-states</td>\n",
       "      <td>state-gov</td>\n",
       "      <td>2174.0</td>\n",
       "      <td>not-in-family</td>\n",
       "      <td>39</td>\n",
       "      <td>never-married</td>\n",
       "    </tr>\n",
       "    <tr>\n",
       "      <th>1</th>\n",
       "      <td>61156a2696a76d248e5b0d51</td>\n",
       "      <td>&lt;=50k</td>\n",
       "      <td>83311</td>\n",
       "      <td>bachelors</td>\n",
       "      <td>exec-managerial</td>\n",
       "      <td>13</td>\n",
       "      <td>white</td>\n",
       "      <td>male</td>\n",
       "      <td>13</td>\n",
       "      <td>0.0</td>\n",
       "      <td>united-states</td>\n",
       "      <td>self-emp-not-inc</td>\n",
       "      <td>0.0</td>\n",
       "      <td>husband</td>\n",
       "      <td>50</td>\n",
       "      <td>married-civ-spouse</td>\n",
       "    </tr>\n",
       "    <tr>\n",
       "      <th>2</th>\n",
       "      <td>61156a2696a76d248e5b0d52</td>\n",
       "      <td>&lt;=50k</td>\n",
       "      <td>215646</td>\n",
       "      <td>hs-grad</td>\n",
       "      <td>handlers-cleaners</td>\n",
       "      <td>40</td>\n",
       "      <td>white</td>\n",
       "      <td>male</td>\n",
       "      <td>9</td>\n",
       "      <td>0.0</td>\n",
       "      <td>united-states</td>\n",
       "      <td>private</td>\n",
       "      <td>0.0</td>\n",
       "      <td>not-in-family</td>\n",
       "      <td>38</td>\n",
       "      <td>divorced</td>\n",
       "    </tr>\n",
       "    <tr>\n",
       "      <th>3</th>\n",
       "      <td>61156a2696a76d248e5b0d53</td>\n",
       "      <td>&lt;=50k</td>\n",
       "      <td>160187</td>\n",
       "      <td>9th</td>\n",
       "      <td>other-service</td>\n",
       "      <td>16</td>\n",
       "      <td>black</td>\n",
       "      <td>female</td>\n",
       "      <td>5</td>\n",
       "      <td>0.0</td>\n",
       "      <td>jamaica</td>\n",
       "      <td>private</td>\n",
       "      <td>0.0</td>\n",
       "      <td>not-in-family</td>\n",
       "      <td>49</td>\n",
       "      <td>married-spouse-absent</td>\n",
       "    </tr>\n",
       "    <tr>\n",
       "      <th>4</th>\n",
       "      <td>61156a2696a76d248e5b0d54</td>\n",
       "      <td>&gt;50k</td>\n",
       "      <td>209642</td>\n",
       "      <td>hs-grad</td>\n",
       "      <td>exec-managerial</td>\n",
       "      <td>45</td>\n",
       "      <td>white</td>\n",
       "      <td>male</td>\n",
       "      <td>9</td>\n",
       "      <td>0.0</td>\n",
       "      <td>united-states</td>\n",
       "      <td>self-emp-not-inc</td>\n",
       "      <td>0.0</td>\n",
       "      <td>husband</td>\n",
       "      <td>52</td>\n",
       "      <td>married-civ-spouse</td>\n",
       "    </tr>\n",
       "  </tbody>\n",
       "</table>\n",
       "</div>"
      ],
      "text/plain": [
       "                        _id income  finalWeight  education         occupation  \\\n",
       "0  61156a2596a76d248e5b0d50  <=50k        77516  bachelors       adm-clerical   \n",
       "1  61156a2696a76d248e5b0d51  <=50k        83311  bachelors    exec-managerial   \n",
       "2  61156a2696a76d248e5b0d52  <=50k       215646    hs-grad  handlers-cleaners   \n",
       "3  61156a2696a76d248e5b0d53  <=50k       160187        9th      other-service   \n",
       "4  61156a2696a76d248e5b0d54   >50k       209642    hs-grad    exec-managerial   \n",
       "\n",
       "   hoursPerWeek   race     sex  educationNum  capitalLoss  nativeCountry  \\\n",
       "0            40  white    male            13          0.0  united-states   \n",
       "1            13  white    male            13          0.0  united-states   \n",
       "2            40  white    male             9          0.0  united-states   \n",
       "3            16  black  female             5          0.0        jamaica   \n",
       "4            45  white    male             9          0.0  united-states   \n",
       "\n",
       "          workClass  capitalGain   relationship  age          maritalStatus  \n",
       "0         state-gov       2174.0  not-in-family   39          never-married  \n",
       "1  self-emp-not-inc          0.0        husband   50     married-civ-spouse  \n",
       "2           private          0.0  not-in-family   38               divorced  \n",
       "3           private          0.0  not-in-family   49  married-spouse-absent  \n",
       "4  self-emp-not-inc          0.0        husband   52     married-civ-spouse  "
      ]
     },
     "execution_count": 33,
     "metadata": {},
     "output_type": "execute_result"
    }
   ],
   "source": [
    "data.dropna(inplace = True)\n",
    "data.head()"
   ]
  },
  {
   "cell_type": "code",
   "execution_count": 34,
   "id": "14c2d3df",
   "metadata": {},
   "outputs": [
    {
     "data": {
      "text/plain": [
       "_id              0\n",
       "income           0\n",
       "finalWeight      0\n",
       "education        0\n",
       "occupation       0\n",
       "hoursPerWeek     0\n",
       "race             0\n",
       "sex              0\n",
       "educationNum     0\n",
       "capitalLoss      0\n",
       "nativeCountry    0\n",
       "workClass        0\n",
       "capitalGain      0\n",
       "relationship     0\n",
       "age              0\n",
       "maritalStatus    0\n",
       "dtype: int64"
      ]
     },
     "execution_count": 34,
     "metadata": {},
     "output_type": "execute_result"
    }
   ],
   "source": [
    "data.isna().sum()"
   ]
  },
  {
   "cell_type": "markdown",
   "id": "0afb57aa",
   "metadata": {},
   "source": [
    "Tratamento variável target income para tornar variável qualitativa para quantitativa"
   ]
  },
  {
   "cell_type": "code",
   "execution_count": 35,
   "id": "c4c4bc7c",
   "metadata": {},
   "outputs": [],
   "source": [
    "data.replace('<=50k', 0, inplace=True)\n",
    "data.replace('>50k', 1, inplace=True)"
   ]
  },
  {
   "cell_type": "code",
   "execution_count": 36,
   "id": "f61f5cd7",
   "metadata": {},
   "outputs": [
    {
     "data": {
      "text/plain": [
       "0    0.759366\n",
       "1    0.240634\n",
       "Name: income, dtype: float64"
      ]
     },
     "execution_count": 36,
     "metadata": {},
     "output_type": "execute_result"
    }
   ],
   "source": [
    "data['income'].value_counts(normalize=True)"
   ]
  },
  {
   "cell_type": "markdown",
   "id": "c8de4aff",
   "metadata": {},
   "source": [
    "Como 'educationNum' é uma forma numérica da coluna 'education' e a varíavel _id é criação do MongoDB, retirada para evitar enviesamento."
   ]
  },
  {
   "cell_type": "code",
   "execution_count": 37,
   "id": "9a38434a",
   "metadata": {},
   "outputs": [],
   "source": [
    "data.drop('educationNum', axis = 1,inplace = True)"
   ]
  },
  {
   "cell_type": "code",
   "execution_count": 39,
   "id": "8810d7b0",
   "metadata": {},
   "outputs": [
    {
     "ename": "KeyError",
     "evalue": "\"['_id'] not found in axis\"",
     "output_type": "error",
     "traceback": [
      "\u001b[0;31m---------------------------------------------------------------------------\u001b[0m",
      "\u001b[0;31mKeyError\u001b[0m                                  Traceback (most recent call last)",
      "\u001b[0;32m<ipython-input-39-795ba2f48db7>\u001b[0m in \u001b[0;36m<module>\u001b[0;34m\u001b[0m\n\u001b[0;32m----> 1\u001b[0;31m \u001b[0mdata\u001b[0m\u001b[0;34m.\u001b[0m\u001b[0mdrop\u001b[0m\u001b[0;34m(\u001b[0m\u001b[0;34m'_id'\u001b[0m\u001b[0;34m,\u001b[0m \u001b[0maxis\u001b[0m \u001b[0;34m=\u001b[0m \u001b[0;36m1\u001b[0m\u001b[0;34m,\u001b[0m\u001b[0minplace\u001b[0m \u001b[0;34m=\u001b[0m \u001b[0;32mTrue\u001b[0m\u001b[0;34m)\u001b[0m\u001b[0;34m\u001b[0m\u001b[0;34m\u001b[0m\u001b[0m\n\u001b[0m",
      "\u001b[0;32m/opt/conda/lib/python3.8/site-packages/pandas/core/frame.py\u001b[0m in \u001b[0;36mdrop\u001b[0;34m(self, labels, axis, index, columns, level, inplace, errors)\u001b[0m\n\u001b[1;32m   4306\u001b[0m                 \u001b[0mweight\u001b[0m  \u001b[0;36m1.0\u001b[0m     \u001b[0;36m0.8\u001b[0m\u001b[0;34m\u001b[0m\u001b[0;34m\u001b[0m\u001b[0m\n\u001b[1;32m   4307\u001b[0m         \"\"\"\n\u001b[0;32m-> 4308\u001b[0;31m         return super().drop(\n\u001b[0m\u001b[1;32m   4309\u001b[0m             \u001b[0mlabels\u001b[0m\u001b[0;34m=\u001b[0m\u001b[0mlabels\u001b[0m\u001b[0;34m,\u001b[0m\u001b[0;34m\u001b[0m\u001b[0;34m\u001b[0m\u001b[0m\n\u001b[1;32m   4310\u001b[0m             \u001b[0maxis\u001b[0m\u001b[0;34m=\u001b[0m\u001b[0maxis\u001b[0m\u001b[0;34m,\u001b[0m\u001b[0;34m\u001b[0m\u001b[0;34m\u001b[0m\u001b[0m\n",
      "\u001b[0;32m/opt/conda/lib/python3.8/site-packages/pandas/core/generic.py\u001b[0m in \u001b[0;36mdrop\u001b[0;34m(self, labels, axis, index, columns, level, inplace, errors)\u001b[0m\n\u001b[1;32m   4151\u001b[0m         \u001b[0;32mfor\u001b[0m \u001b[0maxis\u001b[0m\u001b[0;34m,\u001b[0m \u001b[0mlabels\u001b[0m \u001b[0;32min\u001b[0m \u001b[0maxes\u001b[0m\u001b[0;34m.\u001b[0m\u001b[0mitems\u001b[0m\u001b[0;34m(\u001b[0m\u001b[0;34m)\u001b[0m\u001b[0;34m:\u001b[0m\u001b[0;34m\u001b[0m\u001b[0;34m\u001b[0m\u001b[0m\n\u001b[1;32m   4152\u001b[0m             \u001b[0;32mif\u001b[0m \u001b[0mlabels\u001b[0m \u001b[0;32mis\u001b[0m \u001b[0;32mnot\u001b[0m \u001b[0;32mNone\u001b[0m\u001b[0;34m:\u001b[0m\u001b[0;34m\u001b[0m\u001b[0;34m\u001b[0m\u001b[0m\n\u001b[0;32m-> 4153\u001b[0;31m                 \u001b[0mobj\u001b[0m \u001b[0;34m=\u001b[0m \u001b[0mobj\u001b[0m\u001b[0;34m.\u001b[0m\u001b[0m_drop_axis\u001b[0m\u001b[0;34m(\u001b[0m\u001b[0mlabels\u001b[0m\u001b[0;34m,\u001b[0m \u001b[0maxis\u001b[0m\u001b[0;34m,\u001b[0m \u001b[0mlevel\u001b[0m\u001b[0;34m=\u001b[0m\u001b[0mlevel\u001b[0m\u001b[0;34m,\u001b[0m \u001b[0merrors\u001b[0m\u001b[0;34m=\u001b[0m\u001b[0merrors\u001b[0m\u001b[0;34m)\u001b[0m\u001b[0;34m\u001b[0m\u001b[0;34m\u001b[0m\u001b[0m\n\u001b[0m\u001b[1;32m   4154\u001b[0m \u001b[0;34m\u001b[0m\u001b[0m\n\u001b[1;32m   4155\u001b[0m         \u001b[0;32mif\u001b[0m \u001b[0minplace\u001b[0m\u001b[0;34m:\u001b[0m\u001b[0;34m\u001b[0m\u001b[0;34m\u001b[0m\u001b[0m\n",
      "\u001b[0;32m/opt/conda/lib/python3.8/site-packages/pandas/core/generic.py\u001b[0m in \u001b[0;36m_drop_axis\u001b[0;34m(self, labels, axis, level, errors)\u001b[0m\n\u001b[1;32m   4186\u001b[0m                 \u001b[0mnew_axis\u001b[0m \u001b[0;34m=\u001b[0m \u001b[0maxis\u001b[0m\u001b[0;34m.\u001b[0m\u001b[0mdrop\u001b[0m\u001b[0;34m(\u001b[0m\u001b[0mlabels\u001b[0m\u001b[0;34m,\u001b[0m \u001b[0mlevel\u001b[0m\u001b[0;34m=\u001b[0m\u001b[0mlevel\u001b[0m\u001b[0;34m,\u001b[0m \u001b[0merrors\u001b[0m\u001b[0;34m=\u001b[0m\u001b[0merrors\u001b[0m\u001b[0;34m)\u001b[0m\u001b[0;34m\u001b[0m\u001b[0;34m\u001b[0m\u001b[0m\n\u001b[1;32m   4187\u001b[0m             \u001b[0;32melse\u001b[0m\u001b[0;34m:\u001b[0m\u001b[0;34m\u001b[0m\u001b[0;34m\u001b[0m\u001b[0m\n\u001b[0;32m-> 4188\u001b[0;31m                 \u001b[0mnew_axis\u001b[0m \u001b[0;34m=\u001b[0m \u001b[0maxis\u001b[0m\u001b[0;34m.\u001b[0m\u001b[0mdrop\u001b[0m\u001b[0;34m(\u001b[0m\u001b[0mlabels\u001b[0m\u001b[0;34m,\u001b[0m \u001b[0merrors\u001b[0m\u001b[0;34m=\u001b[0m\u001b[0merrors\u001b[0m\u001b[0;34m)\u001b[0m\u001b[0;34m\u001b[0m\u001b[0;34m\u001b[0m\u001b[0m\n\u001b[0m\u001b[1;32m   4189\u001b[0m             \u001b[0mresult\u001b[0m \u001b[0;34m=\u001b[0m \u001b[0mself\u001b[0m\u001b[0;34m.\u001b[0m\u001b[0mreindex\u001b[0m\u001b[0;34m(\u001b[0m\u001b[0;34m**\u001b[0m\u001b[0;34m{\u001b[0m\u001b[0maxis_name\u001b[0m\u001b[0;34m:\u001b[0m \u001b[0mnew_axis\u001b[0m\u001b[0;34m}\u001b[0m\u001b[0;34m)\u001b[0m\u001b[0;34m\u001b[0m\u001b[0;34m\u001b[0m\u001b[0m\n\u001b[1;32m   4190\u001b[0m \u001b[0;34m\u001b[0m\u001b[0m\n",
      "\u001b[0;32m/opt/conda/lib/python3.8/site-packages/pandas/core/indexes/base.py\u001b[0m in \u001b[0;36mdrop\u001b[0;34m(self, labels, errors)\u001b[0m\n\u001b[1;32m   5589\u001b[0m         \u001b[0;32mif\u001b[0m \u001b[0mmask\u001b[0m\u001b[0;34m.\u001b[0m\u001b[0many\u001b[0m\u001b[0;34m(\u001b[0m\u001b[0;34m)\u001b[0m\u001b[0;34m:\u001b[0m\u001b[0;34m\u001b[0m\u001b[0;34m\u001b[0m\u001b[0m\n\u001b[1;32m   5590\u001b[0m             \u001b[0;32mif\u001b[0m \u001b[0merrors\u001b[0m \u001b[0;34m!=\u001b[0m \u001b[0;34m\"ignore\"\u001b[0m\u001b[0;34m:\u001b[0m\u001b[0;34m\u001b[0m\u001b[0;34m\u001b[0m\u001b[0m\n\u001b[0;32m-> 5591\u001b[0;31m                 \u001b[0;32mraise\u001b[0m \u001b[0mKeyError\u001b[0m\u001b[0;34m(\u001b[0m\u001b[0;34mf\"{labels[mask]} not found in axis\"\u001b[0m\u001b[0;34m)\u001b[0m\u001b[0;34m\u001b[0m\u001b[0;34m\u001b[0m\u001b[0m\n\u001b[0m\u001b[1;32m   5592\u001b[0m             \u001b[0mindexer\u001b[0m \u001b[0;34m=\u001b[0m \u001b[0mindexer\u001b[0m\u001b[0;34m[\u001b[0m\u001b[0;34m~\u001b[0m\u001b[0mmask\u001b[0m\u001b[0;34m]\u001b[0m\u001b[0;34m\u001b[0m\u001b[0;34m\u001b[0m\u001b[0m\n\u001b[1;32m   5593\u001b[0m         \u001b[0;32mreturn\u001b[0m \u001b[0mself\u001b[0m\u001b[0;34m.\u001b[0m\u001b[0mdelete\u001b[0m\u001b[0;34m(\u001b[0m\u001b[0mindexer\u001b[0m\u001b[0;34m)\u001b[0m\u001b[0;34m\u001b[0m\u001b[0;34m\u001b[0m\u001b[0m\n",
      "\u001b[0;31mKeyError\u001b[0m: \"['_id'] not found in axis\""
     ]
    }
   ],
   "source": [
    "data.drop('_id', axis = 1,inplace = True)"
   ]
  },
  {
   "cell_type": "markdown",
   "id": "b7127796",
   "metadata": {},
   "source": [
    "Simplificação dos valores de education, workclass e marital status"
   ]
  },
  {
   "cell_type": "markdown",
   "id": "23862547",
   "metadata": {},
   "source": [
    "Variável education"
   ]
  },
  {
   "cell_type": "code",
   "execution_count": 40,
   "id": "32e7c635",
   "metadata": {},
   "outputs": [
    {
     "data": {
      "text/plain": [
       "hs-grad         10368\n",
       "some-college     7187\n",
       "bachelors        5210\n",
       "masters          1674\n",
       "assoc-voc        1366\n",
       "11th             1167\n",
       "assoc-acdm       1055\n",
       "10th              921\n",
       "7th-8th           627\n",
       "prof-school       559\n",
       "9th               506\n",
       "12th              417\n",
       "doctorate         390\n",
       "5th-6th           318\n",
       "1st-4th           163\n",
       "preschool          50\n",
       "Name: education, dtype: int64"
      ]
     },
     "execution_count": 40,
     "metadata": {},
     "output_type": "execute_result"
    }
   ],
   "source": [
    "data['education'].value_counts()"
   ]
  },
  {
   "cell_type": "code",
   "execution_count": 42,
   "id": "79cb97f0",
   "metadata": {},
   "outputs": [
    {
     "data": {
      "text/plain": [
       "HighSchool-grad      13379\n",
       "some-college          7187\n",
       "bachelors             5210\n",
       "masters               1674\n",
       "assoc-voc             1366\n",
       "elementary_school     1108\n",
       "assoc-acdm            1055\n",
       "prof-school            559\n",
       "doctorate              390\n",
       "preschool               50\n",
       "Name: education, dtype: int64"
      ]
     },
     "execution_count": 42,
     "metadata": {},
     "output_type": "execute_result"
    }
   ],
   "source": [
    "hs_grad = ['hs-grad','11th','10th','9th','12th']\n",
    "elementary = ['1st-4th','5th-6th','7th-8th']\n",
    "\n",
    "data['education'].replace(hs_grad,'HighSchool-grad', inplace=True)\n",
    "data['education'].replace(elementary,'elementary_school', inplace=True)\n",
    "\n",
    "data['education'].value_counts()"
   ]
  },
  {
   "cell_type": "markdown",
   "id": "a58dec01",
   "metadata": {},
   "source": [
    "Variável workClass"
   ]
  },
  {
   "cell_type": "code",
   "execution_count": 43,
   "id": "f12d635f",
   "metadata": {},
   "outputs": [
    {
     "data": {
      "text/plain": [
       "private             22286\n",
       "self-emp-not-inc     2499\n",
       "local-gov            2067\n",
       "unemployed           1809\n",
       "state-gov            1279\n",
       "self-emp-inc         1074\n",
       "federal-gov           943\n",
       "without-pay            14\n",
       "never-worked            7\n",
       "Name: workClass, dtype: int64"
      ]
     },
     "execution_count": 43,
     "metadata": {},
     "output_type": "execute_result"
    }
   ],
   "source": [
    "data['workClass'].value_counts()"
   ]
  },
  {
   "cell_type": "code",
   "execution_count": 44,
   "id": "e49c5a9b",
   "metadata": {},
   "outputs": [
    {
     "data": {
      "text/plain": [
       "private             22286\n",
       "govern_employees     4289\n",
       "self_employed        3573\n",
       "unemployed           1809\n",
       "without-pay            14\n",
       "never-worked            7\n",
       "Name: workClass, dtype: int64"
      ]
     },
     "execution_count": 44,
     "metadata": {},
     "output_type": "execute_result"
    }
   ],
   "source": [
    "self_employed = ['self-emp-not-inc','self-emp-inc']\n",
    "govt_employees = ['local-gov','state-gov','federal-gov']\n",
    "\n",
    "data['workClass'].replace(to_replace = self_employed ,value = 'self_employed',inplace = True)\n",
    "data['workClass'].replace(to_replace = govt_employees,value = 'govern_employees',inplace = True)\n",
    "\n",
    "data['workClass'].value_counts()"
   ]
  },
  {
   "cell_type": "markdown",
   "id": "f65e8c82",
   "metadata": {},
   "source": [
    "Variável maritalStatus"
   ]
  },
  {
   "cell_type": "code",
   "execution_count": 45,
   "id": "5a95dfe1",
   "metadata": {},
   "outputs": [
    {
     "data": {
      "text/plain": [
       "married-civ-spouse       14692\n",
       "never-married            10488\n",
       "divorced                  4394\n",
       "separated                 1005\n",
       "widowed                    979\n",
       "married-spouse-absent      397\n",
       "married-af-spouse           23\n",
       "Name: maritalStatus, dtype: int64"
      ]
     },
     "execution_count": 45,
     "metadata": {},
     "output_type": "execute_result"
    }
   ],
   "source": [
    "data['maritalStatus'].value_counts()"
   ]
  },
  {
   "cell_type": "code",
   "execution_count": 46,
   "id": "e73b4cd8",
   "metadata": {},
   "outputs": [
    {
     "data": {
      "text/plain": [
       "married          15112\n",
       "never-married    10488\n",
       "separated         5399\n",
       "widowed            979\n",
       "Name: maritalStatus, dtype: int64"
      ]
     },
     "execution_count": 46,
     "metadata": {},
     "output_type": "execute_result"
    }
   ],
   "source": [
    "married= ['married-spouse-absent','married-civ-spouse','married-af-spouse']\n",
    "separated = ['separated','divorced']\n",
    "\n",
    "data['maritalStatus'].replace(to_replace = married ,value = 'married',inplace = True)\n",
    "data['maritalStatus'].replace(to_replace = separated,value = 'separated',inplace = True)\n",
    "\n",
    "data['maritalStatus'].value_counts()"
   ]
  },
  {
   "cell_type": "markdown",
   "id": "fdfffde6",
   "metadata": {},
   "source": [
    "Variável Sex"
   ]
  },
  {
   "cell_type": "code",
   "execution_count": 47,
   "id": "db7e341e",
   "metadata": {},
   "outputs": [
    {
     "data": {
      "text/plain": [
       "male      21370\n",
       "female    10608\n",
       "Name: sex, dtype: int64"
      ]
     },
     "execution_count": 47,
     "metadata": {},
     "output_type": "execute_result"
    }
   ],
   "source": [
    "data['sex'].value_counts()"
   ]
  },
  {
   "cell_type": "code",
   "execution_count": 48,
   "id": "c4734520",
   "metadata": {},
   "outputs": [
    {
     "data": {
      "text/plain": [
       "0    21370\n",
       "1    10608\n",
       "Name: sex, dtype: int64"
      ]
     },
     "execution_count": 48,
     "metadata": {},
     "output_type": "execute_result"
    }
   ],
   "source": [
    "data['sex'].replace('male', 0, inplace=True)\n",
    "data['sex'].replace('female', 1, inplace=True)\n",
    "data['sex'].value_counts()"
   ]
  },
  {
   "cell_type": "markdown",
   "id": "e97beabc",
   "metadata": {},
   "source": [
    "Transformando as variáveis categóricas em númericos para utilizar no modelo"
   ]
  },
  {
   "cell_type": "code",
   "execution_count": 49,
   "id": "7b59c432",
   "metadata": {},
   "outputs": [
    {
     "data": {
      "text/html": [
       "<div>\n",
       "<style scoped>\n",
       "    .dataframe tbody tr th:only-of-type {\n",
       "        vertical-align: middle;\n",
       "    }\n",
       "\n",
       "    .dataframe tbody tr th {\n",
       "        vertical-align: top;\n",
       "    }\n",
       "\n",
       "    .dataframe thead th {\n",
       "        text-align: right;\n",
       "    }\n",
       "</style>\n",
       "<table border=\"1\" class=\"dataframe\">\n",
       "  <thead>\n",
       "    <tr style=\"text-align: right;\">\n",
       "      <th></th>\n",
       "      <th>income</th>\n",
       "      <th>finalWeight</th>\n",
       "      <th>hoursPerWeek</th>\n",
       "      <th>sex</th>\n",
       "      <th>capitalLoss</th>\n",
       "      <th>capitalGain</th>\n",
       "      <th>age</th>\n",
       "      <th>education_HighSchool-grad</th>\n",
       "      <th>education_assoc-acdm</th>\n",
       "      <th>education_assoc-voc</th>\n",
       "      <th>...</th>\n",
       "      <th>relationship_husband</th>\n",
       "      <th>relationship_not-in-family</th>\n",
       "      <th>relationship_other-relative</th>\n",
       "      <th>relationship_own-child</th>\n",
       "      <th>relationship_unmarried</th>\n",
       "      <th>relationship_wife</th>\n",
       "      <th>maritalStatus_married</th>\n",
       "      <th>maritalStatus_never-married</th>\n",
       "      <th>maritalStatus_separated</th>\n",
       "      <th>maritalStatus_widowed</th>\n",
       "    </tr>\n",
       "  </thead>\n",
       "  <tbody>\n",
       "    <tr>\n",
       "      <th>0</th>\n",
       "      <td>0</td>\n",
       "      <td>77516</td>\n",
       "      <td>40</td>\n",
       "      <td>0</td>\n",
       "      <td>0.0</td>\n",
       "      <td>2174.0</td>\n",
       "      <td>39</td>\n",
       "      <td>0</td>\n",
       "      <td>0</td>\n",
       "      <td>0</td>\n",
       "      <td>...</td>\n",
       "      <td>0</td>\n",
       "      <td>1</td>\n",
       "      <td>0</td>\n",
       "      <td>0</td>\n",
       "      <td>0</td>\n",
       "      <td>0</td>\n",
       "      <td>0</td>\n",
       "      <td>1</td>\n",
       "      <td>0</td>\n",
       "      <td>0</td>\n",
       "    </tr>\n",
       "    <tr>\n",
       "      <th>1</th>\n",
       "      <td>0</td>\n",
       "      <td>83311</td>\n",
       "      <td>13</td>\n",
       "      <td>0</td>\n",
       "      <td>0.0</td>\n",
       "      <td>0.0</td>\n",
       "      <td>50</td>\n",
       "      <td>0</td>\n",
       "      <td>0</td>\n",
       "      <td>0</td>\n",
       "      <td>...</td>\n",
       "      <td>1</td>\n",
       "      <td>0</td>\n",
       "      <td>0</td>\n",
       "      <td>0</td>\n",
       "      <td>0</td>\n",
       "      <td>0</td>\n",
       "      <td>1</td>\n",
       "      <td>0</td>\n",
       "      <td>0</td>\n",
       "      <td>0</td>\n",
       "    </tr>\n",
       "    <tr>\n",
       "      <th>2</th>\n",
       "      <td>0</td>\n",
       "      <td>215646</td>\n",
       "      <td>40</td>\n",
       "      <td>0</td>\n",
       "      <td>0.0</td>\n",
       "      <td>0.0</td>\n",
       "      <td>38</td>\n",
       "      <td>1</td>\n",
       "      <td>0</td>\n",
       "      <td>0</td>\n",
       "      <td>...</td>\n",
       "      <td>0</td>\n",
       "      <td>1</td>\n",
       "      <td>0</td>\n",
       "      <td>0</td>\n",
       "      <td>0</td>\n",
       "      <td>0</td>\n",
       "      <td>0</td>\n",
       "      <td>0</td>\n",
       "      <td>1</td>\n",
       "      <td>0</td>\n",
       "    </tr>\n",
       "    <tr>\n",
       "      <th>3</th>\n",
       "      <td>0</td>\n",
       "      <td>160187</td>\n",
       "      <td>16</td>\n",
       "      <td>1</td>\n",
       "      <td>0.0</td>\n",
       "      <td>0.0</td>\n",
       "      <td>49</td>\n",
       "      <td>1</td>\n",
       "      <td>0</td>\n",
       "      <td>0</td>\n",
       "      <td>...</td>\n",
       "      <td>0</td>\n",
       "      <td>1</td>\n",
       "      <td>0</td>\n",
       "      <td>0</td>\n",
       "      <td>0</td>\n",
       "      <td>0</td>\n",
       "      <td>1</td>\n",
       "      <td>0</td>\n",
       "      <td>0</td>\n",
       "      <td>0</td>\n",
       "    </tr>\n",
       "    <tr>\n",
       "      <th>4</th>\n",
       "      <td>1</td>\n",
       "      <td>209642</td>\n",
       "      <td>45</td>\n",
       "      <td>0</td>\n",
       "      <td>0.0</td>\n",
       "      <td>0.0</td>\n",
       "      <td>52</td>\n",
       "      <td>1</td>\n",
       "      <td>0</td>\n",
       "      <td>0</td>\n",
       "      <td>...</td>\n",
       "      <td>1</td>\n",
       "      <td>0</td>\n",
       "      <td>0</td>\n",
       "      <td>0</td>\n",
       "      <td>0</td>\n",
       "      <td>0</td>\n",
       "      <td>1</td>\n",
       "      <td>0</td>\n",
       "      <td>0</td>\n",
       "      <td>0</td>\n",
       "    </tr>\n",
       "  </tbody>\n",
       "</table>\n",
       "<p>5 rows × 94 columns</p>\n",
       "</div>"
      ],
      "text/plain": [
       "   income  finalWeight  hoursPerWeek  sex  capitalLoss  capitalGain  age  \\\n",
       "0       0        77516            40    0          0.0       2174.0   39   \n",
       "1       0        83311            13    0          0.0          0.0   50   \n",
       "2       0       215646            40    0          0.0          0.0   38   \n",
       "3       0       160187            16    1          0.0          0.0   49   \n",
       "4       1       209642            45    0          0.0          0.0   52   \n",
       "\n",
       "   education_HighSchool-grad  education_assoc-acdm  education_assoc-voc  ...  \\\n",
       "0                          0                     0                    0  ...   \n",
       "1                          0                     0                    0  ...   \n",
       "2                          1                     0                    0  ...   \n",
       "3                          1                     0                    0  ...   \n",
       "4                          1                     0                    0  ...   \n",
       "\n",
       "   relationship_husband  relationship_not-in-family  \\\n",
       "0                     0                           1   \n",
       "1                     1                           0   \n",
       "2                     0                           1   \n",
       "3                     0                           1   \n",
       "4                     1                           0   \n",
       "\n",
       "   relationship_other-relative  relationship_own-child  \\\n",
       "0                            0                       0   \n",
       "1                            0                       0   \n",
       "2                            0                       0   \n",
       "3                            0                       0   \n",
       "4                            0                       0   \n",
       "\n",
       "   relationship_unmarried  relationship_wife  maritalStatus_married  \\\n",
       "0                       0                  0                      0   \n",
       "1                       0                  0                      1   \n",
       "2                       0                  0                      0   \n",
       "3                       0                  0                      1   \n",
       "4                       0                  0                      1   \n",
       "\n",
       "   maritalStatus_never-married  maritalStatus_separated  maritalStatus_widowed  \n",
       "0                            1                        0                      0  \n",
       "1                            0                        0                      0  \n",
       "2                            0                        1                      0  \n",
       "3                            0                        0                      0  \n",
       "4                            0                        0                      0  \n",
       "\n",
       "[5 rows x 94 columns]"
      ]
     },
     "execution_count": 49,
     "metadata": {},
     "output_type": "execute_result"
    }
   ],
   "source": [
    "data = pd.get_dummies(data)\n",
    "data.head() "
   ]
  },
  {
   "cell_type": "code",
   "execution_count": 51,
   "id": "e200c040",
   "metadata": {},
   "outputs": [
    {
     "data": {
      "text/html": [
       "<div>\n",
       "<style scoped>\n",
       "    .dataframe tbody tr th:only-of-type {\n",
       "        vertical-align: middle;\n",
       "    }\n",
       "\n",
       "    .dataframe tbody tr th {\n",
       "        vertical-align: top;\n",
       "    }\n",
       "\n",
       "    .dataframe thead th {\n",
       "        text-align: right;\n",
       "    }\n",
       "</style>\n",
       "<table border=\"1\" class=\"dataframe\">\n",
       "  <thead>\n",
       "    <tr style=\"text-align: right;\">\n",
       "      <th></th>\n",
       "      <th>income</th>\n",
       "      <th>finalWeight</th>\n",
       "      <th>hoursPerWeek</th>\n",
       "      <th>sex</th>\n",
       "      <th>capitalLoss</th>\n",
       "      <th>capitalGain</th>\n",
       "      <th>age</th>\n",
       "      <th>education_HighSchool-grad</th>\n",
       "      <th>education_assoc-acdm</th>\n",
       "      <th>education_assoc-voc</th>\n",
       "      <th>...</th>\n",
       "      <th>relationship_husband</th>\n",
       "      <th>relationship_not-in-family</th>\n",
       "      <th>relationship_other-relative</th>\n",
       "      <th>relationship_own-child</th>\n",
       "      <th>relationship_unmarried</th>\n",
       "      <th>relationship_wife</th>\n",
       "      <th>maritalStatus_married</th>\n",
       "      <th>maritalStatus_never-married</th>\n",
       "      <th>maritalStatus_separated</th>\n",
       "      <th>maritalStatus_widowed</th>\n",
       "    </tr>\n",
       "  </thead>\n",
       "  <tbody>\n",
       "    <tr>\n",
       "      <th>income</th>\n",
       "      <td>1.000000</td>\n",
       "      <td>-0.010116</td>\n",
       "      <td>0.270049</td>\n",
       "      <td>-0.216070</td>\n",
       "      <td>0.140098</td>\n",
       "      <td>0.277304</td>\n",
       "      <td>0.272476</td>\n",
       "      <td>-0.204719</td>\n",
       "      <td>0.003330</td>\n",
       "      <td>0.010236</td>\n",
       "      <td>...</td>\n",
       "      <td>0.400973</td>\n",
       "      <td>-0.188240</td>\n",
       "      <td>-0.083111</td>\n",
       "      <td>-0.229401</td>\n",
       "      <td>-0.142525</td>\n",
       "      <td>0.124217</td>\n",
       "      <td>0.435421</td>\n",
       "      <td>-0.318622</td>\n",
       "      <td>-0.151382</td>\n",
       "      <td>-0.064369</td>\n",
       "    </tr>\n",
       "    <tr>\n",
       "      <th>finalWeight</th>\n",
       "      <td>-0.010116</td>\n",
       "      <td>1.000000</td>\n",
       "      <td>-0.021542</td>\n",
       "      <td>-0.024207</td>\n",
       "      <td>-0.007454</td>\n",
       "      <td>-0.005443</td>\n",
       "      <td>-0.078186</td>\n",
       "      <td>0.011629</td>\n",
       "      <td>0.008774</td>\n",
       "      <td>-0.015783</td>\n",
       "      <td>...</td>\n",
       "      <td>-0.022704</td>\n",
       "      <td>0.008357</td>\n",
       "      <td>0.028415</td>\n",
       "      <td>0.017510</td>\n",
       "      <td>0.001094</td>\n",
       "      <td>-0.018837</td>\n",
       "      <td>-0.027735</td>\n",
       "      <td>0.041147</td>\n",
       "      <td>-0.001876</td>\n",
       "      <td>-0.027679</td>\n",
       "    </tr>\n",
       "    <tr>\n",
       "      <th>hoursPerWeek</th>\n",
       "      <td>0.270049</td>\n",
       "      <td>-0.021542</td>\n",
       "      <td>1.000000</td>\n",
       "      <td>-0.265003</td>\n",
       "      <td>0.058824</td>\n",
       "      <td>0.093285</td>\n",
       "      <td>0.142864</td>\n",
       "      <td>-0.084210</td>\n",
       "      <td>0.005799</td>\n",
       "      <td>0.017318</td>\n",
       "      <td>...</td>\n",
       "      <td>0.281645</td>\n",
       "      <td>0.002698</td>\n",
       "      <td>-0.059710</td>\n",
       "      <td>-0.262194</td>\n",
       "      <td>-0.060086</td>\n",
       "      <td>-0.072669</td>\n",
       "      <td>0.239399</td>\n",
       "      <td>-0.214184</td>\n",
       "      <td>-0.000898</td>\n",
       "      <td>-0.108136</td>\n",
       "    </tr>\n",
       "    <tr>\n",
       "      <th>sex</th>\n",
       "      <td>-0.216070</td>\n",
       "      <td>-0.024207</td>\n",
       "      <td>-0.265003</td>\n",
       "      <td>1.000000</td>\n",
       "      <td>-0.042504</td>\n",
       "      <td>-0.067727</td>\n",
       "      <td>-0.100423</td>\n",
       "      <td>-0.011201</td>\n",
       "      <td>0.024180</td>\n",
       "      <td>0.012763</td>\n",
       "      <td>...</td>\n",
       "      <td>-0.580988</td>\n",
       "      <td>0.171331</td>\n",
       "      <td>0.041501</td>\n",
       "      <td>0.101214</td>\n",
       "      <td>0.320725</td>\n",
       "      <td>0.318290</td>\n",
       "      <td>-0.422661</td>\n",
       "      <td>0.172006</td>\n",
       "      <td>0.260807</td>\n",
       "      <td>0.189005</td>\n",
       "    </tr>\n",
       "    <tr>\n",
       "      <th>capitalLoss</th>\n",
       "      <td>0.140098</td>\n",
       "      <td>-0.007454</td>\n",
       "      <td>0.058824</td>\n",
       "      <td>-0.042504</td>\n",
       "      <td>1.000000</td>\n",
       "      <td>-0.066290</td>\n",
       "      <td>0.057875</td>\n",
       "      <td>-0.043466</td>\n",
       "      <td>0.004001</td>\n",
       "      <td>-0.008373</td>\n",
       "      <td>...</td>\n",
       "      <td>0.073134</td>\n",
       "      <td>-0.018552</td>\n",
       "      <td>-0.015937</td>\n",
       "      <td>-0.048708</td>\n",
       "      <td>-0.033902</td>\n",
       "      <td>0.014141</td>\n",
       "      <td>0.074278</td>\n",
       "      <td>-0.057828</td>\n",
       "      <td>-0.023663</td>\n",
       "      <td>-0.006214</td>\n",
       "    </tr>\n",
       "    <tr>\n",
       "      <th>...</th>\n",
       "      <td>...</td>\n",
       "      <td>...</td>\n",
       "      <td>...</td>\n",
       "      <td>...</td>\n",
       "      <td>...</td>\n",
       "      <td>...</td>\n",
       "      <td>...</td>\n",
       "      <td>...</td>\n",
       "      <td>...</td>\n",
       "      <td>...</td>\n",
       "      <td>...</td>\n",
       "      <td>...</td>\n",
       "      <td>...</td>\n",
       "      <td>...</td>\n",
       "      <td>...</td>\n",
       "      <td>...</td>\n",
       "      <td>...</td>\n",
       "      <td>...</td>\n",
       "      <td>...</td>\n",
       "      <td>...</td>\n",
       "      <td>...</td>\n",
       "    </tr>\n",
       "    <tr>\n",
       "      <th>relationship_wife</th>\n",
       "      <td>0.124217</td>\n",
       "      <td>-0.018837</td>\n",
       "      <td>-0.072669</td>\n",
       "      <td>0.318290</td>\n",
       "      <td>0.014141</td>\n",
       "      <td>0.034925</td>\n",
       "      <td>0.031071</td>\n",
       "      <td>-0.016552</td>\n",
       "      <td>0.019983</td>\n",
       "      <td>0.011920</td>\n",
       "      <td>...</td>\n",
       "      <td>-0.185147</td>\n",
       "      <td>-0.131344</td>\n",
       "      <td>-0.039320</td>\n",
       "      <td>-0.096694</td>\n",
       "      <td>-0.077222</td>\n",
       "      <td>1.000000</td>\n",
       "      <td>0.237141</td>\n",
       "      <td>-0.156816</td>\n",
       "      <td>-0.101169</td>\n",
       "      <td>-0.039891</td>\n",
       "    </tr>\n",
       "    <tr>\n",
       "      <th>maritalStatus_married</th>\n",
       "      <td>0.435421</td>\n",
       "      <td>-0.027735</td>\n",
       "      <td>0.239399</td>\n",
       "      <td>-0.422661</td>\n",
       "      <td>0.074278</td>\n",
       "      <td>0.126588</td>\n",
       "      <td>0.350631</td>\n",
       "      <td>-0.039056</td>\n",
       "      <td>-0.010369</td>\n",
       "      <td>0.015941</td>\n",
       "      <td>...</td>\n",
       "      <td>0.871362</td>\n",
       "      <td>-0.523258</td>\n",
       "      <td>-0.109789</td>\n",
       "      <td>-0.384131</td>\n",
       "      <td>-0.299369</td>\n",
       "      <td>0.237141</td>\n",
       "      <td>1.000000</td>\n",
       "      <td>-0.661276</td>\n",
       "      <td>-0.426621</td>\n",
       "      <td>-0.168218</td>\n",
       "    </tr>\n",
       "    <tr>\n",
       "      <th>maritalStatus_never-married</th>\n",
       "      <td>-0.318622</td>\n",
       "      <td>0.041147</td>\n",
       "      <td>-0.214184</td>\n",
       "      <td>0.172006</td>\n",
       "      <td>-0.057828</td>\n",
       "      <td>-0.104302</td>\n",
       "      <td>-0.577826</td>\n",
       "      <td>-0.004319</td>\n",
       "      <td>-0.005599</td>\n",
       "      <td>-0.030638</td>\n",
       "      <td>...</td>\n",
       "      <td>-0.576211</td>\n",
       "      <td>0.295850</td>\n",
       "      <td>0.108865</td>\n",
       "      <td>0.510830</td>\n",
       "      <td>-0.054323</td>\n",
       "      <td>-0.156816</td>\n",
       "      <td>-0.661276</td>\n",
       "      <td>1.000000</td>\n",
       "      <td>-0.314859</td>\n",
       "      <td>-0.124150</td>\n",
       "    </tr>\n",
       "    <tr>\n",
       "      <th>maritalStatus_separated</th>\n",
       "      <td>-0.151382</td>\n",
       "      <td>-0.001876</td>\n",
       "      <td>-0.000898</td>\n",
       "      <td>0.260807</td>\n",
       "      <td>-0.023663</td>\n",
       "      <td>-0.034896</td>\n",
       "      <td>0.154845</td>\n",
       "      <td>0.038780</td>\n",
       "      <td>0.025181</td>\n",
       "      <td>0.017492</td>\n",
       "      <td>...</td>\n",
       "      <td>-0.371742</td>\n",
       "      <td>0.270604</td>\n",
       "      <td>0.001115</td>\n",
       "      <td>-0.096500</td>\n",
       "      <td>0.393405</td>\n",
       "      <td>-0.101169</td>\n",
       "      <td>-0.426621</td>\n",
       "      <td>-0.314859</td>\n",
       "      <td>1.000000</td>\n",
       "      <td>-0.080095</td>\n",
       "    </tr>\n",
       "    <tr>\n",
       "      <th>maritalStatus_widowed</th>\n",
       "      <td>-0.064369</td>\n",
       "      <td>-0.027679</td>\n",
       "      <td>-0.108136</td>\n",
       "      <td>0.189005</td>\n",
       "      <td>-0.006214</td>\n",
       "      <td>-0.006730</td>\n",
       "      <td>0.221846</td>\n",
       "      <td>0.040627</td>\n",
       "      <td>-0.009450</td>\n",
       "      <td>-0.000736</td>\n",
       "      <td>...</td>\n",
       "      <td>-0.146579</td>\n",
       "      <td>0.121729</td>\n",
       "      <td>0.019070</td>\n",
       "      <td>-0.069058</td>\n",
       "      <td>0.160156</td>\n",
       "      <td>-0.039891</td>\n",
       "      <td>-0.168218</td>\n",
       "      <td>-0.124150</td>\n",
       "      <td>-0.080095</td>\n",
       "      <td>1.000000</td>\n",
       "    </tr>\n",
       "  </tbody>\n",
       "</table>\n",
       "<p>94 rows × 94 columns</p>\n",
       "</div>"
      ],
      "text/plain": [
       "                               income  finalWeight  hoursPerWeek       sex  \\\n",
       "income                       1.000000    -0.010116      0.270049 -0.216070   \n",
       "finalWeight                 -0.010116     1.000000     -0.021542 -0.024207   \n",
       "hoursPerWeek                 0.270049    -0.021542      1.000000 -0.265003   \n",
       "sex                         -0.216070    -0.024207     -0.265003  1.000000   \n",
       "capitalLoss                  0.140098    -0.007454      0.058824 -0.042504   \n",
       "...                               ...          ...           ...       ...   \n",
       "relationship_wife            0.124217    -0.018837     -0.072669  0.318290   \n",
       "maritalStatus_married        0.435421    -0.027735      0.239399 -0.422661   \n",
       "maritalStatus_never-married -0.318622     0.041147     -0.214184  0.172006   \n",
       "maritalStatus_separated     -0.151382    -0.001876     -0.000898  0.260807   \n",
       "maritalStatus_widowed       -0.064369    -0.027679     -0.108136  0.189005   \n",
       "\n",
       "                             capitalLoss  capitalGain       age  \\\n",
       "income                          0.140098     0.277304  0.272476   \n",
       "finalWeight                    -0.007454    -0.005443 -0.078186   \n",
       "hoursPerWeek                    0.058824     0.093285  0.142864   \n",
       "sex                            -0.042504    -0.067727 -0.100423   \n",
       "capitalLoss                     1.000000    -0.066290  0.057875   \n",
       "...                                  ...          ...       ...   \n",
       "relationship_wife               0.014141     0.034925  0.031071   \n",
       "maritalStatus_married           0.074278     0.126588  0.350631   \n",
       "maritalStatus_never-married    -0.057828    -0.104302 -0.577826   \n",
       "maritalStatus_separated        -0.023663    -0.034896  0.154845   \n",
       "maritalStatus_widowed          -0.006214    -0.006730  0.221846   \n",
       "\n",
       "                             education_HighSchool-grad  education_assoc-acdm  \\\n",
       "income                                       -0.204719              0.003330   \n",
       "finalWeight                                   0.011629              0.008774   \n",
       "hoursPerWeek                                 -0.084210              0.005799   \n",
       "sex                                          -0.011201              0.024180   \n",
       "capitalLoss                                  -0.043466              0.004001   \n",
       "...                                                ...                   ...   \n",
       "relationship_wife                            -0.016552              0.019983   \n",
       "maritalStatus_married                        -0.039056             -0.010369   \n",
       "maritalStatus_never-married                  -0.004319             -0.005599   \n",
       "maritalStatus_separated                       0.038780              0.025181   \n",
       "maritalStatus_widowed                         0.040627             -0.009450   \n",
       "\n",
       "                             education_assoc-voc  ...  relationship_husband  \\\n",
       "income                                  0.010236  ...              0.400973   \n",
       "finalWeight                            -0.015783  ...             -0.022704   \n",
       "hoursPerWeek                            0.017318  ...              0.281645   \n",
       "sex                                     0.012763  ...             -0.580988   \n",
       "capitalLoss                            -0.008373  ...              0.073134   \n",
       "...                                          ...  ...                   ...   \n",
       "relationship_wife                       0.011920  ...             -0.185147   \n",
       "maritalStatus_married                   0.015941  ...              0.871362   \n",
       "maritalStatus_never-married            -0.030638  ...             -0.576211   \n",
       "maritalStatus_separated                 0.017492  ...             -0.371742   \n",
       "maritalStatus_widowed                  -0.000736  ...             -0.146579   \n",
       "\n",
       "                             relationship_not-in-family  \\\n",
       "income                                        -0.188240   \n",
       "finalWeight                                    0.008357   \n",
       "hoursPerWeek                                   0.002698   \n",
       "sex                                            0.171331   \n",
       "capitalLoss                                   -0.018552   \n",
       "...                                                 ...   \n",
       "relationship_wife                             -0.131344   \n",
       "maritalStatus_married                         -0.523258   \n",
       "maritalStatus_never-married                    0.295850   \n",
       "maritalStatus_separated                        0.270604   \n",
       "maritalStatus_widowed                          0.121729   \n",
       "\n",
       "                             relationship_other-relative  \\\n",
       "income                                         -0.083111   \n",
       "finalWeight                                     0.028415   \n",
       "hoursPerWeek                                   -0.059710   \n",
       "sex                                             0.041501   \n",
       "capitalLoss                                    -0.015937   \n",
       "...                                                  ...   \n",
       "relationship_wife                              -0.039320   \n",
       "maritalStatus_married                          -0.109789   \n",
       "maritalStatus_never-married                     0.108865   \n",
       "maritalStatus_separated                         0.001115   \n",
       "maritalStatus_widowed                           0.019070   \n",
       "\n",
       "                             relationship_own-child  relationship_unmarried  \\\n",
       "income                                    -0.229401               -0.142525   \n",
       "finalWeight                                0.017510                0.001094   \n",
       "hoursPerWeek                              -0.262194               -0.060086   \n",
       "sex                                        0.101214                0.320725   \n",
       "capitalLoss                               -0.048708               -0.033902   \n",
       "...                                             ...                     ...   \n",
       "relationship_wife                         -0.096694               -0.077222   \n",
       "maritalStatus_married                     -0.384131               -0.299369   \n",
       "maritalStatus_never-married                0.510830               -0.054323   \n",
       "maritalStatus_separated                   -0.096500                0.393405   \n",
       "maritalStatus_widowed                     -0.069058                0.160156   \n",
       "\n",
       "                             relationship_wife  maritalStatus_married  \\\n",
       "income                                0.124217               0.435421   \n",
       "finalWeight                          -0.018837              -0.027735   \n",
       "hoursPerWeek                         -0.072669               0.239399   \n",
       "sex                                   0.318290              -0.422661   \n",
       "capitalLoss                           0.014141               0.074278   \n",
       "...                                        ...                    ...   \n",
       "relationship_wife                     1.000000               0.237141   \n",
       "maritalStatus_married                 0.237141               1.000000   \n",
       "maritalStatus_never-married          -0.156816              -0.661276   \n",
       "maritalStatus_separated              -0.101169              -0.426621   \n",
       "maritalStatus_widowed                -0.039891              -0.168218   \n",
       "\n",
       "                             maritalStatus_never-married  \\\n",
       "income                                         -0.318622   \n",
       "finalWeight                                     0.041147   \n",
       "hoursPerWeek                                   -0.214184   \n",
       "sex                                             0.172006   \n",
       "capitalLoss                                    -0.057828   \n",
       "...                                                  ...   \n",
       "relationship_wife                              -0.156816   \n",
       "maritalStatus_married                          -0.661276   \n",
       "maritalStatus_never-married                     1.000000   \n",
       "maritalStatus_separated                        -0.314859   \n",
       "maritalStatus_widowed                          -0.124150   \n",
       "\n",
       "                             maritalStatus_separated  maritalStatus_widowed  \n",
       "income                                     -0.151382              -0.064369  \n",
       "finalWeight                                -0.001876              -0.027679  \n",
       "hoursPerWeek                               -0.000898              -0.108136  \n",
       "sex                                         0.260807               0.189005  \n",
       "capitalLoss                                -0.023663              -0.006214  \n",
       "...                                              ...                    ...  \n",
       "relationship_wife                          -0.101169              -0.039891  \n",
       "maritalStatus_married                      -0.426621              -0.168218  \n",
       "maritalStatus_never-married                -0.314859              -0.124150  \n",
       "maritalStatus_separated                     1.000000              -0.080095  \n",
       "maritalStatus_widowed                      -0.080095               1.000000  \n",
       "\n",
       "[94 rows x 94 columns]"
      ]
     },
     "execution_count": 51,
     "metadata": {},
     "output_type": "execute_result"
    }
   ],
   "source": [
    "data.corr(method ='spearman')"
   ]
  },
  {
   "cell_type": "code",
   "execution_count": 53,
   "id": "49f26b7f",
   "metadata": {},
   "outputs": [],
   "source": [
    "data.drop('finalWeight', axis = 1,inplace = True)\n",
    "data.drop('capitalGain', axis = 1,inplace = True)\n",
    "data.drop('capitalLoss', axis = 1,inplace = True)\n",
    "data.drop('hoursPerWeek', axis = 1,inplace = True)"
   ]
  },
  {
   "cell_type": "code",
   "execution_count": 54,
   "id": "5d1786dd",
   "metadata": {},
   "outputs": [
    {
     "name": "stdout",
     "output_type": "stream",
     "text": [
      "<class 'pandas.core.frame.DataFrame'>\n",
      "Int64Index: 31978 entries, 0 to 32560\n",
      "Data columns (total 90 columns):\n",
      " #   Column                                    Non-Null Count  Dtype\n",
      "---  ------                                    --------------  -----\n",
      " 0   income                                    31978 non-null  int64\n",
      " 1   sex                                       31978 non-null  int64\n",
      " 2   age                                       31978 non-null  int64\n",
      " 3   education_HighSchool-grad                 31978 non-null  uint8\n",
      " 4   education_assoc-acdm                      31978 non-null  uint8\n",
      " 5   education_assoc-voc                       31978 non-null  uint8\n",
      " 6   education_bachelors                       31978 non-null  uint8\n",
      " 7   education_doctorate                       31978 non-null  uint8\n",
      " 8   education_elementary_school               31978 non-null  uint8\n",
      " 9   education_masters                         31978 non-null  uint8\n",
      " 10  education_preschool                       31978 non-null  uint8\n",
      " 11  education_prof-school                     31978 non-null  uint8\n",
      " 12  education_some-college                    31978 non-null  uint8\n",
      " 13  occupation_adm-clerical                   31978 non-null  uint8\n",
      " 14  occupation_armed-forces                   31978 non-null  uint8\n",
      " 15  occupation_craft-repair                   31978 non-null  uint8\n",
      " 16  occupation_exec-managerial                31978 non-null  uint8\n",
      " 17  occupation_farming-fishing                31978 non-null  uint8\n",
      " 18  occupation_handlers-cleaners              31978 non-null  uint8\n",
      " 19  occupation_machine-op-inspct              31978 non-null  uint8\n",
      " 20  occupation_other-service                  31978 non-null  uint8\n",
      " 21  occupation_priv-house-serv                31978 non-null  uint8\n",
      " 22  occupation_prof-specialty                 31978 non-null  uint8\n",
      " 23  occupation_protective-serv                31978 non-null  uint8\n",
      " 24  occupation_sales                          31978 non-null  uint8\n",
      " 25  occupation_tech-support                   31978 non-null  uint8\n",
      " 26  occupation_transport-moving               31978 non-null  uint8\n",
      " 27  occupation_unemployed                     31978 non-null  uint8\n",
      " 28  race_amer-indian-eskimo                   31978 non-null  uint8\n",
      " 29  race_asian-pac-islander                   31978 non-null  uint8\n",
      " 30  race_black                                31978 non-null  uint8\n",
      " 31  race_other                                31978 non-null  uint8\n",
      " 32  race_white                                31978 non-null  uint8\n",
      " 33  nativeCountry_cambodia                    31978 non-null  uint8\n",
      " 34  nativeCountry_canada                      31978 non-null  uint8\n",
      " 35  nativeCountry_china                       31978 non-null  uint8\n",
      " 36  nativeCountry_columbia                    31978 non-null  uint8\n",
      " 37  nativeCountry_cuba                        31978 non-null  uint8\n",
      " 38  nativeCountry_dominican-republic          31978 non-null  uint8\n",
      " 39  nativeCountry_ecuador                     31978 non-null  uint8\n",
      " 40  nativeCountry_el-salvador                 31978 non-null  uint8\n",
      " 41  nativeCountry_england                     31978 non-null  uint8\n",
      " 42  nativeCountry_france                      31978 non-null  uint8\n",
      " 43  nativeCountry_germany                     31978 non-null  uint8\n",
      " 44  nativeCountry_greece                      31978 non-null  uint8\n",
      " 45  nativeCountry_guatemala                   31978 non-null  uint8\n",
      " 46  nativeCountry_haiti                       31978 non-null  uint8\n",
      " 47  nativeCountry_holand-netherlands          31978 non-null  uint8\n",
      " 48  nativeCountry_honduras                    31978 non-null  uint8\n",
      " 49  nativeCountry_hong                        31978 non-null  uint8\n",
      " 50  nativeCountry_hungary                     31978 non-null  uint8\n",
      " 51  nativeCountry_india                       31978 non-null  uint8\n",
      " 52  nativeCountry_iran                        31978 non-null  uint8\n",
      " 53  nativeCountry_ireland                     31978 non-null  uint8\n",
      " 54  nativeCountry_italy                       31978 non-null  uint8\n",
      " 55  nativeCountry_jamaica                     31978 non-null  uint8\n",
      " 56  nativeCountry_japan                       31978 non-null  uint8\n",
      " 57  nativeCountry_laos                        31978 non-null  uint8\n",
      " 58  nativeCountry_mexico                      31978 non-null  uint8\n",
      " 59  nativeCountry_nicaragua                   31978 non-null  uint8\n",
      " 60  nativeCountry_outlying-us(guam-usvi-etc)  31978 non-null  uint8\n",
      " 61  nativeCountry_peru                        31978 non-null  uint8\n",
      " 62  nativeCountry_philippines                 31978 non-null  uint8\n",
      " 63  nativeCountry_poland                      31978 non-null  uint8\n",
      " 64  nativeCountry_portugal                    31978 non-null  uint8\n",
      " 65  nativeCountry_puerto-rico                 31978 non-null  uint8\n",
      " 66  nativeCountry_scotland                    31978 non-null  uint8\n",
      " 67  nativeCountry_south                       31978 non-null  uint8\n",
      " 68  nativeCountry_taiwan                      31978 non-null  uint8\n",
      " 69  nativeCountry_thailand                    31978 non-null  uint8\n",
      " 70  nativeCountry_trinadad&tobago             31978 non-null  uint8\n",
      " 71  nativeCountry_united-states               31978 non-null  uint8\n",
      " 72  nativeCountry_vietnam                     31978 non-null  uint8\n",
      " 73  nativeCountry_yugoslavia                  31978 non-null  uint8\n",
      " 74  workClass_govern_employees                31978 non-null  uint8\n",
      " 75  workClass_never-worked                    31978 non-null  uint8\n",
      " 76  workClass_private                         31978 non-null  uint8\n",
      " 77  workClass_self_employed                   31978 non-null  uint8\n",
      " 78  workClass_unemployed                      31978 non-null  uint8\n",
      " 79  workClass_without-pay                     31978 non-null  uint8\n",
      " 80  relationship_husband                      31978 non-null  uint8\n",
      " 81  relationship_not-in-family                31978 non-null  uint8\n",
      " 82  relationship_other-relative               31978 non-null  uint8\n",
      " 83  relationship_own-child                    31978 non-null  uint8\n",
      " 84  relationship_unmarried                    31978 non-null  uint8\n",
      " 85  relationship_wife                         31978 non-null  uint8\n",
      " 86  maritalStatus_married                     31978 non-null  uint8\n",
      " 87  maritalStatus_never-married               31978 non-null  uint8\n",
      " 88  maritalStatus_separated                   31978 non-null  uint8\n",
      " 89  maritalStatus_widowed                     31978 non-null  uint8\n",
      "dtypes: int64(3), uint8(87)\n",
      "memory usage: 3.6 MB\n"
     ]
    }
   ],
   "source": [
    "data.info()"
   ]
  },
  {
   "cell_type": "code",
   "execution_count": 55,
   "id": "4936c369",
   "metadata": {},
   "outputs": [
    {
     "name": "stdout",
     "output_type": "stream",
     "text": [
      "(31978, 90)\n"
     ]
    },
    {
     "data": {
      "text/html": [
       "<div>\n",
       "<style scoped>\n",
       "    .dataframe tbody tr th:only-of-type {\n",
       "        vertical-align: middle;\n",
       "    }\n",
       "\n",
       "    .dataframe tbody tr th {\n",
       "        vertical-align: top;\n",
       "    }\n",
       "\n",
       "    .dataframe thead th {\n",
       "        text-align: right;\n",
       "    }\n",
       "</style>\n",
       "<table border=\"1\" class=\"dataframe\">\n",
       "  <thead>\n",
       "    <tr style=\"text-align: right;\">\n",
       "      <th></th>\n",
       "      <th>count</th>\n",
       "      <th>mean</th>\n",
       "      <th>std</th>\n",
       "      <th>min</th>\n",
       "      <th>25%</th>\n",
       "      <th>50%</th>\n",
       "      <th>75%</th>\n",
       "      <th>max</th>\n",
       "    </tr>\n",
       "  </thead>\n",
       "  <tbody>\n",
       "    <tr>\n",
       "      <th>income</th>\n",
       "      <td>31978.0</td>\n",
       "      <td>0.240634</td>\n",
       "      <td>0.427475</td>\n",
       "      <td>0.0</td>\n",
       "      <td>0.0</td>\n",
       "      <td>0.0</td>\n",
       "      <td>0.0</td>\n",
       "      <td>1.0</td>\n",
       "    </tr>\n",
       "    <tr>\n",
       "      <th>sex</th>\n",
       "      <td>31978.0</td>\n",
       "      <td>0.331728</td>\n",
       "      <td>0.470841</td>\n",
       "      <td>0.0</td>\n",
       "      <td>0.0</td>\n",
       "      <td>0.0</td>\n",
       "      <td>1.0</td>\n",
       "      <td>1.0</td>\n",
       "    </tr>\n",
       "    <tr>\n",
       "      <th>age</th>\n",
       "      <td>31978.0</td>\n",
       "      <td>38.579023</td>\n",
       "      <td>13.662085</td>\n",
       "      <td>17.0</td>\n",
       "      <td>28.0</td>\n",
       "      <td>37.0</td>\n",
       "      <td>48.0</td>\n",
       "      <td>90.0</td>\n",
       "    </tr>\n",
       "    <tr>\n",
       "      <th>education_HighSchool-grad</th>\n",
       "      <td>31978.0</td>\n",
       "      <td>0.418381</td>\n",
       "      <td>0.493301</td>\n",
       "      <td>0.0</td>\n",
       "      <td>0.0</td>\n",
       "      <td>0.0</td>\n",
       "      <td>1.0</td>\n",
       "      <td>1.0</td>\n",
       "    </tr>\n",
       "    <tr>\n",
       "      <th>education_assoc-acdm</th>\n",
       "      <td>31978.0</td>\n",
       "      <td>0.032991</td>\n",
       "      <td>0.178617</td>\n",
       "      <td>0.0</td>\n",
       "      <td>0.0</td>\n",
       "      <td>0.0</td>\n",
       "      <td>0.0</td>\n",
       "      <td>1.0</td>\n",
       "    </tr>\n",
       "    <tr>\n",
       "      <th>...</th>\n",
       "      <td>...</td>\n",
       "      <td>...</td>\n",
       "      <td>...</td>\n",
       "      <td>...</td>\n",
       "      <td>...</td>\n",
       "      <td>...</td>\n",
       "      <td>...</td>\n",
       "      <td>...</td>\n",
       "    </tr>\n",
       "    <tr>\n",
       "      <th>relationship_wife</th>\n",
       "      <td>31978.0</td>\n",
       "      <td>0.047970</td>\n",
       "      <td>0.213707</td>\n",
       "      <td>0.0</td>\n",
       "      <td>0.0</td>\n",
       "      <td>0.0</td>\n",
       "      <td>0.0</td>\n",
       "      <td>1.0</td>\n",
       "    </tr>\n",
       "    <tr>\n",
       "      <th>maritalStatus_married</th>\n",
       "      <td>31978.0</td>\n",
       "      <td>0.472575</td>\n",
       "      <td>0.499255</td>\n",
       "      <td>0.0</td>\n",
       "      <td>0.0</td>\n",
       "      <td>0.0</td>\n",
       "      <td>1.0</td>\n",
       "      <td>1.0</td>\n",
       "    </tr>\n",
       "    <tr>\n",
       "      <th>maritalStatus_never-married</th>\n",
       "      <td>31978.0</td>\n",
       "      <td>0.327975</td>\n",
       "      <td>0.469483</td>\n",
       "      <td>0.0</td>\n",
       "      <td>0.0</td>\n",
       "      <td>0.0</td>\n",
       "      <td>1.0</td>\n",
       "      <td>1.0</td>\n",
       "    </tr>\n",
       "    <tr>\n",
       "      <th>maritalStatus_separated</th>\n",
       "      <td>31978.0</td>\n",
       "      <td>0.168835</td>\n",
       "      <td>0.374612</td>\n",
       "      <td>0.0</td>\n",
       "      <td>0.0</td>\n",
       "      <td>0.0</td>\n",
       "      <td>0.0</td>\n",
       "      <td>1.0</td>\n",
       "    </tr>\n",
       "    <tr>\n",
       "      <th>maritalStatus_widowed</th>\n",
       "      <td>31978.0</td>\n",
       "      <td>0.030615</td>\n",
       "      <td>0.172274</td>\n",
       "      <td>0.0</td>\n",
       "      <td>0.0</td>\n",
       "      <td>0.0</td>\n",
       "      <td>0.0</td>\n",
       "      <td>1.0</td>\n",
       "    </tr>\n",
       "  </tbody>\n",
       "</table>\n",
       "<p>90 rows × 8 columns</p>\n",
       "</div>"
      ],
      "text/plain": [
       "                               count       mean        std   min   25%   50%  \\\n",
       "income                       31978.0   0.240634   0.427475   0.0   0.0   0.0   \n",
       "sex                          31978.0   0.331728   0.470841   0.0   0.0   0.0   \n",
       "age                          31978.0  38.579023  13.662085  17.0  28.0  37.0   \n",
       "education_HighSchool-grad    31978.0   0.418381   0.493301   0.0   0.0   0.0   \n",
       "education_assoc-acdm         31978.0   0.032991   0.178617   0.0   0.0   0.0   \n",
       "...                              ...        ...        ...   ...   ...   ...   \n",
       "relationship_wife            31978.0   0.047970   0.213707   0.0   0.0   0.0   \n",
       "maritalStatus_married        31978.0   0.472575   0.499255   0.0   0.0   0.0   \n",
       "maritalStatus_never-married  31978.0   0.327975   0.469483   0.0   0.0   0.0   \n",
       "maritalStatus_separated      31978.0   0.168835   0.374612   0.0   0.0   0.0   \n",
       "maritalStatus_widowed        31978.0   0.030615   0.172274   0.0   0.0   0.0   \n",
       "\n",
       "                              75%   max  \n",
       "income                        0.0   1.0  \n",
       "sex                           1.0   1.0  \n",
       "age                          48.0  90.0  \n",
       "education_HighSchool-grad     1.0   1.0  \n",
       "education_assoc-acdm          0.0   1.0  \n",
       "...                           ...   ...  \n",
       "relationship_wife             0.0   1.0  \n",
       "maritalStatus_married         1.0   1.0  \n",
       "maritalStatus_never-married   1.0   1.0  \n",
       "maritalStatus_separated       0.0   1.0  \n",
       "maritalStatus_widowed         0.0   1.0  \n",
       "\n",
       "[90 rows x 8 columns]"
      ]
     },
     "execution_count": 55,
     "metadata": {},
     "output_type": "execute_result"
    }
   ],
   "source": [
    "print(data.shape)\n",
    "data.describe().transpose()"
   ]
  },
  {
   "cell_type": "markdown",
   "id": "ded155d2",
   "metadata": {},
   "source": [
    "Antes de aplicar qualquer modelo de ML, vamos ver se a variável está balanceada. Caso não esteja, teremos um problema que o algoritmo aprenderá muito mais com a classe que tem mais variável (income = 0)."
   ]
  },
  {
   "cell_type": "code",
   "execution_count": 56,
   "id": "e6236d42",
   "metadata": {},
   "outputs": [
    {
     "name": "stdout",
     "output_type": "stream",
     "text": [
      "0    24283\n",
      "1     7695\n",
      "Name: income, dtype: int64\n"
     ]
    },
    {
     "name": "stderr",
     "output_type": "stream",
     "text": [
      "/opt/conda/lib/python3.8/site-packages/seaborn/_decorators.py:36: FutureWarning: Pass the following variable as a keyword arg: x. From version 0.12, the only valid positional argument will be `data`, and passing other arguments without an explicit keyword will result in an error or misinterpretation.\n",
      "  warnings.warn(\n"
     ]
    },
    {
     "data": {
      "image/png": "[encoded data removed]",
      "text/plain": [
       "<Figure size 432x288 with 1 Axes>"
      ]
     },
     "metadata": {},
     "output_type": "display_data"
    }
   ],
   "source": [
    "print(data['income'].value_counts())\n",
    "sns.countplot('income', data=data)\n",
    "plt.show()"
   ]
  },
  {
   "cell_type": "markdown",
   "id": "a6c690f8",
   "metadata": {},
   "source": [
    "A fim de teste, vamos rodar o modelo de Regressão Logística nos dados desbalanceados."
   ]
  },
  {
   "cell_type": "code",
   "execution_count": 57,
   "id": "6d9f91b8",
   "metadata": {},
   "outputs": [],
   "source": [
    "lr = LogisticRegression()"
   ]
  },
  {
   "cell_type": "code",
   "execution_count": 58,
   "id": "5107ffaf",
   "metadata": {},
   "outputs": [],
   "source": [
    "x = data.drop('income'  , axis = 1)\n",
    "y = data.income"
   ]
  },
  {
   "cell_type": "code",
   "execution_count": 59,
   "id": "963b977a",
   "metadata": {},
   "outputs": [],
   "source": [
    "x_train, x_test, y_train, y_test = train_test_split(x, y, random_state = 1, stratify=y)"
   ]
  },
  {
   "cell_type": "code",
   "execution_count": 60,
   "id": "85ed2311",
   "metadata": {},
   "outputs": [
    {
     "name": "stderr",
     "output_type": "stream",
     "text": [
      "/opt/conda/lib/python3.8/site-packages/sklearn/linear_model/_logistic.py:763: ConvergenceWarning: lbfgs failed to converge (status=1):\n",
      "STOP: TOTAL NO. of ITERATIONS REACHED LIMIT.\n",
      "\n",
      "Increase the number of iterations (max_iter) or scale the data as shown in:\n",
      "    https://scikit-learn.org/stable/modules/preprocessing.html\n",
      "Please also refer to the documentation for alternative solver options:\n",
      "    https://scikit-learn.org/stable/modules/linear_model.html#logistic-regression\n",
      "  n_iter_i = _check_optimize_result(\n"
     ]
    },
    {
     "data": {
      "text/plain": [
       "LogisticRegression()"
      ]
     },
     "execution_count": 60,
     "metadata": {},
     "output_type": "execute_result"
    }
   ],
   "source": [
    "lr.fit(x_train, y_train)"
   ]
  },
  {
   "cell_type": "code",
   "execution_count": 62,
   "id": "45045f23",
   "metadata": {},
   "outputs": [],
   "source": [
    "y_pred = lr.predict(x_test)"
   ]
  },
  {
   "cell_type": "code",
   "execution_count": 63,
   "id": "d7a62230",
   "metadata": {},
   "outputs": [
    {
     "name": "stdout",
     "output_type": "stream",
     "text": [
      "0.8282676672920576\n"
     ]
    }
   ],
   "source": [
    "print(accuracy_score(y_test, y_pred))"
   ]
  },
  {
   "cell_type": "code",
   "execution_count": 64,
   "id": "77442f36",
   "metadata": {},
   "outputs": [
    {
     "name": "stdout",
     "output_type": "stream",
     "text": [
      "              precision    recall  f1-score   support\n",
      "\n",
      "           0       0.86      0.92      0.89      6071\n",
      "           1       0.69      0.53      0.60      1924\n",
      "\n",
      "    accuracy                           0.83      7995\n",
      "   macro avg       0.77      0.73      0.74      7995\n",
      "weighted avg       0.82      0.83      0.82      7995\n",
      "\n"
     ]
    }
   ],
   "source": [
    "print(classification_report(y_test, y_pred))"
   ]
  },
  {
   "cell_type": "code",
   "execution_count": 65,
   "id": "a0db6e4a",
   "metadata": {},
   "outputs": [
    {
     "name": "stdout",
     "output_type": "stream",
     "text": [
      "Predito     0     1   All\n",
      "Real                     \n",
      "0        5608   463  6071\n",
      "1         910  1014  1924\n",
      "All      6518  1477  7995\n"
     ]
    }
   ],
   "source": [
    "print(pd.crosstab(y_test, y_pred, rownames=['Real'], colnames=['Predito'], margins=True))"
   ]
  },
  {
   "cell_type": "markdown",
   "id": "aa6c2e12",
   "metadata": {},
   "source": [
    "Olhando os resultados acima, notamos que o Recall (numero de acertos) é baixa para a classe 1. Ou seja, confirma a teoria que o desbalanceamento fará com que o modelo aprenda mais sobre a classe majoritária.\n",
    "\n",
    "Sendo assim, vamos usar técnicas para balancear as classes. Como temos uma boa quantidade da classe income = 1, vamos fazer um undersampling (igualar as quantidades de amostras entre as classes)."
   ]
  },
  {
   "cell_type": "code",
   "execution_count": 74,
   "id": "a8b60485",
   "metadata": {},
   "outputs": [],
   "source": [
    "nr = NearMiss()"
   ]
  },
  {
   "cell_type": "markdown",
   "id": "334f3a56",
   "metadata": {},
   "source": [
    "Aplicando o NearMiss"
   ]
  },
  {
   "cell_type": "code",
   "execution_count": 103,
   "id": "ae9d9557",
   "metadata": {},
   "outputs": [],
   "source": [
    "x, y = nr.fit_resample(x, y)"
   ]
  },
  {
   "cell_type": "code",
   "execution_count": 76,
   "id": "aac16d0e",
   "metadata": {},
   "outputs": [
    {
     "data": {
      "image/png": "[encoded data removed]",
      "text/plain": [
       "<Figure size 432x288 with 1 Axes>"
      ]
     },
     "metadata": {},
     "output_type": "display_data"
    }
   ],
   "source": [
    "ax = sns.countplot(x=y)"
   ]
  },
  {
   "cell_type": "code",
   "execution_count": 77,
   "id": "1c758ec4",
   "metadata": {},
   "outputs": [],
   "source": [
    "x_train, x_test, y_train, y_test = train_test_split(x, y, random_state = 1, stratify=y)"
   ]
  },
  {
   "cell_type": "code",
   "execution_count": 78,
   "id": "7d94f0b4",
   "metadata": {},
   "outputs": [],
   "source": [
    "lr = LogisticRegression()"
   ]
  },
  {
   "cell_type": "code",
   "execution_count": 79,
   "id": "88ade9b8",
   "metadata": {},
   "outputs": [
    {
     "name": "stderr",
     "output_type": "stream",
     "text": [
      "/opt/conda/lib/python3.8/site-packages/sklearn/linear_model/_logistic.py:763: ConvergenceWarning: lbfgs failed to converge (status=1):\n",
      "STOP: TOTAL NO. of ITERATIONS REACHED LIMIT.\n",
      "\n",
      "Increase the number of iterations (max_iter) or scale the data as shown in:\n",
      "    https://scikit-learn.org/stable/modules/preprocessing.html\n",
      "Please also refer to the documentation for alternative solver options:\n",
      "    https://scikit-learn.org/stable/modules/linear_model.html#logistic-regression\n",
      "  n_iter_i = _check_optimize_result(\n"
     ]
    },
    {
     "data": {
      "text/plain": [
       "LogisticRegression()"
      ]
     },
     "execution_count": 79,
     "metadata": {},
     "output_type": "execute_result"
    }
   ],
   "source": [
    "lr.fit(x_train, y_train)"
   ]
  },
  {
   "cell_type": "code",
   "execution_count": 80,
   "id": "066d34c1",
   "metadata": {},
   "outputs": [],
   "source": [
    "y_pred = lr.predict(x_test)"
   ]
  },
  {
   "cell_type": "code",
   "execution_count": 81,
   "id": "4481c2f7",
   "metadata": {},
   "outputs": [
    {
     "name": "stdout",
     "output_type": "stream",
     "text": [
      "0.8282676672920576\n"
     ]
    }
   ],
   "source": [
    "print(accuracy_score(y_test, y_pred))"
   ]
  },
  {
   "cell_type": "code",
   "execution_count": 82,
   "id": "2d9f08c2",
   "metadata": {},
   "outputs": [
    {
     "name": "stdout",
     "output_type": "stream",
     "text": [
      "              precision    recall  f1-score   support\n",
      "\n",
      "           0       0.86      0.92      0.89      6071\n",
      "           1       0.69      0.53      0.60      1924\n",
      "\n",
      "    accuracy                           0.83      7995\n",
      "   macro avg       0.77      0.73      0.74      7995\n",
      "weighted avg       0.82      0.83      0.82      7995\n",
      "\n"
     ]
    }
   ],
   "source": [
    "print(classification_report(y_test, y_pred))"
   ]
  },
  {
   "cell_type": "code",
   "execution_count": 83,
   "id": "e57928b3",
   "metadata": {},
   "outputs": [
    {
     "name": "stdout",
     "output_type": "stream",
     "text": [
      "Predito     0     1   All\n",
      "Real                     \n",
      "0        5608   463  6071\n",
      "1         910  1014  1924\n",
      "All      6518  1477  7995\n"
     ]
    }
   ],
   "source": [
    "print(pd.crosstab(y_test, y_pred, rownames=['Real'], colnames=['Predito'], margins=True))"
   ]
  },
  {
   "cell_type": "code",
   "execution_count": 84,
   "id": "4d38fbb4",
   "metadata": {},
   "outputs": [],
   "source": [
    "smt = SMOTE()"
   ]
  },
  {
   "cell_type": "code",
   "execution_count": 94,
   "id": "0ca045d0",
   "metadata": {},
   "outputs": [],
   "source": [
    "x, y = smt.fit_resample(x, y)"
   ]
  },
  {
   "cell_type": "code",
   "execution_count": 95,
   "id": "afacbd58",
   "metadata": {},
   "outputs": [
    {
     "data": {
      "image/png": "[encoded data removed]",
      "text/plain": [
       "<Figure size 432x288 with 1 Axes>"
      ]
     },
     "metadata": {},
     "output_type": "display_data"
    }
   ],
   "source": [
    "ax = sns.countplot(x=y)"
   ]
  },
  {
   "cell_type": "code",
   "execution_count": 96,
   "id": "42190731",
   "metadata": {},
   "outputs": [],
   "source": [
    "x_train, x_test, y_train, y_test = train_test_split(x, y, random_state = 1, stratify=y)"
   ]
  },
  {
   "cell_type": "code",
   "execution_count": 97,
   "id": "0d6bb945",
   "metadata": {},
   "outputs": [],
   "source": [
    "lr = LogisticRegression()"
   ]
  },
  {
   "cell_type": "code",
   "execution_count": 98,
   "id": "6b02f7bc",
   "metadata": {},
   "outputs": [
    {
     "name": "stderr",
     "output_type": "stream",
     "text": [
      "/opt/conda/lib/python3.8/site-packages/sklearn/linear_model/_logistic.py:763: ConvergenceWarning: lbfgs failed to converge (status=1):\n",
      "STOP: TOTAL NO. of ITERATIONS REACHED LIMIT.\n",
      "\n",
      "Increase the number of iterations (max_iter) or scale the data as shown in:\n",
      "    https://scikit-learn.org/stable/modules/preprocessing.html\n",
      "Please also refer to the documentation for alternative solver options:\n",
      "    https://scikit-learn.org/stable/modules/linear_model.html#logistic-regression\n",
      "  n_iter_i = _check_optimize_result(\n"
     ]
    },
    {
     "data": {
      "text/plain": [
       "LogisticRegression()"
      ]
     },
     "execution_count": 98,
     "metadata": {},
     "output_type": "execute_result"
    }
   ],
   "source": [
    "lr.fit(x_train, y_train)"
   ]
  },
  {
   "cell_type": "code",
   "execution_count": 99,
   "id": "a7645cbc",
   "metadata": {},
   "outputs": [],
   "source": [
    "y_pred = lr.predict(x_test)"
   ]
  },
  {
   "cell_type": "code",
   "execution_count": 100,
   "id": "0645eca0",
   "metadata": {},
   "outputs": [
    {
     "name": "stdout",
     "output_type": "stream",
     "text": [
      "0.8511777301927195\n"
     ]
    }
   ],
   "source": [
    "print(accuracy_score(y_test, y_pred))"
   ]
  },
  {
   "cell_type": "code",
   "execution_count": 1,
   "id": "26a5a474",
   "metadata": {},
   "outputs": [
    {
     "ename": "NameError",
     "evalue": "name 'classification_report' is not defined",
     "output_type": "error",
     "traceback": [
      "\u001b[0;31m---------------------------------------------------------------------------\u001b[0m",
      "\u001b[0;31mNameError\u001b[0m                                 Traceback (most recent call last)",
      "\u001b[0;32m<ipython-input-1-e7622b950e3d>\u001b[0m in \u001b[0;36m<module>\u001b[0;34m\u001b[0m\n\u001b[0;32m----> 1\u001b[0;31m \u001b[0mprint\u001b[0m\u001b[0;34m(\u001b[0m\u001b[0mclassification_report\u001b[0m\u001b[0;34m(\u001b[0m\u001b[0my_test\u001b[0m\u001b[0;34m,\u001b[0m \u001b[0my_pred\u001b[0m\u001b[0;34m)\u001b[0m\u001b[0;34m)\u001b[0m\u001b[0;34m\u001b[0m\u001b[0;34m\u001b[0m\u001b[0m\n\u001b[0m",
      "\u001b[0;31mNameError\u001b[0m: name 'classification_report' is not defined"
     ]
    }
   ],
   "source": [
    "print(classification_report(y_test, y_pred))"
   ]
  },
  {
   "cell_type": "code",
   "execution_count": 102,
   "id": "f1869bb9",
   "metadata": {},
   "outputs": [
    {
     "name": "stdout",
     "output_type": "stream",
     "text": [
      "Predito     0     1    All\n",
      "Real                      \n",
      "0        4995  1076   6071\n",
      "1         731  5340   6071\n",
      "All      5726  6416  12142\n"
     ]
    }
   ],
   "source": [
    "print(pd.crosstab(y_test, y_pred, rownames=['Real'], colnames=['Predito'], margins=True))"
   ]
  },
  {
   "cell_type": "code",
   "execution_count": null,
   "id": "0e6ebc05",
   "metadata": {},
   "outputs": [],
   "source": []
  }
 ],
 "metadata": {
  "kernelspec": {
   "display_name": "Python 3",
   "language": "python",
   "name": "python3"
  },
  "language_info": {
   "codemirror_mode": {
    "name": "ipython",
    "version": 3
   },
   "file_extension": ".py",
   "mimetype": "text/x-python",
   "name": "python",
   "nbconvert_exporter": "python",
   "pygments_lexer": "ipython3",
   "version": "3.8.8"
  }
 },
 "nbformat": 4,
 "nbformat_minor": 5
}
